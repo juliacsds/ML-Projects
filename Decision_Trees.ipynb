{
  "cells": [
    {
      "cell_type": "markdown",
      "metadata": {
        "id": "lHY4sWi_4DKf"
      },
      "source": []
    },
    {
      "cell_type": "code",
      "execution_count": null,
      "metadata": {
        "collapsed": true,
        "id": "dkP-c3Lh4DKi"
      },
      "outputs": [],
      "source": []
    },
    {
      "cell_type": "markdown",
      "metadata": {
        "collapsed": true,
        "id": "xtf1SUXb4DKk"
      },
      "source": [
        "# Decision Trees\n",
        "\n",
        "In this assignment we'll implement the Decision Tree algorithm to classify patients as either having or not having diabetic retinopathy. For this task we'll be using the Diabetic Retinopathy data set, which contains features from the Messidor image set to predict whether an image contains signs of diabetic retinopathy or not. This dataset has `1150` records and `20` attributes (some categorical, some continuous). You can find additional details about the dataset [here](http://archive.ics.uci.edu/ml/datasets/Diabetic+Retinopathy+Debrecen+Data+Set)."
      ]
    },
    {
      "cell_type": "markdown",
      "metadata": {
        "id": "u0sU2vpF4DKl"
      },
      "source": [
        "Attribute Information:\n",
        "\n",
        "0) The binary result of quality assessment. 0 = bad quality 1 = sufficient quality.\n",
        "\n",
        "1) The binary result of pre-screening, where 1 indicates severe retinal abnormality and 0 its lack.\n",
        "\n",
        "2-7) The results of MA detection. Each feature value stand for the number of MAs found at the confidence levels alpha = 0.5, . . . , 1, respectively.\n",
        "\n",
        "8-15) contain the same information as 2-7) for exudates. However, as exudates are represented by a set of points rather than the number of pixels constructing the lesions, these features are normalized by dividing the\n",
        "number of lesions with the diameter of the ROI to compensate different image sizes.\n",
        "\n",
        "16) The euclidean distance of the center of the macula and the center of the optic disc to provide important information regarding the patient's condition. This feature is also normalized with the diameter of the ROI.\n",
        "\n",
        "17) The diameter of the optic disc.\n",
        "\n",
        "18) The binary result of the AM/FM-based classification.\n",
        "\n",
        "19) Class label. 1 = contains signs of Diabetic Retinopathy, 0 = no signs of Diabetic Retinopathy."
      ]
    },
    {
      "cell_type": "markdown",
      "metadata": {
        "id": "-MRENlo14DKl"
      },
      "source": [
        "#### Implementation:\n",
        "The function prototypes are given to you, please don't change those. You can add additional helper functions if needed.\n",
        "\n",
        "*Suggestion:* The dataset is substantially big, for the purpose of easy debugging, work with a subset of the data and test your decision tree implementation on that.\n",
        "\n",
        "#### Notes:\n",
        "Parts of this assignment will be **autograded** so a couple of caveats :-\n",
        "- Entropy is calculated using log with base 2, `math.log2(x)`.\n",
        "- For continuous features ensure that the threshold value lies exactly between 2 values. For example, if for feature 2 the best split occurs between 10 and 15 then the threshold value will be set as 12.5. For binary features [0/1] the threshold value will be 0.5.\n",
        "- All values < `thresh_val` go to the left child and all values >= `thresh_val` go to the right child."
      ]
    },
    {
      "cell_type": "code",
      "execution_count": null,
      "metadata": {
        "collapsed": true,
        "id": "W-f0tAzz4DKm"
      },
      "outputs": [],
      "source": [
        "# Standard Headers\n",
        "# You are welcome to add additional headers if you wish\n",
        "# EXCEPT for scikit-learn... You may NOT use scikit-learn for this assignment!\n",
        "import pandas as pd\n",
        "import csv\n",
        "import io\n",
        "import numpy as np\n",
        "import math\n",
        "from math import log2"
      ]
    },
    {
      "cell_type": "code",
      "execution_count": null,
      "metadata": {
        "collapsed": true,
        "id": "-um1X1RO4DKm"
      },
      "outputs": [],
      "source": [
        "class DataPoint:\n",
        "    def __str__(self):\n",
        "        return \"< \" + str(self.label) + \": \" + str(self.features) + \" >\"\n",
        "    def __init__(self, label, features):\n",
        "        self.label = label # the classification label of this data point\n",
        "        self.features = features"
      ]
    },
    {
      "cell_type": "markdown",
      "metadata": {
        "id": "BETaFsMS4DKn"
      },
      "source": [
        "Q1. Read data from a CSV file. Put it into a list of `DataPoints`."
      ]
    },
    {
      "cell_type": "code",
      "execution_count": null,
      "metadata": {
        "collapsed": true,
        "id": "npdWW5S34DKn"
      },
      "outputs": [],
      "source": [
        "def get_data(filename):\n",
        "    data = []\n",
        "    open_file = open(filename, 'r')\n",
        "\n",
        "    while True:\n",
        "      line = open_file.readline()\n",
        "      if not line:\n",
        "        break\n",
        "      features = line.split(\",\")\n",
        "      label = int(features[19])\n",
        "      features = [float(x) for x in features[:19]]\n",
        "      data.append(DataPoint(label, features))\n",
        "     # print(data)\n",
        "    return data\n",
        ""
      ]
    },
    {
      "cell_type": "code",
      "execution_count": null,
      "metadata": {
        "collapsed": true,
        "id": "YymzgJ4R4DKo"
      },
      "outputs": [],
      "source": [
        "class TreeNode:\n",
        "    is_leaf = True          # boolean variable to check if the node is a leaf\n",
        "    feature_idx = None      # index that identifies the feature\n",
        "    thresh_val = None       # threshold value that splits the node\n",
        "    prediction = None       # prediction class (only valid for leaf nodes)\n",
        "    left_child = None       # left TreeNode (all values < thresh_val)\n",
        "    right_child = None      # right TreeNode (all values >= thresh_val)\n",
        "\n",
        "    def printTree(self, level=0):    # for debugging purposes\n",
        "        if self.is_leaf:\n",
        "            print ('-'*level + 'Leaf Node:      predicts ' + str(self.prediction))\n",
        "        else:\n",
        "            print ('-'*level + 'Internal Node:  splits on feature '\n",
        "                   + str(self.feature_idx) + ' with threshold ' + str(self.thresh_val))\n",
        "            self.left_child.printTree(level+1)\n",
        "            self.right_child.printTree(level+1)"
      ]
    },
    {
      "cell_type": "markdown",
      "metadata": {
        "id": "2vEHpjMq4DKo"
      },
      "source": [
        "Q2. Implement the function `make_prediction` that takes the decision tree root and a `DataPoint` instance and returns the prediction label."
      ]
    },
    {
      "cell_type": "code",
      "execution_count": null,
      "metadata": {
        "collapsed": true,
        "id": "ArA25pQ04DKp"
      },
      "outputs": [],
      "source": [
        "def make_prediction(tree_root, data_point):\n",
        "  #do you have to traverse the tree?\n",
        "#     your code goes here\n",
        "\n",
        "    if tree_root.is_leaf == True:\n",
        "      return tree_root.prediction\n",
        "\n",
        "    #we go down the tree based on what?\n",
        "    if data_point.features[tree_root.feature_idx] < tree_root.thresh_val:\n",
        "      return make_prediction(tree_root.left_child, data_point)\n",
        "    elif data_point.features[tree_root.feature_idx] >= tree_root.thresh_val:\n",
        "      return make_prediction(tree_root.right_child, data_point)\n",
        "    else:\n",
        "      return None\n"
      ]
    },
    {
      "cell_type": "markdown",
      "metadata": {
        "id": "9v9XvaOs4DKp"
      },
      "source": [
        "Q3. Implement the function `split_dataset` given an input data set, a `feature_idx` and the `threshold` for the feature. `left_split` will have all values < `threshold` and `right_split` will have all values >= `threshold`."
      ]
    },
    {
      "cell_type": "code",
      "execution_count": null,
      "metadata": {
        "collapsed": true,
        "id": "2FGbpFpI4DKp"
      },
      "outputs": [],
      "source": [
        "def split_dataset(data, feature_idx, threshold):\n",
        "    left_split = []\n",
        "    right_split = []\n",
        "    for dp in data:\n",
        "      feature_value = float(dp.features[feature_idx])\n",
        "      if feature_value < threshold:\n",
        "          left_split.append(dp)\n",
        "      else: right_split.append(dp)\n",
        "    return (left_split, right_split)"
      ]
    },
    {
      "cell_type": "markdown",
      "metadata": {
        "id": "escteXiX4DKq"
      },
      "source": [
        "Q4. Implement the function `calc_entropy` to return the entropy of the input dataset."
      ]
    },
    {
      "cell_type": "code",
      "execution_count": null,
      "metadata": {
        "collapsed": true,
        "id": "HW_GMPlU4DKq"
      },
      "outputs": [],
      "source": [
        "def calc_entropy(data):\n",
        "  sum = 0\n",
        "  variable1 = 0\n",
        "  variable2 = 0\n",
        "  entrophy = 0\n",
        "  for dp in data:\n",
        "    #print(dp)\n",
        "    temp_label = dp.label\n",
        "    sum = sum + 1\n",
        "    if temp_label == 1:\n",
        "      variable1 = variable1 + 1\n",
        "    else:\n",
        "      variable2 = variable2 + 1\n",
        "  if sum == 0:\n",
        "    return 0\n",
        "  if variable1 == 0:\n",
        "    entropy = -(variable2/sum) * math.log2(variable2/sum)\n",
        "  elif variable2 == 0:\n",
        "      entropy = -(variable1/sum) * math.log2(variable1/sum)\n",
        "  elif variable1 == 0 and variable2 == 0:\n",
        "      return 0\n",
        "  else:\n",
        "    entropy = -(variable1/sum) * math.log2(variable1/sum) - (variable2/sum) * math.log2(variable2/sum)\n",
        "\n",
        "#     your code goes here\n",
        "  return entropy"
      ]
    },
    {
      "cell_type": "code",
      "source": [
        "from numpy.lib.npyio import DataSource\n",
        "data = get_data(\"messidor_features.csv\")\n",
        "calc_entropy(data)"
      ],
      "metadata": {
        "colab": {
          "base_uri": "https://localhost:8080/"
        },
        "id": "o9yySG99_nfJ",
        "outputId": "efd34810-f859-4229-ddd8-d2e1e4ea16f1"
      },
      "execution_count": null,
      "outputs": [
        {
          "output_type": "execute_result",
          "data": {
            "text/plain": [
              "0.9971705766292643"
            ]
          },
          "metadata": {},
          "execution_count": 160
        }
      ]
    },
    {
      "cell_type": "markdown",
      "metadata": {
        "id": "jXBCzKll4DKq"
      },
      "source": [
        "Q5. Implement the function `calc_best_threshold` which returns the best information gain and the corresponding threshold value for one feature at `feature_idx`."
      ]
    },
    {
      "cell_type": "code",
      "execution_count": null,
      "metadata": {
        "collapsed": true,
        "id": "u4oZIVkd4DKq"
      },
      "outputs": [],
      "source": [
        "def calc_best_threshold(data, feature_idx):\n",
        "    best_info_gain = 0\n",
        "    best_thresh = None\n",
        "    #calculate initial entrophy\n",
        "    initial_entrophy = calc_entropy(data)\n",
        "    #create clone\n",
        "\n",
        "    #sort by feature value\n",
        "    data.sort(key=lambda a: a.features[feature_idx])\n",
        "    for i in range (0, len(data) - 1, 1):\n",
        "        #calculates threshold value between every interval\n",
        "        #0, 1, 18 binary set threshold immediately to .5\n",
        "        #set gain\n",
        "        first = float((data[i].features[feature_idx]))\n",
        "        second = float((data[i + 1].features[feature_idx]))\n",
        "        cur_thresh = (first + second)/2\n",
        "\n",
        "        #splits data based on threshhold\n",
        "        left_split, right_split = split_dataset(data, feature_idx, cur_thresh)\n",
        "        left_len = len(left_split)\n",
        "        right_len = len(right_split)\n",
        "\n",
        "        #create leaf node if data split is empty?\n",
        "        #if len(left_split) == 0 or len(right_split) == 0:\n",
        "         # return(0, None)\n",
        "      #gets two values\n",
        "        entrophy1 = calc_entropy(left_split)\n",
        "        entrophy2 = calc_entropy(right_split)\n",
        "        temp_entrophy =  (((left_len)/len(data)) * (entrophy1)) + ((((right_len))/len(data)) * (entrophy2))\n",
        "        temp_gain = initial_entrophy - temp_entrophy\n",
        "        if temp_gain > best_info_gain:\n",
        "          best_info_gain = temp_gain\n",
        "          best_thresh = cur_thresh\n",
        "        if feature_idx == 0 or feature_idx == 1 or feature_idx ==18:\n",
        "          best_thresh = .5\n",
        "\n",
        "    return (best_info_gain, best_thresh)"
      ]
    },
    {
      "cell_type": "markdown",
      "metadata": {
        "id": "emrRkoa_4DKq"
      },
      "source": [
        "Q6. Implement the function `identify_best_split` which returns the best feature to split on for an input dataset, and also returns the corresponding threshold value."
      ]
    },
    {
      "cell_type": "code",
      "execution_count": null,
      "metadata": {
        "collapsed": true,
        "id": "zhavCKNh4DKq"
      },
      "outputs": [],
      "source": [
        "def identify_best_split(data):\n",
        "    if len(data) < 2:\n",
        "        return (None, None)\n",
        "    best_feature = None\n",
        "    best_thresh = None\n",
        "    best_gain_ratio = 0\n",
        "\n",
        "    for i in range (0, 19, 1):\n",
        "      info_gain, thresh = calc_best_threshold(data, i)\n",
        "      if thresh == None:\n",
        "        thresh = 0\n",
        "      left_split, right_split = split_dataset(data, i, thresh)\n",
        "\n",
        "      var1 = len(left_split)\n",
        "      var2 = len(right_split)\n",
        "      #calculates split info\n",
        "      if info_gain > best_gain_ratio:\n",
        "        best_gain_ratio = info_gain\n",
        "        best_thresh = thresh\n",
        "        best_feature = i\n",
        "        #don't know what to represent feature index as\n",
        "\n",
        "    return (best_feature, best_thresh)"
      ]
    },
    {
      "cell_type": "markdown",
      "metadata": {
        "id": "osZ2StyU4DKq"
      },
      "source": [
        "Q7. Implement the function `create_leaf_node` which returns a `TreeNode` with `is_leaf=True` and `prediction` set to whichever classification occurs most in the dataset at this node."
      ]
    },
    {
      "cell_type": "code",
      "execution_count": null,
      "metadata": {
        "collapsed": true,
        "id": "px4JvTRv4DKr"
      },
      "outputs": [],
      "source": [
        "def create_leaf_node(data):\n",
        "    yes = 0\n",
        "    no = 0\n",
        "    for dp in data:\n",
        "      if dp.label == 1:\n",
        "        yes = yes + 1\n",
        "      else:\n",
        "        no = no + 1\n",
        "\n",
        "    mode = 1\n",
        "    if no > yes:\n",
        "      mode = 0\n",
        "    node = TreeNode()\n",
        "    node.is_leaf = True\n",
        "    node.prediction = mode\n",
        "    #print(node.prediction)\n",
        "    #don't think prediction is correct\n",
        "    return node"
      ]
    },
    {
      "cell_type": "markdown",
      "metadata": {
        "id": "25Dl56lK4DKr"
      },
      "source": [
        "Q8. Implement the `create_decision_tree` function. `max_levels` denotes the maximum height of the tree (for example if `max_levels = 1` then the decision tree will only contain the leaf node at the root. [Hint: this is where the recursion happens.]"
      ]
    },
    {
      "cell_type": "code",
      "execution_count": null,
      "metadata": {
        "collapsed": true,
        "id": "kSicjsK74DKr"
      },
      "outputs": [],
      "source": [
        "from numpy.lib import roots\n",
        "\n",
        "def create_decision_tree(data, max_levels):\n",
        "    if max_levels == 1:\n",
        "      node = create_leaf_node(data)\n",
        "      return node\n",
        "\n",
        "    best_feature_and_thresh = identify_best_split(data)\n",
        "    if best_feature_and_thresh == (None, None):\n",
        "        node = create_leaf_node(data)\n",
        "        return node\n",
        "\n",
        "    cur_node = TreeNode()\n",
        "    cur_node.is_leaf = False\n",
        "    cur_node.feature_idx = best_feature_and_thresh[0]\n",
        "    cur_node.thresh_val = best_feature_and_thresh[1]\n",
        "    #if len(data) == 0\n",
        "    # best_feature, best_thresh = identify_best_split(data)\n",
        "    left_split, right_split = split_dataset(data, cur_node.feature_idx, cur_node.thresh_val)\n",
        "\n",
        "    cur_node.left_child = create_decision_tree(left_split, max_levels - 1)\n",
        "    cur_node.right_child = create_decision_tree(right_split, max_levels - 1)\n",
        "\n",
        "    return cur_node\n",
        "\n",
        "#     your code goes here\n",
        ""
      ]
    },
    {
      "cell_type": "markdown",
      "metadata": {
        "id": "pBbG2gTX4DKr"
      },
      "source": [
        "Q9. Given a test set, the function `calc_accuracy` returns the accuracy of the classifier. You'll use the `make_prediction` function for this."
      ]
    },
    {
      "cell_type": "code",
      "execution_count": null,
      "metadata": {
        "collapsed": true,
        "id": "pOOC-mgq4DKr"
      },
      "outputs": [],
      "source": [
        "def calc_accuracy(tree_root, data):\n",
        "  accurate = 0\n",
        "  print(\"treeroot\", tree_root)\n",
        "  for dp in data:\n",
        "    #print(dp)\n",
        "    prediction = make_prediction(tree_root, dp)\n",
        "    #print(prediction)\n",
        "    if prediction == dp.label:\n",
        "      #print(prediction)\n",
        "      #print(dp.label)\n",
        "      accurate = accurate + 1\n",
        "  calc_accuracy = float(accurate/(len(data)))\n",
        "  return calc_accuracy"
      ]
    },
    {
      "cell_type": "markdown",
      "metadata": {
        "id": "HL0Pbnzi4DKs"
      },
      "source": [
        "Q10. Keeping the `max_levels` parameter as 10, use 5-fold cross validation to measure the accuracy of the model. Print the accuracy of the model."
      ]
    },
    {
      "cell_type": "code",
      "execution_count": null,
      "metadata": {
        "collapsed": true,
        "scrolled": true,
        "id": "SRBVa5CM4DKs",
        "colab": {
          "base_uri": "https://localhost:8080/"
        },
        "outputId": "e20c46f2-eadb-415c-8ea3-44b57bd783eb"
      },
      "outputs": [
        {
          "output_type": "stream",
          "name": "stdout",
          "text": [
            "Training set size: 920\n",
            "Test set size    : 230\n",
            "Time taken: 24.773709058761597\n",
            "treeroot <__main__.TreeNode object at 0x7f841805dd00>\n",
            "The accuracy on the test set is  63.91304347826087\n",
            "Training set size: 920\n",
            "Test set size    : 230\n",
            "Time taken: 23.579248189926147\n",
            "treeroot <__main__.TreeNode object at 0x7f8415e04910>\n",
            "The accuracy on the test set is  63.04347826086957\n",
            "Training set size: 920\n",
            "Test set size    : 230\n",
            "Time taken: 21.52536678314209\n",
            "treeroot <__main__.TreeNode object at 0x7f8418086b80>\n",
            "The accuracy on the test set is  66.95652173913044\n",
            "Training set size: 920\n",
            "Test set size    : 230\n",
            "Time taken: 23.275328636169434\n",
            "treeroot <__main__.TreeNode object at 0x7f841812eb50>\n",
            "The accuracy on the test set is  63.91304347826087\n",
            "Training set size: 920\n",
            "Test set size    : 230\n",
            "Time taken: 22.96701431274414\n",
            "treeroot <__main__.TreeNode object at 0x7f8415fe8880>\n",
            "The accuracy on the test set is  64.34782608695652\n",
            "The avergae accuracy on the test set is  64.43478260869566\n"
          ]
        }
      ],
      "source": [
        "# edit the code here - this is just a sample to get you started\n",
        "import time\n",
        "\n",
        "d = get_data(\"messidor_features.csv\")\n",
        " #create array of arrays\n",
        "k_fold_start = 0\n",
        "numfolds = 5\n",
        "partition_length = int(len(d)/numfolds)\n",
        "folds_array = []\n",
        "folds_array.append(d[0:partition_length])\n",
        "sum = 0\n",
        "\n",
        "\n",
        "for i in range (1, numfolds, 1):\n",
        "  folds_array.append(d[i*partition_length: (i+1)*partition_length])\n",
        "\n",
        "for n in range (numfolds):\n",
        "  train_set = []\n",
        "  test_set = []\n",
        "  for i in range (numfolds):\n",
        "    if i == n:\n",
        "      test_set = folds_array[i]\n",
        "    else:\n",
        "      train_set += folds_array[i]\n",
        "  print ('Training set size:', len(train_set))\n",
        "  print ('Test set size    :', len(test_set))\n",
        " # print ('Training set:', train_set)\n",
        "  #calc_entropy(train_set)\n",
        "\n",
        "  # the timer is just for fun! you will NOT be graded on runtime\n",
        "  start = time.time()\n",
        "\n",
        "  # create the decision tree\n",
        "  tree = create_decision_tree(train_set, 10)\n",
        "\n",
        "  end = time.time()\n",
        "  print ('Time taken:', end - start)\n",
        "\n",
        "  # calculate the accuracy of the tree\n",
        "  accuracy = calc_accuracy(tree, test_set)\n",
        "  sum += accuracy\n",
        "  print ('The accuracy on the test set is ', str(accuracy * 100.0))\n",
        "sum = sum/numfolds\n",
        "print ('The avergae accuracy on the test set is ', str(sum * 100.0))\n",
        "\n",
        "\n",
        "\n",
        "\n",
        "\n",
        "\n",
        "# train_val1 = fold1 +  fold2 +  fold3 + fold4\n",
        "# test_val1 = fold5\n",
        "\n",
        "# train_val2 = fold1 + fold2 + fold3 + fold5\n",
        "# test_val2 = fold4\n",
        "\n",
        "# train_val3 = fold1 + fold2 + fold4 + fold5\n",
        "# test_val3 = fold3\n",
        "\n",
        "# train_val4 = fold1 + fold3 + fold4 + fold5\n",
        "# test_val4 = fold2\n",
        "\n",
        "# train_val5 = fold2 + fold3 + fold4 + fold5\n",
        "# test_val5 = fold1\n",
        "\n",
        "\n",
        "# # partition data into train_set and test_set\n",
        "# train_set = train_val1\n",
        "# test_set = test_val1\n",
        "\n",
        "# print ('Training set size:', len(train_set))\n",
        "# print ('Test set size    :', len(test_set))\n",
        "\n",
        "# the timer is just for fun! you will NOT be graded on runtime\n",
        "# start = time.time()\n",
        "\n",
        "# # create the decision tree\n",
        "# tree = create_decision_tree(train_set, 10)\n",
        "\n",
        "# end = time.time()\n",
        "# print ('Time taken:', end - start)\n",
        "\n",
        "# # calculate the accuracy of the tree\n",
        "# accuracy = calc_accuracy(tree, test_set)\n",
        "# print ('The accuracy on the test set is ', str(accuracy * 100.0))\n",
        "# #t.printTree()"
      ]
    },
    {
      "cell_type": "code",
      "source": [],
      "metadata": {
        "id": "ID4A9u5zoQo7"
      },
      "execution_count": null,
      "outputs": []
    }
  ],
  "metadata": {
    "kernelspec": {
      "display_name": "Python 3 (ipykernel)",
      "language": "python",
      "name": "python3"
    },
    "language_info": {
      "codemirror_mode": {
        "name": "ipython",
        "version": 3
      },
      "file_extension": ".py",
      "mimetype": "text/x-python",
      "name": "python",
      "nbconvert_exporter": "python",
      "pygments_lexer": "ipython3",
      "version": "3.9.12"
    },
    "colab": {
      "provenance": []
    }
  },
  "nbformat": 4,
  "nbformat_minor": 0
}