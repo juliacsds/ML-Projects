{
  "cells": [
    {
      "cell_type": "markdown",
      "metadata": {
        "id": "cR5EkYGQn8xb"
      },
      "source": [
        "# Tutorial: Classification with scikit-learn\n",
        "\n",
        "The following tutorial contains examples for solving classification problems using Python's scikit-learn packages.\n",
        "\n",
        "Classification is the task of predicting a categorical attribute (known as class label) based on the values of other attributes (sometimes called predictor attributes)."
      ]
    },
    {
      "cell_type": "markdown",
      "metadata": {
        "id": "i0VyiRFEn8xf"
      },
      "source": [
        "## 1. Vertebrate Dataset\n",
        "\n",
        "We'll use a variation of the vertebrate data described in Chapter 3 of the \"Introduction to Data Mining\" textbook. Each vertebrate is classified into one of 5 categories: mammals, reptiles, birds, fishes, and amphibians, based on a set of explanatory attributes (predictor variables). Except for \"name\", the rest of the attributes have been converted into a binary representation (0 for False, 1 for True). Load the data into a Pandas DataFrame object and display its content."
      ]
    },
    {
      "cell_type": "code",
      "execution_count": null,
      "metadata": {
        "id": "IDySKdzUn8xh"
      },
      "outputs": [],
      "source": [
        "import pandas as pd\n",
        "\n",
        "data = pd.read_csv('vertebrate.csv',header='infer')\n",
        "data"
      ]
    },
    {
      "cell_type": "markdown",
      "metadata": {
        "id": "6BjIzJpnn8xl"
      },
      "source": [
        "Given the limited number of training examples, let's convert the problem into a binary classification task (mammals versus non-mammals). We can do so by replacing the class labels of the instances to *non-mammals* except for those that belong to the *mammals* class."
      ]
    },
    {
      "cell_type": "code",
      "execution_count": null,
      "metadata": {
        "id": "94R-rcJNn8xm",
        "outputId": "dc674cc5-345a-48ce-e5c0-e3b352dced04"
      },
      "outputs": [
        {
          "data": {
            "text/html": [
              "<div>\n",
              "<style scoped>\n",
              "    .dataframe tbody tr th:only-of-type {\n",
              "        vertical-align: middle;\n",
              "    }\n",
              "\n",
              "    .dataframe tbody tr th {\n",
              "        vertical-align: top;\n",
              "    }\n",
              "\n",
              "    .dataframe thead th {\n",
              "        text-align: right;\n",
              "    }\n",
              "</style>\n",
              "<table border=\"1\" class=\"dataframe\">\n",
              "  <thead>\n",
              "    <tr style=\"text-align: right;\">\n",
              "      <th></th>\n",
              "      <th>Name</th>\n",
              "      <th>Warm-blooded</th>\n",
              "      <th>Gives Birth</th>\n",
              "      <th>Aquatic Creature</th>\n",
              "      <th>Aerial Creature</th>\n",
              "      <th>Has Legs</th>\n",
              "      <th>Hibernates</th>\n",
              "      <th>Class</th>\n",
              "    </tr>\n",
              "  </thead>\n",
              "  <tbody>\n",
              "    <tr>\n",
              "      <th>0</th>\n",
              "      <td>human</td>\n",
              "      <td>1</td>\n",
              "      <td>1</td>\n",
              "      <td>0</td>\n",
              "      <td>0</td>\n",
              "      <td>1</td>\n",
              "      <td>0</td>\n",
              "      <td>mammals</td>\n",
              "    </tr>\n",
              "    <tr>\n",
              "      <th>1</th>\n",
              "      <td>python</td>\n",
              "      <td>0</td>\n",
              "      <td>0</td>\n",
              "      <td>0</td>\n",
              "      <td>0</td>\n",
              "      <td>0</td>\n",
              "      <td>1</td>\n",
              "      <td>non-mammals</td>\n",
              "    </tr>\n",
              "    <tr>\n",
              "      <th>2</th>\n",
              "      <td>salmon</td>\n",
              "      <td>0</td>\n",
              "      <td>0</td>\n",
              "      <td>1</td>\n",
              "      <td>0</td>\n",
              "      <td>0</td>\n",
              "      <td>0</td>\n",
              "      <td>non-mammals</td>\n",
              "    </tr>\n",
              "    <tr>\n",
              "      <th>3</th>\n",
              "      <td>whale</td>\n",
              "      <td>1</td>\n",
              "      <td>1</td>\n",
              "      <td>1</td>\n",
              "      <td>0</td>\n",
              "      <td>0</td>\n",
              "      <td>0</td>\n",
              "      <td>mammals</td>\n",
              "    </tr>\n",
              "    <tr>\n",
              "      <th>4</th>\n",
              "      <td>frog</td>\n",
              "      <td>0</td>\n",
              "      <td>0</td>\n",
              "      <td>1</td>\n",
              "      <td>0</td>\n",
              "      <td>1</td>\n",
              "      <td>1</td>\n",
              "      <td>non-mammals</td>\n",
              "    </tr>\n",
              "    <tr>\n",
              "      <th>5</th>\n",
              "      <td>komodo</td>\n",
              "      <td>0</td>\n",
              "      <td>0</td>\n",
              "      <td>0</td>\n",
              "      <td>0</td>\n",
              "      <td>1</td>\n",
              "      <td>0</td>\n",
              "      <td>non-mammals</td>\n",
              "    </tr>\n",
              "    <tr>\n",
              "      <th>6</th>\n",
              "      <td>bat</td>\n",
              "      <td>1</td>\n",
              "      <td>1</td>\n",
              "      <td>0</td>\n",
              "      <td>1</td>\n",
              "      <td>1</td>\n",
              "      <td>1</td>\n",
              "      <td>mammals</td>\n",
              "    </tr>\n",
              "    <tr>\n",
              "      <th>7</th>\n",
              "      <td>pigeon</td>\n",
              "      <td>1</td>\n",
              "      <td>0</td>\n",
              "      <td>0</td>\n",
              "      <td>1</td>\n",
              "      <td>1</td>\n",
              "      <td>0</td>\n",
              "      <td>non-mammals</td>\n",
              "    </tr>\n",
              "    <tr>\n",
              "      <th>8</th>\n",
              "      <td>cat</td>\n",
              "      <td>1</td>\n",
              "      <td>1</td>\n",
              "      <td>0</td>\n",
              "      <td>0</td>\n",
              "      <td>1</td>\n",
              "      <td>0</td>\n",
              "      <td>mammals</td>\n",
              "    </tr>\n",
              "    <tr>\n",
              "      <th>9</th>\n",
              "      <td>leopard shark</td>\n",
              "      <td>0</td>\n",
              "      <td>1</td>\n",
              "      <td>1</td>\n",
              "      <td>0</td>\n",
              "      <td>0</td>\n",
              "      <td>0</td>\n",
              "      <td>non-mammals</td>\n",
              "    </tr>\n",
              "    <tr>\n",
              "      <th>10</th>\n",
              "      <td>turtle</td>\n",
              "      <td>0</td>\n",
              "      <td>0</td>\n",
              "      <td>1</td>\n",
              "      <td>0</td>\n",
              "      <td>1</td>\n",
              "      <td>0</td>\n",
              "      <td>non-mammals</td>\n",
              "    </tr>\n",
              "    <tr>\n",
              "      <th>11</th>\n",
              "      <td>penguin</td>\n",
              "      <td>1</td>\n",
              "      <td>0</td>\n",
              "      <td>1</td>\n",
              "      <td>0</td>\n",
              "      <td>1</td>\n",
              "      <td>0</td>\n",
              "      <td>non-mammals</td>\n",
              "    </tr>\n",
              "    <tr>\n",
              "      <th>12</th>\n",
              "      <td>porcupine</td>\n",
              "      <td>1</td>\n",
              "      <td>1</td>\n",
              "      <td>0</td>\n",
              "      <td>0</td>\n",
              "      <td>1</td>\n",
              "      <td>1</td>\n",
              "      <td>mammals</td>\n",
              "    </tr>\n",
              "    <tr>\n",
              "      <th>13</th>\n",
              "      <td>eel</td>\n",
              "      <td>0</td>\n",
              "      <td>0</td>\n",
              "      <td>1</td>\n",
              "      <td>0</td>\n",
              "      <td>0</td>\n",
              "      <td>0</td>\n",
              "      <td>non-mammals</td>\n",
              "    </tr>\n",
              "    <tr>\n",
              "      <th>14</th>\n",
              "      <td>salamander</td>\n",
              "      <td>0</td>\n",
              "      <td>0</td>\n",
              "      <td>1</td>\n",
              "      <td>0</td>\n",
              "      <td>1</td>\n",
              "      <td>1</td>\n",
              "      <td>non-mammals</td>\n",
              "    </tr>\n",
              "  </tbody>\n",
              "</table>\n",
              "</div>"
            ],
            "text/plain": [
              "             Name  Warm-blooded  Gives Birth  Aquatic Creature  \\\n",
              "0           human             1            1                 0   \n",
              "1          python             0            0                 0   \n",
              "2          salmon             0            0                 1   \n",
              "3           whale             1            1                 1   \n",
              "4            frog             0            0                 1   \n",
              "5          komodo             0            0                 0   \n",
              "6             bat             1            1                 0   \n",
              "7          pigeon             1            0                 0   \n",
              "8             cat             1            1                 0   \n",
              "9   leopard shark             0            1                 1   \n",
              "10         turtle             0            0                 1   \n",
              "11        penguin             1            0                 1   \n",
              "12      porcupine             1            1                 0   \n",
              "13            eel             0            0                 1   \n",
              "14     salamander             0            0                 1   \n",
              "\n",
              "    Aerial Creature  Has Legs  Hibernates        Class  \n",
              "0                 0         1           0      mammals  \n",
              "1                 0         0           1  non-mammals  \n",
              "2                 0         0           0  non-mammals  \n",
              "3                 0         0           0      mammals  \n",
              "4                 0         1           1  non-mammals  \n",
              "5                 0         1           0  non-mammals  \n",
              "6                 1         1           1      mammals  \n",
              "7                 1         1           0  non-mammals  \n",
              "8                 0         1           0      mammals  \n",
              "9                 0         0           0  non-mammals  \n",
              "10                0         1           0  non-mammals  \n",
              "11                0         1           0  non-mammals  \n",
              "12                0         1           1      mammals  \n",
              "13                0         0           0  non-mammals  \n",
              "14                0         1           1  non-mammals  "
            ]
          },
          "execution_count": 29,
          "metadata": {},
          "output_type": "execute_result"
        }
      ],
      "source": [
        "data['Class'] = data['Class'].replace(['fishes','birds','amphibians','reptiles'],'non-mammals')\n",
        "data"
      ]
    },
    {
      "cell_type": "markdown",
      "metadata": {
        "id": "k4m3ypBsn8xn"
      },
      "source": [
        "## 2. Decision Tree Classifier\n",
        "\n",
        "In this section, we apply a decision tree classifier to the vertebrate dataset.\n",
        "\n",
        "We first need to separate the class labels (Y) from the predictor attributes (X)."
      ]
    },
    {
      "cell_type": "code",
      "execution_count": null,
      "metadata": {
        "id": "y4dGC169n8xn",
        "outputId": "c2f0b0a9-dba6-467d-e85d-4c4e1cef57cf"
      },
      "outputs": [
        {
          "name": "stdout",
          "output_type": "stream",
          "text": [
            "(15, 6)\n",
            "(15,)\n"
          ]
        }
      ],
      "source": [
        "# Pull out just the Class column (Y); the labels; the attribute you are trying to predict\n",
        "data_Y = data['Class']\n",
        "\n",
        "# Get the rest of the attributes (X); the predictors; the features\n",
        "# In this particular dataset, we want to also drop the 'Name' feature, as it would\n",
        "# not make sense to use this as a predictive feature [this is Feature Selection!]\n",
        "data_X = data.drop(['Name','Class'],axis=1)\n",
        "\n",
        "print(data_X.shape) #15 rows, 6 cols\n",
        "print(data_Y.shape) #15 rows, (1 col)"
      ]
    },
    {
      "cell_type": "markdown",
      "metadata": {
        "id": "RKIOsA86n8xo"
      },
      "source": [
        "Now we want to train a decision tree classifier on this training data. This will build a decision tree.\n",
        "\n",
        "You will first create a `sklearn.tree.DecisionTreeClassifier` object by setting any arguments you want to set on it (documentation [here](https://scikit-learn.org/stable/modules/generated/sklearn.tree.DecisionTreeClassifier.html)).\n",
        "\n",
        "Then you will call `fit` on this `DecisionTreeClassifier` and pass in the attributes (data_X), and the class labels (data_Y). This builds the decision tree based on the training data you just passed in to it. It fits the model to the labeled data."
      ]
    },
    {
      "cell_type": "code",
      "execution_count": null,
      "metadata": {
        "id": "-oATHIkXn8xp"
      },
      "outputs": [],
      "source": [
        "from sklearn.tree import DecisionTreeClassifier\n",
        "\n",
        "# Create a decision tree - set whichever arguments you want set\n",
        "clf = DecisionTreeClassifier(criterion='entropy', max_depth=3)\n",
        "# Train it\n",
        "clf = clf.fit(data_X, data_Y)\n",
        "\n",
        "# The trained tree is now stored in the variable 'clf'"
      ]
    },
    {
      "cell_type": "markdown",
      "metadata": {
        "id": "d90S9nAan8xp"
      },
      "source": [
        "You can see what the tree looks like by using `sklearn.tree.plot_tree`."
      ]
    },
    {
      "cell_type": "code",
      "execution_count": null,
      "metadata": {
        "id": "H7KKqPIfn8xq",
        "outputId": "78065dbd-fa1e-4179-bdb8-2ad4947029ad"
      },
      "outputs": [
        {
          "data": {
            "text/plain": [
              "[Text(136.72,187.033,'X[1] <= 0.5\\nentropy = 0.918\\nsamples = 15\\nvalue = [5, 10]'),\n",
              " Text(68.36,112.22,'entropy = 0.0\\nsamples = 9\\nvalue = [0, 9]'),\n",
              " Text(205.08,112.22,'X[0] <= 0.5\\nentropy = 0.65\\nsamples = 6\\nvalue = [5, 1]'),\n",
              " Text(136.72,37.4067,'entropy = 0.0\\nsamples = 1\\nvalue = [0, 1]'),\n",
              " Text(273.44,37.4067,'entropy = 0.0\\nsamples = 5\\nvalue = [5, 0]')]"
            ]
          },
          "execution_count": 36,
          "metadata": {},
          "output_type": "execute_result"
        },
        {
          "data": {
            "image/png": "[encoded data removed]",
            "text/plain": [
              "<Figure size 432x288 with 1 Axes>"
            ]
          },
          "metadata": {},
          "output_type": "display_data"
        }
      ],
      "source": [
        "tree.plot_tree(clf)"
      ]
    },
    {
      "cell_type": "markdown",
      "metadata": {
        "id": "dKNiPwEjn8xr"
      },
      "source": [
        "Next, suppose we want to use our decision tree to classify the following test examples. These are labeled test examples, so we will know whether or not our tree classified them correctly."
      ]
    },
    {
      "cell_type": "code",
      "execution_count": null,
      "metadata": {
        "id": "nu0vTpSTn8xr",
        "outputId": "a0a45b56-077c-46d8-eb0f-6d47af02ba69"
      },
      "outputs": [
        {
          "data": {
            "text/html": [
              "<div>\n",
              "<style scoped>\n",
              "    .dataframe tbody tr th:only-of-type {\n",
              "        vertical-align: middle;\n",
              "    }\n",
              "\n",
              "    .dataframe tbody tr th {\n",
              "        vertical-align: top;\n",
              "    }\n",
              "\n",
              "    .dataframe thead th {\n",
              "        text-align: right;\n",
              "    }\n",
              "</style>\n",
              "<table border=\"1\" class=\"dataframe\">\n",
              "  <thead>\n",
              "    <tr style=\"text-align: right;\">\n",
              "      <th></th>\n",
              "      <th>Name</th>\n",
              "      <th>Warm-blooded</th>\n",
              "      <th>Gives Birth</th>\n",
              "      <th>Aquatic Creature</th>\n",
              "      <th>Aerial Creature</th>\n",
              "      <th>Has Legs</th>\n",
              "      <th>Hibernates</th>\n",
              "      <th>Class</th>\n",
              "    </tr>\n",
              "  </thead>\n",
              "  <tbody>\n",
              "    <tr>\n",
              "      <th>0</th>\n",
              "      <td>gila monster</td>\n",
              "      <td>0</td>\n",
              "      <td>0</td>\n",
              "      <td>0</td>\n",
              "      <td>0</td>\n",
              "      <td>1</td>\n",
              "      <td>1</td>\n",
              "      <td>non-mammals</td>\n",
              "    </tr>\n",
              "    <tr>\n",
              "      <th>1</th>\n",
              "      <td>platypus</td>\n",
              "      <td>1</td>\n",
              "      <td>0</td>\n",
              "      <td>0</td>\n",
              "      <td>0</td>\n",
              "      <td>1</td>\n",
              "      <td>1</td>\n",
              "      <td>mammals</td>\n",
              "    </tr>\n",
              "    <tr>\n",
              "      <th>2</th>\n",
              "      <td>owl</td>\n",
              "      <td>1</td>\n",
              "      <td>0</td>\n",
              "      <td>0</td>\n",
              "      <td>1</td>\n",
              "      <td>1</td>\n",
              "      <td>0</td>\n",
              "      <td>non-mammals</td>\n",
              "    </tr>\n",
              "    <tr>\n",
              "      <th>3</th>\n",
              "      <td>dolphin</td>\n",
              "      <td>1</td>\n",
              "      <td>1</td>\n",
              "      <td>1</td>\n",
              "      <td>0</td>\n",
              "      <td>0</td>\n",
              "      <td>0</td>\n",
              "      <td>mammals</td>\n",
              "    </tr>\n",
              "  </tbody>\n",
              "</table>\n",
              "</div>"
            ],
            "text/plain": [
              "           Name  Warm-blooded  Gives Birth  Aquatic Creature  Aerial Creature  \\\n",
              "0  gila monster             0            0                 0                0   \n",
              "1      platypus             1            0                 0                0   \n",
              "2           owl             1            0                 0                1   \n",
              "3       dolphin             1            1                 1                0   \n",
              "\n",
              "   Has Legs  Hibernates        Class  \n",
              "0         1           1  non-mammals  \n",
              "1         1           1      mammals  \n",
              "2         1           0  non-mammals  \n",
              "3         0           0      mammals  "
            ]
          },
          "execution_count": 6,
          "metadata": {},
          "output_type": "execute_result"
        }
      ],
      "source": [
        "# Make some new records for our tree to classify and put them in a DataFrame\n",
        "testData = [['gila monster',0,0,0,0,1,1,'non-mammals'],\n",
        "           ['platypus',1,0,0,0,1,1,'mammals'],\n",
        "           ['owl',1,0,0,1,1,0,'non-mammals'],\n",
        "           ['dolphin',1,1,1,0,0,0,'mammals']]\n",
        "testData = pd.DataFrame(testData, columns=data.columns)\n",
        "testData"
      ]
    },
    {
      "cell_type": "markdown",
      "metadata": {
        "id": "FBrMqmHln8xs"
      },
      "source": [
        "In order to run these through our tree, we need to separate the class label (Y) from the other attributes (X)."
      ]
    },
    {
      "cell_type": "code",
      "execution_count": null,
      "metadata": {
        "scrolled": true,
        "id": "rlIGj2lOn8xs",
        "outputId": "9a4ff09e-5916-4d91-ed2e-e3998870d13f"
      },
      "outputs": [
        {
          "data": {
            "text/html": [
              "<div>\n",
              "<style scoped>\n",
              "    .dataframe tbody tr th:only-of-type {\n",
              "        vertical-align: middle;\n",
              "    }\n",
              "\n",
              "    .dataframe tbody tr th {\n",
              "        vertical-align: top;\n",
              "    }\n",
              "\n",
              "    .dataframe thead th {\n",
              "        text-align: right;\n",
              "    }\n",
              "</style>\n",
              "<table border=\"1\" class=\"dataframe\">\n",
              "  <thead>\n",
              "    <tr style=\"text-align: right;\">\n",
              "      <th></th>\n",
              "      <th>Warm-blooded</th>\n",
              "      <th>Gives Birth</th>\n",
              "      <th>Aquatic Creature</th>\n",
              "      <th>Aerial Creature</th>\n",
              "      <th>Has Legs</th>\n",
              "      <th>Hibernates</th>\n",
              "    </tr>\n",
              "  </thead>\n",
              "  <tbody>\n",
              "    <tr>\n",
              "      <th>0</th>\n",
              "      <td>0</td>\n",
              "      <td>0</td>\n",
              "      <td>0</td>\n",
              "      <td>0</td>\n",
              "      <td>1</td>\n",
              "      <td>1</td>\n",
              "    </tr>\n",
              "    <tr>\n",
              "      <th>1</th>\n",
              "      <td>1</td>\n",
              "      <td>0</td>\n",
              "      <td>0</td>\n",
              "      <td>0</td>\n",
              "      <td>1</td>\n",
              "      <td>1</td>\n",
              "    </tr>\n",
              "    <tr>\n",
              "      <th>2</th>\n",
              "      <td>1</td>\n",
              "      <td>0</td>\n",
              "      <td>0</td>\n",
              "      <td>1</td>\n",
              "      <td>1</td>\n",
              "      <td>0</td>\n",
              "    </tr>\n",
              "    <tr>\n",
              "      <th>3</th>\n",
              "      <td>1</td>\n",
              "      <td>1</td>\n",
              "      <td>1</td>\n",
              "      <td>0</td>\n",
              "      <td>0</td>\n",
              "      <td>0</td>\n",
              "    </tr>\n",
              "  </tbody>\n",
              "</table>\n",
              "</div>"
            ],
            "text/plain": [
              "   Warm-blooded  Gives Birth  Aquatic Creature  Aerial Creature  Has Legs  \\\n",
              "0             0            0                 0                0         1   \n",
              "1             1            0                 0                0         1   \n",
              "2             1            0                 0                1         1   \n",
              "3             1            1                 1                0         0   \n",
              "\n",
              "   Hibernates  \n",
              "0           1  \n",
              "1           1  \n",
              "2           0  \n",
              "3           0  "
            ]
          },
          "execution_count": 7,
          "metadata": {},
          "output_type": "execute_result"
        }
      ],
      "source": [
        "# We also drop the 'name' attribute as we did on our training data\n",
        "test_Y = testData['Class']\n",
        "test_X = testData.drop(['Name','Class'],axis=1)\n",
        "test_X"
      ]
    },
    {
      "cell_type": "markdown",
      "metadata": {
        "id": "BwsCWXCgn8xt"
      },
      "source": [
        "Now we can run these test records through our decision tree and see what class it predicts for each of them."
      ]
    },
    {
      "cell_type": "code",
      "execution_count": null,
      "metadata": {
        "id": "DoU2dMMln8xt",
        "outputId": "c5842501-1004-4852-f693-cab19ab6ca06"
      },
      "outputs": [
        {
          "name": "stdout",
          "output_type": "stream",
          "text": [
            "['non-mammals' 'non-mammals' 'non-mammals' 'mammals']\n"
          ]
        },
        {
          "data": {
            "text/html": [
              "<div>\n",
              "<style scoped>\n",
              "    .dataframe tbody tr th:only-of-type {\n",
              "        vertical-align: middle;\n",
              "    }\n",
              "\n",
              "    .dataframe tbody tr th {\n",
              "        vertical-align: top;\n",
              "    }\n",
              "\n",
              "    .dataframe thead th {\n",
              "        text-align: right;\n",
              "    }\n",
              "</style>\n",
              "<table border=\"1\" class=\"dataframe\">\n",
              "  <thead>\n",
              "    <tr style=\"text-align: right;\">\n",
              "      <th></th>\n",
              "      <th>Name</th>\n",
              "      <th>Predicted Class</th>\n",
              "      <th>Class</th>\n",
              "    </tr>\n",
              "  </thead>\n",
              "  <tbody>\n",
              "    <tr>\n",
              "      <th>0</th>\n",
              "      <td>gila monster</td>\n",
              "      <td>non-mammals</td>\n",
              "      <td>non-mammals</td>\n",
              "    </tr>\n",
              "    <tr>\n",
              "      <th>1</th>\n",
              "      <td>platypus</td>\n",
              "      <td>non-mammals</td>\n",
              "      <td>mammals</td>\n",
              "    </tr>\n",
              "    <tr>\n",
              "      <th>2</th>\n",
              "      <td>owl</td>\n",
              "      <td>non-mammals</td>\n",
              "      <td>non-mammals</td>\n",
              "    </tr>\n",
              "    <tr>\n",
              "      <th>3</th>\n",
              "      <td>dolphin</td>\n",
              "      <td>mammals</td>\n",
              "      <td>mammals</td>\n",
              "    </tr>\n",
              "  </tbody>\n",
              "</table>\n",
              "</div>"
            ],
            "text/plain": [
              "           Name Predicted Class        Class\n",
              "0  gila monster     non-mammals  non-mammals\n",
              "1      platypus     non-mammals      mammals\n",
              "2           owl     non-mammals  non-mammals\n",
              "3       dolphin         mammals      mammals"
            ]
          },
          "execution_count": 8,
          "metadata": {},
          "output_type": "execute_result"
        }
      ],
      "source": [
        "pred_Y = clf.predict(test_X)\n",
        "print(pred_Y)\n",
        "\n",
        "# Put the predictions into a pretty table to look at them\n",
        "predictions = pd.concat([testData['Name'],\n",
        "                         pd.Series(pred_Y,name='Predicted Class'),\n",
        "                         testData['Class']],\n",
        "                         axis=1)\n",
        "predictions"
      ]
    },
    {
      "cell_type": "markdown",
      "metadata": {
        "id": "x0Y5N8kJn8xu"
      },
      "source": [
        "The classifier correctly predicted the class of all the test examples except for platypus, which is an egg-laying mammal.\n",
        "\n",
        "We can calculate the accuracy of the classifier on the test data by using `sklearn.metrics.accuracy_score` (documentation [here](https://scikit-learn.org/stable/modules/generated/sklearn.metrics.accuracy_score.html)) and passing in the actual labels (test_Y) and the predicted labels (pred_Y)."
      ]
    },
    {
      "cell_type": "code",
      "execution_count": null,
      "metadata": {
        "id": "6DoWd7fdn8xu",
        "outputId": "9a4f8c38-182b-44b7-e995-b37f43628d1c"
      },
      "outputs": [
        {
          "name": "stdout",
          "output_type": "stream",
          "text": [
            "Accuracy on test data is: 0.75\n"
          ]
        }
      ],
      "source": [
        "from sklearn.metrics import accuracy_score\n",
        "\n",
        "print('Accuracy on test data is:', (accuracy_score(test_Y, pred_Y)))"
      ]
    },
    {
      "cell_type": "markdown",
      "metadata": {
        "id": "gOfYt6IOn8xv"
      },
      "source": [
        "## 3. Train-Test Split: Holdout Method"
      ]
    },
    {
      "cell_type": "markdown",
      "metadata": {
        "id": "uwx534Ejn8xv"
      },
      "source": [
        "If you want to separate your entire dataset into a training set and a test set, `sklearn.model_selection.train_test_split` (documentation [here](https://scikit-learn.org/stable/modules/generated/sklearn.model_selection.train_test_split.html#sklearn.model_selection.train_test_split)) can do this for you.\n",
        "\n",
        "It will return the training data split into its features (train_X) and labels (train_Y), as well as the test data split into its features (test_X) and labels (test_Y)."
      ]
    },
    {
      "cell_type": "code",
      "execution_count": null,
      "metadata": {
        "id": "-6mG_0Djn8xw",
        "outputId": "ec2d5998-c249-467e-b00c-4598234cb670"
      },
      "outputs": [
        {
          "name": "stdout",
          "output_type": "stream",
          "text": [
            "<class 'pandas.core.frame.DataFrame'>\n",
            "X_train= (12, 6)  y_train= (12,)\n",
            "X_test= (3, 6)  y_test= (3,)\n"
          ]
        }
      ],
      "source": [
        "from sklearn.model_selection import train_test_split\n",
        "X_train, X_test, y_train, y_test = train_test_split(data_X, data_Y, test_size=0.20)\n",
        "print(type(X_train))\n",
        "print(\"X_train=\",X_train.shape, \" y_train=\", y_train.shape)\n",
        "print(\"X_test=\",X_test.shape, \" y_test=\", y_test.shape)"
      ]
    },
    {
      "cell_type": "markdown",
      "metadata": {
        "id": "WKCS2iIvn8xx"
      },
      "source": [
        "Then you can build a tree based on your training data, and test that tree on your test data."
      ]
    },
    {
      "cell_type": "code",
      "execution_count": null,
      "metadata": {
        "scrolled": true,
        "id": "WofFGztin8xy",
        "outputId": "10e855f1-6196-48b8-f006-d488e7b1886f"
      },
      "outputs": [
        {
          "name": "stdout",
          "output_type": "stream",
          "text": [
            "Accuracy on test data is: 0.6666666666666666\n"
          ]
        }
      ],
      "source": [
        "clf = tree.DecisionTreeClassifier() # create the DT classifier\n",
        "clf = clf.fit(X_train, y_train)     # train it on the training data\n",
        "preds = clf.predict(X_test)        # run the test set through the tree\n",
        "print('Accuracy on test data is:', (accuracy_score(y_test, preds)))   # how well did it do?"
      ]
    },
    {
      "cell_type": "markdown",
      "metadata": {
        "id": "KbB2qihZn8xy"
      },
      "source": [
        "Just doing a single test-train split is called the \"holdout method.\" In class we discussed why doing a single holdout is not a good idea. Instead, we will want to use cross-validation to asses how well our tree performs.\n",
        "\n",
        "## 4. Cross-Validation\n",
        "\n",
        "You can use `sklearn.model_selection.cross_val_score` (documentation [here](https://scikit-learn.org/stable/modules/generated/sklearn.model_selection.cross_val_score.html#sklearn.model_selection.cross_val_score)) to perform K-fold cross validation on your decision tree.\n",
        "\n",
        "You will pass in your whole dataset (separated by features and labels: data_X and data_Y) and `cross_val_score` will do all of the splitting in to train and test sets for you. It will train the classifier on the training set, then it will test the classifier on the test set, and it will record the accuracy for each fold.\n",
        "\n",
        "It runs the entire cross-validation loop, using the number of folds you specify, and returns a list of accuracies, 1 accuracy value per fold. You can average these to get the average accuarcy from the cross-validation."
      ]
    },
    {
      "cell_type": "code",
      "execution_count": null,
      "metadata": {
        "scrolled": true,
        "id": "ooVWwf5Cn8xz",
        "outputId": "2ad3e959-5944-4e05-c89d-be35675c9f28"
      },
      "outputs": [
        {
          "name": "stdout",
          "output_type": "stream",
          "text": [
            "(15, 6)\n",
            "(15,)\n",
            "Scores: [1.         0.66666667 0.66666667 1.         1.        ]\n",
            "Accuracy: 86.66666666666666\n"
          ]
        }
      ],
      "source": [
        "from sklearn.model_selection import cross_val_score\n",
        "\n",
        "# Use the full dataset\n",
        "print(data_X.shape)\n",
        "print(data_Y.shape)\n",
        "\n",
        "\n",
        "# Let's start fresh with a new decision tree...\n",
        "clf = tree.DecisionTreeClassifier() # set any params you may want to set\n",
        "\n",
        "# Run a 5-fold cross validation\n",
        "scores = cross_val_score(clf, data_X, data_Y, cv=5)\n",
        "print(\"Scores:\", scores)\n",
        "\n",
        "print(\"Accuracy:\", scores.mean()*100)"
      ]
    },
    {
      "cell_type": "markdown",
      "metadata": {
        "id": "xg1YfL-an8xz"
      },
      "source": [
        "## 4. Hyperparameter tuning and Nested Cross-Validation\n",
        "\n",
        "We'll want to tune our model to use the best parameters to avoid overfitting to our training data. Grid search is an approach to parameter tuning that will methodically build and evaluate a model for each combination of parameters specified in a grid.\n",
        "\n",
        "Using `sklearn.model_selection.GridSearchCV` (documentation [here](https://scikit-learn.org/stable/modules/generated/sklearn.model_selection.GridSearchCV.html)) will find the best hyperparameters for your tree.\n",
        "\n",
        "Let's find the best `max_depth`, using a 3-fold cross-validation."
      ]
    },
    {
      "cell_type": "code",
      "execution_count": null,
      "metadata": {
        "id": "A5pxncGHn8x0",
        "outputId": "8f490d94-3fa5-4789-91af-f3aa942cb422"
      },
      "outputs": [
        {
          "name": "stdout",
          "output_type": "stream",
          "text": [
            "{'max_depth': 2}\n",
            "Accuracy: 86.66666666666667\n"
          ]
        }
      ],
      "source": [
        "from sklearn.model_selection import GridSearchCV\n",
        "\n",
        "# Let's start fresh with a new decision tree...\n",
        "clf = tree.DecisionTreeClassifier()\n",
        "\n",
        "# Try max_depth values of 2,4,6,8\n",
        "# Try min_samples_leaf values of 1,2,3\n",
        "params = {\"max_depth\": [2,4,6,8] }#,\n",
        "         #\"min_samples_leaf\": [1,2,3]}\n",
        "\n",
        "\n",
        "# Create the GridSearchCV object:\n",
        "# Pass in our classifier (the decision tree), the parameters to test,\n",
        "# how many folds of CV we want, and what scoring metric to use\n",
        "grid_search = GridSearchCV(clf, params, cv=3, scoring='accuracy')\n",
        "\n",
        "# Kick it off... start training classifiers with the different max_depths specified\n",
        "# A 3-fold CV will be run for each max_depth and accuracy will be assesed for each max_depth\n",
        "grid_search.fit(data_X, data_Y)\n",
        "\n",
        "# What did it find as the best max_depth?\n",
        "print(grid_search.best_params_)\n",
        "# What was the accuracy at this best max_depth?\n",
        "print(\"Accuracy:\", grid_search.best_score_*100)"
      ]
    },
    {
      "cell_type": "markdown",
      "metadata": {
        "id": "3y7ZmSKgn8x1"
      },
      "source": [
        "The above hyperparameter tuning was performed on the entire dataset. We did not hold out a test set.\n",
        "\n",
        "In order to hold out a test set and perform the nested cross-validation that we discussed in class, you'll now need to pass the `GridSearchCV` you just created into a `cross_val_score`.\n",
        "\n",
        "What this does is: the `cross_val_score` splits the data in to train and test sets for the first fold, and it passes the train set into `GridSearchCV`.\n",
        "\n",
        "`GridSearchCV` then splits that set into train and validation sets for k number of folds (the inner CV loop). The hyper-parameters for which the average score over all inner iterations is best, is reported as the `best_params_`, `best_score_`, and `best_estimator_`(best decision tree).\n",
        "\n",
        "This best decision tree is then evaluated with the test set that was set aside from the `cross_val_score` (the outer CV loop). And this whole thing is repeated for the remaining k folds of the `cross_val_score` (the outer CV loop).\n",
        "\n",
        "That is a lot of explanation for a very complex (but IMPORTANT) process, which can all be performed with a single line of code!"
      ]
    },
    {
      "cell_type": "code",
      "execution_count": null,
      "metadata": {
        "id": "UT19nzXXn8x1",
        "outputId": "6377f719-d7cf-4a00-c0ba-98bfc4954d9f"
      },
      "outputs": [
        {
          "name": "stdout",
          "output_type": "stream",
          "text": [
            "Accuracy: 93.33333333333333\n"
          ]
        }
      ],
      "source": [
        "nested_score = cross_val_score(grid_search, data_X, data_Y, cv=3)\n",
        "\n",
        "print(\"Accuracy:\", nested_score.mean()*100)"
      ]
    },
    {
      "cell_type": "markdown",
      "metadata": {
        "id": "jWZ4CfFyn8x2"
      },
      "source": [
        "## 5. Dimensionality Reduction with PCA\n",
        "\n",
        "Data should be standardized before running PCA, so that every feature is compared on the same scale.\n",
        "\n",
        "Note that you should scale the data and fit the PCA on the **training set** only (NOT the test set).\n",
        "\n",
        "You can use `sklearn.preprocessing.StandardScaler` (documentation [here](sklearn.preprocessing.StandardScaler)) to standardize the dataset’s features (mean = 0 and variance = 1). Be sure to only standardize the the features, not the class labels. Note that StandardScaler returns a numpy array."
      ]
    },
    {
      "cell_type": "code",
      "execution_count": null,
      "metadata": {
        "scrolled": true,
        "id": "ogW-V-eAn8x4",
        "outputId": "2c3c3f6e-2ebf-44e9-b0bd-544154adf720"
      },
      "outputs": [
        {
          "name": "stdout",
          "output_type": "stream",
          "text": [
            "X_train= (12, 6)  y_train= (12,)\n",
            "X_test= (3, 6)  y_test= (3,)\n",
            "\n",
            "<class 'numpy.ndarray'>\n",
            "(12, 6)\n",
            "\n",
            "[-0.84515425 -0.84515425  0.84515425 -0.30151134  0.84515425  1.41421356]\n",
            "mean= -3.39234813079909e-17\n",
            "std= 1.0\n"
          ]
        }
      ],
      "source": [
        "from sklearn.preprocessing import StandardScaler\n",
        "\n",
        "# Split the data into a train/test split\n",
        "X_train, X_test, y_train, y_test = train_test_split(data_X, data_Y, test_size=0.20, random_state=None)\n",
        "print(\"X_train=\",X_train.shape, \" y_train=\", y_train.shape)\n",
        "print(\"X_test=\",X_test.shape, \" y_test=\", y_test.shape)\n",
        "\n",
        "# Use 'fit_transform' rather than 'fit'\n",
        "# so the data actually gets transformed into scaled data\n",
        "scaler = StandardScaler()\n",
        "X_train_scaled = scaler.fit_transform(X_train)\n",
        "\n",
        "print()\n",
        "print(type(X_train_scaled))\n",
        "print(X_train_scaled.shape)\n",
        "\n",
        "# make sure the data got scaled correctly\n",
        "print()\n",
        "print(X_train_scaled[0])\n",
        "print(\"mean=\", X_train_scaled.mean()) #mean should be 0\n",
        "print(\"std=\", X_train_scaled.std())   #std should be 1"
      ]
    },
    {
      "cell_type": "markdown",
      "metadata": {
        "id": "KaBiz-Gzn8x5"
      },
      "source": [
        "PCA is affected by the scale of the features that is why it is important to standardize the dataset first. The principle components generated by PCA are sensitive to the shape of the data in d-dimensional space.\n",
        "\n",
        "Carry out a principal components analysis using `sklearn.decomposition.PCA` (documentation [here](https://scikit-learn.org/stable/modules/generated/sklearn.decomposition.PCA.html))."
      ]
    },
    {
      "cell_type": "code",
      "execution_count": null,
      "metadata": {
        "id": "caMMDJw_n8x5",
        "outputId": "180f8215-c93b-4f30-fda4-6e98f92fad6c"
      },
      "outputs": [
        {
          "data": {
            "text/html": [
              "<div>\n",
              "<style scoped>\n",
              "    .dataframe tbody tr th:only-of-type {\n",
              "        vertical-align: middle;\n",
              "    }\n",
              "\n",
              "    .dataframe tbody tr th {\n",
              "        vertical-align: top;\n",
              "    }\n",
              "\n",
              "    .dataframe thead th {\n",
              "        text-align: right;\n",
              "    }\n",
              "</style>\n",
              "<table border=\"1\" class=\"dataframe\">\n",
              "  <thead>\n",
              "    <tr style=\"text-align: right;\">\n",
              "      <th></th>\n",
              "      <th>0</th>\n",
              "      <th>1</th>\n",
              "      <th>2</th>\n",
              "      <th>3</th>\n",
              "      <th>4</th>\n",
              "      <th>5</th>\n",
              "    </tr>\n",
              "  </thead>\n",
              "  <tbody>\n",
              "    <tr>\n",
              "      <th>0</th>\n",
              "      <td>-1.225296</td>\n",
              "      <td>-1.480481</td>\n",
              "      <td>-0.840910</td>\n",
              "      <td>-0.621452</td>\n",
              "      <td>0.401896</td>\n",
              "      <td>0.005192</td>\n",
              "    </tr>\n",
              "    <tr>\n",
              "      <th>1</th>\n",
              "      <td>2.055563</td>\n",
              "      <td>0.722726</td>\n",
              "      <td>-0.491535</td>\n",
              "      <td>-0.367619</td>\n",
              "      <td>-0.616642</td>\n",
              "      <td>-0.022898</td>\n",
              "    </tr>\n",
              "    <tr>\n",
              "      <th>2</th>\n",
              "      <td>1.824207</td>\n",
              "      <td>-0.378327</td>\n",
              "      <td>-1.809884</td>\n",
              "      <td>0.321609</td>\n",
              "      <td>0.393788</td>\n",
              "      <td>-0.012294</td>\n",
              "    </tr>\n",
              "    <tr>\n",
              "      <th>3</th>\n",
              "      <td>-0.932972</td>\n",
              "      <td>1.718970</td>\n",
              "      <td>0.166859</td>\n",
              "      <td>0.108534</td>\n",
              "      <td>0.308952</td>\n",
              "      <td>0.926883</td>\n",
              "    </tr>\n",
              "    <tr>\n",
              "      <th>4</th>\n",
              "      <td>-0.993940</td>\n",
              "      <td>-0.379428</td>\n",
              "      <td>0.477439</td>\n",
              "      <td>-1.310679</td>\n",
              "      <td>-0.608533</td>\n",
              "      <td>-0.005412</td>\n",
              "    </tr>\n",
              "  </tbody>\n",
              "</table>\n",
              "</div>"
            ],
            "text/plain": [
              "          0         1         2         3         4         5\n",
              "0 -1.225296 -1.480481 -0.840910 -0.621452  0.401896  0.005192\n",
              "1  2.055563  0.722726 -0.491535 -0.367619 -0.616642 -0.022898\n",
              "2  1.824207 -0.378327 -1.809884  0.321609  0.393788 -0.012294\n",
              "3 -0.932972  1.718970  0.166859  0.108534  0.308952  0.926883\n",
              "4 -0.993940 -0.379428  0.477439 -1.310679 -0.608533 -0.005412"
            ]
          },
          "execution_count": 64,
          "metadata": {},
          "output_type": "execute_result"
        }
      ],
      "source": [
        "from sklearn.decomposition import PCA\n",
        "\n",
        "# Fit PCA to the training set. Use fit_transform to transform the data to the PCA space.\n",
        "pca = PCA()\n",
        "pca_data = pca.fit_transform(X_train_scaled)\n",
        "\n",
        "# The PCA-transformed data is now in the variable pca_data\n",
        "\n",
        "# Convert pca_data from a 2D numpy array to a DataFrame to view it\n",
        "pca_data_df = pd.DataFrame(pca_data)\n",
        "pca_data_df.head()"
      ]
    },
    {
      "cell_type": "markdown",
      "metadata": {
        "id": "A_iH3eDWn8x6"
      },
      "source": [
        "Project the data down on to lower dimensions, so that 80% of the variance of the data is retained.\n",
        "\n",
        "There are 2 ways to do this.\n",
        "\n",
        "Method 1:\n",
        "\n",
        "Use the `pca.explained_variance_ratio_` field to determine how many principal components are needed so that 80% variance is retained.\n",
        "\n",
        "Reduce the PCA-transformed-dataset to this number of columns."
      ]
    },
    {
      "cell_type": "code",
      "execution_count": null,
      "metadata": {
        "scrolled": true,
        "id": "2Rw_J0Zfn8x7",
        "outputId": "6eb6a761-af1d-420c-877c-8c9c6504d230"
      },
      "outputs": [
        {
          "name": "stdout",
          "output_type": "stream",
          "text": [
            "Variance in each PC: [0.40043021 0.24072697 0.19843055 0.09904378 0.04387732 0.01749117]\n",
            "Cumulative variance: [0.40043021 0.64115718 0.83958772 0.9386315  0.98250883 1.        ]\n",
            "n_cols to keep: 3\n"
          ]
        }
      ],
      "source": [
        "import numpy as np\n",
        "\n",
        "#how many colums are required to retain 80% variance\n",
        "var_exp = pca.explained_variance_ratio_\n",
        "print(\"Variance in each PC:\", var_exp)\n",
        "\n",
        "cum_var_exp = np.cumsum(var_exp)\n",
        "print(\"Cumulative variance:\", cum_var_exp)\n",
        "\n",
        "# find the index where the cumulative variance goes over 80\n",
        "n_cols = 1 + np.argmax(cum_var_exp > 0.80)\n",
        "print(\"n_cols to keep:\", n_cols)\n",
        "\n",
        "#reduce training set to this size\n",
        "X_train_pca_1 = pca_data[:, :n_cols] # all rows, columns 0 to n_cols"
      ]
    },
    {
      "cell_type": "markdown",
      "metadata": {
        "id": "NXcRAg8on8x9"
      },
      "source": [
        "Method 2:\n",
        "\n",
        "Note that the PCA documentation states:\n",
        "*If 0 < n_components < 1 and svd_solver == 'full', select the number of components such that the amount of variance that needs to be explained is greater than the percentage specified by n_components.*"
      ]
    },
    {
      "cell_type": "code",
      "execution_count": null,
      "metadata": {
        "id": "rg5ZMHvQn8x-",
        "outputId": "55e2b3e5-5f04-45d0-948c-d96bbf3f1c92"
      },
      "outputs": [
        {
          "name": "stdout",
          "output_type": "stream",
          "text": [
            "Variance in each PC: [0.44039231 0.25649923 0.14222673]\n",
            "Cumulative variance: [0.44039231 0.69689154 0.83911827]\n"
          ]
        }
      ],
      "source": [
        "# This is method 2: set n_components to 0.8 and svd_solver to 'full'\n",
        "pca_2 = PCA(n_components=0.8, svd_solver='full')\n",
        "X_train_pca_2 = pca_2.fit_transform(X_train)\n",
        "\n",
        "# Now the data has been reduced to the correct number of dimensions needed to\n",
        "# retain 80% of the variance. Note there are only 3 pricipal components (3 dimensions) kept\n",
        "var_exp_2 = pca_2.explained_variance_ratio_\n",
        "print(\"Variance in each PC:\", var_exp_2)\n",
        "\n",
        "cum_var_exp_2 = np.cumsum(var_exp_2)\n",
        "print(\"Cumulative variance:\", cum_var_exp_2)"
      ]
    },
    {
      "cell_type": "code",
      "execution_count": null,
      "metadata": {
        "id": "M0LNk1cFn8x_",
        "outputId": "dd05b205-ad1b-4758-edaf-21b9e6203b10"
      },
      "outputs": [
        {
          "data": {
            "image/png": "[encoded data removed]",
            "text/plain": [
              "<Figure size 432x288 with 1 Axes>"
            ]
          },
          "metadata": {},
          "output_type": "display_data"
        }
      ],
      "source": [
        "# Plot to visualize the variance in each principal component\n",
        "import matplotlib.pyplot as plt\n",
        "plt.figure(figsize=(6, 4))\n",
        "plt.bar(range(6), var_exp, alpha=0.5, align='center',\n",
        "        label='individual explained variance')\n",
        "plt.step(range(6), cum_var_exp, where='mid',\n",
        "         label='cumulative explained variance')\n",
        "plt.ylabel('Explained variance ratio')\n",
        "plt.xlabel('Principal components')\n",
        "plt.legend(loc='best')\n",
        "plt.tight_layout()"
      ]
    },
    {
      "cell_type": "markdown",
      "metadata": {
        "id": "9ts2-KrNn8yC"
      },
      "source": [
        "Once the training set's dimensionality has been reduced with PCA, transform the **test set** to the principal component space that was created. (Do not fit a new PCA. Use the same one that was created with the training set.)"
      ]
    },
    {
      "cell_type": "code",
      "execution_count": null,
      "metadata": {
        "id": "ex2yrMZ5n8yD",
        "outputId": "2f08763d-7169-4953-df7d-46c33375c750"
      },
      "outputs": [
        {
          "name": "stdout",
          "output_type": "stream",
          "text": [
            "(12, 3) (3, 6)\n"
          ]
        }
      ],
      "source": [
        "# transform the test set to this space\n",
        "# just call 'transform' on the existing scaler object and on\n",
        "# the existing pca object (do not call 'fit_transform', nor 'fit')\n",
        "# then reduce it down to the correct number of dimensions (columns)\n",
        "X_test_scaled = scaler.transform(X_test)\n",
        "\n",
        "# if you used \"Method 1\" to reduce the dimensionality,\n",
        "# then you need to \"manually\" reduce the dimensionality by selecting n_cols\n",
        "X_test_pca = pca.transform(X_test_scaled)[:, :n_cols]\n",
        "\n",
        "# if you used \"Method 2\" to reduce the dimensionaltiy,\n",
        "# then you don't need to \"manually\" remove any columns\n",
        "X_test_pca = pca.transform(X_test_scaled)\n",
        "\n",
        "print (X_train_pca.shape, X_test_pca.shape) #they've both been reduced to 3 dimensions"
      ]
    },
    {
      "cell_type": "code",
      "execution_count": null,
      "metadata": {
        "id": "fDn6B-Ahn8yE"
      },
      "outputs": [],
      "source": []
    }
  ],
  "metadata": {
    "kernelspec": {
      "display_name": "Python 3",
      "language": "python",
      "name": "python3"
    },
    "language_info": {
      "codemirror_mode": {
        "name": "ipython",
        "version": 3
      },
      "file_extension": ".py",
      "mimetype": "text/x-python",
      "name": "python",
      "nbconvert_exporter": "python",
      "pygments_lexer": "ipython3",
      "version": "3.6.5"
    },
    "colab": {
      "provenance": []
    }
  },
  "nbformat": 4,
  "nbformat_minor": 0
}