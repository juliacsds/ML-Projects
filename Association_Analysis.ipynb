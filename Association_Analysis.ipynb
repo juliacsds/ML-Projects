{
  "cells": [
    {
      "cell_type": "markdown",
      "metadata": {
        "id": "GeTIzo01av5F"
      },
      "source": [
        "Name(s):\n",
        "Rohan Chugh\n",
        "Julia Joseph"
      ]
    },
    {
      "cell_type": "markdown",
      "metadata": {
        "id": "R2DEkf-Zav5H"
      },
      "source": [
        "# Association Analysis\n",
        "\n",
        "Association analysis uses machine learning to extract frequent itemsets and strong association rules from large datasets. In this assignment you'll be implementing one of the most commonly used algorithms for association rule mining - the Apriori algorithm.\n",
        "\n",
        "The dataset (`large_retail.txt`) that we are going to use has been adapted from the [Retail Market Basket Dataset](http://fimi.ua.ac.be/data/retail.pdf). This dataset contains transaction records supplied by a Belgian retail supermarket store. Each line in the file represents a separate transaction with the item ids separated by space. The dataset has 3000 transactions and 99 different item ids.\n",
        "\n",
        "You are also provided with a smaller dataset (`small_retail.txt`) with 9 transactions and 5 different item ids along with the solutions. You can test and debug your implementation on this smaller dataset."
      ]
    },
    {
      "cell_type": "markdown",
      "metadata": {
        "id": "tbP9vHq5av5I"
      },
      "source": [
        "## Apriori Algorithm from scratch\n",
        "\n",
        "The Apriori algorithm is a classical algorithm in data mining. It is used for mining frequent itemsets and relevant association rules. In this part, you'll be implementing this algorithm for generating the itemsets that occur enough times to meet the `min_sup` threshold.\n",
        "\n",
        "**Implementation Hint:**\n",
        "\n",
        "- Use the `frozenset` data structure in Python, which is similar to `set` in functionality, to represent the itemsets, because `frozenset` is an immutable (hashable) data structure. You can maintain a dictionary that maps from the itemset (a `frozenset`) to its support count."
      ]
    },
    {
      "cell_type": "code",
      "execution_count": null,
      "metadata": {
        "collapsed": true,
        "id": "7lgodpBpav5I"
      },
      "outputs": [],
      "source": [
        "# Standard imports (you can add additional headers if you wish)\n",
        "import numpy as np"
      ]
    },
    {
      "cell_type": "code",
      "execution_count": null,
      "metadata": {
        "collapsed": true,
        "id": "b5W4ILmbav5J"
      },
      "outputs": [],
      "source": [
        "# Reading the dataset from file\n",
        "def load_dataset(file_name):\n",
        "    with open(file_name, 'r') as f:\n",
        "        content = f.readlines()\n",
        "        data = [[int(x) for x in line.rstrip().split()] for line in content]\n",
        "    return data"
      ]
    },
    {
      "cell_type": "code",
      "execution_count": null,
      "metadata": {
        "colab": {
          "base_uri": "https://localhost:8080/"
        },
        "id": "LgL-Prahav5J",
        "outputId": "7d95bea5-63f2-4a7d-bafc-1474fefa57f0"
      },
      "outputs": [
        {
          "output_type": "execute_result",
          "data": {
            "text/plain": [
              "[[1, 2, 5],\n",
              " [2, 4],\n",
              " [2, 3],\n",
              " [1, 2, 4],\n",
              " [1, 3],\n",
              " [2, 3],\n",
              " [1, 3],\n",
              " [1, 2, 3, 5],\n",
              " [1, 2, 3]]"
            ]
          },
          "metadata": {},
          "execution_count": 3
        }
      ],
      "source": [
        "# Read in the small_retail dataset\n",
        "small_dataset = load_dataset('small_retail.txt')\n",
        "small_dataset\n"
      ]
    },
    {
      "cell_type": "markdown",
      "metadata": {
        "id": "Vi3ZtYjxav5K"
      },
      "source": [
        "Q1. Implement the function `create_1_itemsets` that takes as input the entire dataset and returns a list of all the candidate 1-itemsets. For example, for `small_retail.txt` it should return:\n",
        "~~~\n",
        "[frozenset({1}),\n",
        " frozenset({2}),\n",
        " frozenset({3}),\n",
        " frozenset({4}),\n",
        " frozenset({5})]\n",
        " ~~~\n",
        " Please don't hardcode the item ids, your code should support item ids that are non-sequential."
      ]
    },
    {
      "cell_type": "code",
      "execution_count": null,
      "metadata": {
        "colab": {
          "base_uri": "https://localhost:8080/"
        },
        "collapsed": true,
        "id": "9YA1kceHav5K",
        "outputId": "1eb245a2-7f72-40d0-dc09-381929ca06d8"
      },
      "outputs": [
        {
          "output_type": "stream",
          "name": "stdout",
          "text": [
            "[frozenset({1}), frozenset({2}), frozenset({3}), frozenset({4}), frozenset({5})]\n"
          ]
        }
      ],
      "source": [
        "def create_1_itemsets(dataset):\n",
        "    c1 = []\n",
        "    unique_vals = set()\n",
        "    for row in dataset:\n",
        "        for num in row:\n",
        "            unique_vals.add(num)\n",
        "    for num in unique_vals:\n",
        "        c1.append(frozenset([num]))\n",
        "    # your code goes here\n",
        "    return c1\n",
        "\n",
        "print(create_1_itemsets(small_dataset))"
      ]
    },
    {
      "cell_type": "markdown",
      "metadata": {
        "id": "DTDa7cgLav5K"
      },
      "source": [
        "Q2. Implement function `filter_candidates` that takes as input the candidate itemsets, the dataset, and the minumum support count `min_sup`, and filters out candidates that don't meet the support threshold.\n",
        "\n",
        "Return a list of all the itemsets that meet `min_sup` (as a list of frozensets) and the support count information for all of them (as a `dict`)."
      ]
    },
    {
      "cell_type": "code",
      "execution_count": null,
      "metadata": {
        "id": "0FC1RMDnav5L"
      },
      "outputs": [],
      "source": [
        "def filter_candidates(candidates, dataset, min_sup):\n",
        "    retlist = []\n",
        "    support_data = {}\n",
        "    # your code goes here\n",
        "    for candidate in candidates:\n",
        "        found = 0\n",
        "        for transaction in dataset:\n",
        "            if all(elem in transaction for elem in candidate):\n",
        "                found += 1\n",
        "        if found >= min_sup:\n",
        "            support_data[candidate] = found\n",
        "            retlist.append(candidate)\n",
        "        # get count of this candidate\n",
        "    return retlist, support_data\n",
        "# lst, counts = filter_candidates(create_1_itemsets(small_dataset), small_dataset, 1)\n",
        "# print(lst)\n",
        "# print(counts)\n"
      ]
    },
    {
      "cell_type": "markdown",
      "metadata": {
        "id": "YGWIxcGeav5L"
      },
      "source": [
        "Q3. Implement the function `generate_next_itemsets` that takes in frequent itemsets of size `k` and generates candidate itemsets of size `k + 1`.\n",
        "\n",
        "Use either the F(k-1) x F(k-1) or the F(k-1) x F(1) candidate generation method, then **filter the candidate list based on the apriori principle before returning it.**"
      ]
    },
    {
      "cell_type": "code",
      "execution_count": null,
      "metadata": {
        "id": "BNXeuAqbav5L"
      },
      "outputs": [],
      "source": [
        "from itertools import combinations\n",
        "def generate_next_itemsets(freq_sets):\n",
        "    # print(freq_sets)\n",
        "    retlist = []\n",
        "    # your code goes here\n",
        "    for i in range(len(freq_sets)):\n",
        "        for j in range(i+1, len(freq_sets)):\n",
        "            items_one = freq_sets[i]\n",
        "            items_two = freq_sets[j]\n",
        "            candidate = items_one | items_two\n",
        "            # all but last elem are the same\n",
        "            if len(candidate) == (len(items_one) + 1):\n",
        "                if all(frozenset(subset) in freq_sets for subset in combinations(candidate, len(candidate)-1)) and candidate not in retlist:\n",
        "                    retlist.append(candidate)\n",
        "\n",
        "\n",
        "\n",
        "\n",
        "    return retlist\n",
        "\n"
      ]
    },
    {
      "cell_type": "markdown",
      "metadata": {
        "id": "inYmUgNWav5L"
      },
      "source": [
        "Q4. Implement the function `apriori_freq_itemsets` that takes the entire dataset as input and returns all the frequent itemsets that meet `min_sup`."
      ]
    },
    {
      "cell_type": "code",
      "execution_count": null,
      "metadata": {
        "colab": {
          "base_uri": "https://localhost:8080/"
        },
        "collapsed": true,
        "id": "rgMr_M58av5L",
        "outputId": "a4080f0a-be2f-4dea-fa49-8c030dfb8aa9"
      },
      "outputs": [
        {
          "output_type": "stream",
          "name": "stdout",
          "text": [
            "[frozenset({1}), frozenset({2}), frozenset({3}), frozenset({4}), frozenset({5}), frozenset({1, 2}), frozenset({1, 3}), frozenset({1, 5}), frozenset({2, 3}), frozenset({2, 4}), frozenset({2, 5}), frozenset({1, 2, 3}), frozenset({1, 2, 5})]\n"
          ]
        }
      ],
      "source": [
        "def apriori_freq_itemsets(dataset, minsup):\n",
        "    for lst in dataset:\n",
        "        lst.sort()\n",
        "    retlist = []\n",
        "    support_data = {}\n",
        "    # generate valid 1-itemsets\n",
        "    one_items = create_1_itemsets(dataset)\n",
        "    valid_candidates, support_data = filter_candidates(one_items, dataset, minsup)\n",
        "    retlist += valid_candidates\n",
        "    # continue looping until no new itemsets are generated\n",
        "    while(True):\n",
        "        candidates = generate_next_itemsets(valid_candidates)\n",
        "        valid_candidates, valid_support_counts = filter_candidates(candidates, dataset, minsup)\n",
        "        if len(valid_candidates) == 0:\n",
        "            break\n",
        "        retlist += valid_candidates\n",
        "        for key in valid_support_counts:\n",
        "            support_data[key] = valid_support_counts[key]\n",
        "\n",
        "\n",
        "\n",
        "    # your code goes here\n",
        "    return retlist, support_data\n",
        "retlst, supp = apriori_freq_itemsets(small_dataset, 2)\n",
        "print(retlst)\n",
        "\n"
      ]
    },
    {
      "cell_type": "markdown",
      "metadata": {
        "id": "MhVWqSPZav5L"
      },
      "source": [
        "Q5. Display the frequent item sets in the form of a table along with their `support` (as a fraction: support count over number of transactions) for the `large_retail.txt` dataset **with a min support count of 300**.\n",
        "\n",
        "Sample Table Format (tab separated table)\n",
        "\n",
        "~~~\n",
        "Sup     Freq Itemset\n",
        "0.67\t[1]\n",
        "0.44\t[1, 2]\n",
        "(and so on)\n",
        "...\n",
        "...\n",
        "~~~\n",
        "\n",
        "`support(itemset) = support_count(itemset) / num_total_transactions`.\n",
        "\n",
        "The `support` and the itemset should be separated by a tab (`'\\t'`).\n",
        "\n",
        "Note that the `support` should be rounded to the nearest 2 decimal places (use `round(sup, 2)`). If a support_fraction only contains 1 decimal place (for example, 0.1), you do not need to add a 0 to the end of it (leaving it as 0.1 is fine).\n",
        "\n",
        "The itemsets should also be in a sorted order where smaller itemsets should come before larger itemsets and itemsets of the same size should be sorted amongst themselves.\n",
        "\n",
        "For eg.\n",
        "~~~~\n",
        "[1, 2] should come before [1, 2, 3]\n",
        "[1, 2, 3] should come before [1, 2, 4]\n",
        "[1, 2, 3] should come before [1, 4, 5]\n",
        "[1, 2, 3] should come before [2, 3, 4]\n",
        "~~~~\n",
        "\n",
        "Note that **this order is very important for grading!**\n",
        "\n",
        "The output also shouldn't contain any duplicates.\n",
        "\n",
        "The sample output for the `small_retail.txt` dataset with `min_sup` set to 2 is:\n",
        "\n",
        "~~~~\n",
        "Sup     Freq Itemset\n",
        "0.67\t[1]\n",
        "0.78\t[2]\n",
        "0.67\t[3]\n",
        "0.22\t[4]\n",
        "0.22\t[5]\n",
        "0.44\t[1, 2]\n",
        "0.44\t[1, 3]\n",
        "0.22\t[1, 5]\n",
        "0.44\t[2, 3]\n",
        "0.22\t[2, 4]\n",
        "0.22\t[2, 5]\n",
        "0.22\t[1, 2, 3]\n",
        "0.22\t[1, 2, 5]\n",
        "~~~~\n"
      ]
    },
    {
      "cell_type": "code",
      "execution_count": null,
      "metadata": {
        "colab": {
          "base_uri": "https://localhost:8080/"
        },
        "id": "iBA-U-agav5M",
        "outputId": "98182725-6404-4c5d-cf4c-37140e26e7d0"
      },
      "outputs": [
        {
          "output_type": "stream",
          "name": "stdout",
          "text": [
            "Sup\tFreq Itemset\n",
            "0.1\t[31]\n",
            "0.14\t[32]\n",
            "0.11\t[36]\n",
            "0.26\t[38]\n",
            "0.53\t[39]\n",
            "0.22\t[41]\n",
            "0.47\t[48]\n",
            "0.11\t[60]\n",
            "0.11\t[65]\n",
            "0.11\t[89]\n",
            "0.14\t[32, 39]\n",
            "0.15\t[38, 39]\n",
            "0.13\t[38, 48]\n",
            "0.14\t[39, 41]\n",
            "0.33\t[39, 48]\n",
            "0.18\t[41, 48]\n",
            "0.14\t[39, 41, 48]\n"
          ]
        }
      ],
      "source": [
        "# your code goes here\n",
        "\n",
        "a, b = apriori_freq_itemsets(small_dataset, 2)\n",
        "# print(\"Sup\\tFreq Itemset\")\n",
        "# for itemset in a:\n",
        "#     sup = str(round(b[itemset] / len(small_dataset), 2))\n",
        "#     print(sup + \"\\t\" + str(sorted(list(itemset))))\n",
        "large_dataset = load_dataset('large_retail.txt')\n",
        "retlist, supp_data = apriori_freq_itemsets(large_dataset, 300)\n",
        "print(\"Sup\\tFreq Itemset\")\n",
        "for itemset in retlist:\n",
        "    sup = str(round(supp_data[itemset] / len(large_dataset), 2))\n",
        "    print(sup + \"\\t\" + str(sorted(list(itemset))))\n",
        "\n"
      ]
    },
    {
      "cell_type": "markdown",
      "metadata": {
        "id": "mx-wciLfav5M"
      },
      "source": [
        "Q6. Find the closed frequent item sets. Display results for the `large_retail.txt` dataset in the same format as specified in Q5.\n",
        "\n",
        "The results for the `small_retail` dataset are as follows:\n",
        "\n",
        "~~~~\n",
        "Sup\tFreq Itemset\n",
        "0.0\t[1]\n",
        "0.0\t[2]\n",
        "0.0\t[3]\n",
        "0.0\t[1, 2]\n",
        "0.0\t[1, 3]\n",
        "0.0\t[2, 3]\n",
        "0.0\t[2, 4]\n",
        "0.0\t[1, 2, 3]\n",
        "0.0\t[1, 2, 5]\n",
        "~~~~"
      ]
    },
    {
      "cell_type": "code",
      "execution_count": null,
      "metadata": {
        "colab": {
          "base_uri": "https://localhost:8080/"
        },
        "id": "gpwd-kRuav5M",
        "outputId": "2f1a5672-4cdc-4fca-c4ab-be0e582b95ef"
      },
      "outputs": [
        {
          "output_type": "stream",
          "name": "stdout",
          "text": [
            "Sup\tFreq Itemset\n",
            "0.1\t[31]\n",
            "0.11\t[36]\n",
            "0.26\t[38]\n",
            "0.53\t[39]\n",
            "0.22\t[41]\n",
            "0.47\t[48]\n",
            "0.11\t[60]\n",
            "0.11\t[65]\n",
            "0.11\t[89]\n",
            "0.14\t[32, 39]\n",
            "0.15\t[38, 39]\n",
            "0.13\t[38, 48]\n",
            "0.33\t[39, 48]\n",
            "0.18\t[41, 48]\n",
            "0.14\t[39, 41, 48]\n"
          ]
        }
      ],
      "source": [
        "def closed_freq_itemsets(support_data):\n",
        "    closed_sets = []\n",
        "\n",
        "    for i, itemset in enumerate(support_data.keys()):\n",
        "        is_closed = True\n",
        "        for j, other_itemset in enumerate(support_data.keys()):\n",
        "            if i != j and itemset.issubset(other_itemset) and support_data[itemset] == support_data[other_itemset]:\n",
        "                is_closed = False\n",
        "                break\n",
        "        if is_closed:\n",
        "            closed_sets.append(itemset)\n",
        "\n",
        "\n",
        "    return closed_sets\n",
        "\n",
        "retlist, support_data = apriori_freq_itemsets(large_dataset, 300)\n",
        "closed = closed_freq_itemsets(support_data)\n",
        "print(\"Sup\\tFreq Itemset\")\n",
        "for itemset in closed:\n",
        "    # if(itemset in retlist):\n",
        "    sup = str(round(support_data[itemset] / len(large_dataset), 2))\n",
        "    print(sup + \"\\t\" + str(sorted(list(itemset))))"
      ]
    },
    {
      "cell_type": "markdown",
      "metadata": {
        "id": "hdc5hgXIav5M"
      },
      "source": [
        "## Extra Credit (+5 points)\n",
        "\n",
        "Q7. Now, generate the strong rules from the frequent itemsets. Given a dictionary of frequent itemsets and their supports, generate all the rules having confidence above some provided `min_conf` threshold. Display the rules in the form of a table.\n",
        "\n",
        "Sample table format (tab separated table):\n",
        "\n",
        "~~~\n",
        "Sup     Conf    Rule\n",
        "0.44\t0.67\t[1] -> [2]\n",
        "0.22\t1.0\t [5] -> [1, 2]\n",
        "0.22\t1.0\t [2, 5] -> [1]\n",
        "(and so on)\n",
        "...\n",
        "...\n",
        "~~~\n",
        "\n",
        "Rule confidence should be rounded to the nearest 2 decimal places (use `round(conf, 2)`). This table should also be tab (`'\\t'`) separated. The rules should be displayed in a sorted order. If a rule is given as `LHS -> RHS` then the rules for which `len(LHS)` is lesser should appear first. If the `len(LHS)` is equal for two rules then rules for which `len(RHS)` is lesser should appear first. If both `len(LHS)` and `len(RHS)` is equal then the rules should be sorted based on LHS first and then based on RHS.\n",
        "\n",
        "~~~~\n",
        "Note:\n",
        "LHS (Left Hand Side)\n",
        "RHS (Right Hand Side)\n",
        "~~~~\n",
        "\n",
        "For eg.\n",
        "~~~~\n",
        "[3] -> [2] should come before [1, 3] -> [4]\n",
        "[4] -> [2] should come before [2] -> [3, 4]\n",
        "[1, 3] -> [2] should come before [1, 5] -> [2]\n",
        "[1, 2] -> [3] should come before [1, 2] -> [5]\n",
        "~~~~\n",
        "\n",
        "Note that **this order is important for grading**.\n",
        "\n",
        "The sample output for the `small_retail` dataset with `min_conf = 0.5` is:\n",
        "\n",
        "~~~~\n",
        "Sup\t Conf\tRule\n",
        "0.44\t0.67\t[1] -> [2]\n",
        "0.44\t0.67\t[1] -> [3]\n",
        "0.44\t0.57\t[2] -> [1]\n",
        "0.44\t0.57\t[2] -> [3]\n",
        "0.44\t0.67\t[3] -> [1]\n",
        "0.44\t0.67\t[3] -> [2]\n",
        "0.22\t1.0\t [4] -> [2]\n",
        "0.22\t1.0\t [5] -> [1]\n",
        "0.22\t1.0\t [5] -> [2]\n",
        "0.22\t1.0\t [5] -> [1, 2]\n",
        "0.22\t0.5\t [1, 2] -> [3]\n",
        "0.22\t0.5\t [1, 2] -> [5]\n",
        "0.22\t0.5\t [1, 3] -> [2]\n",
        "0.22\t1.0\t [1, 5] -> [2]\n",
        "0.22\t0.5\t [2, 3] -> [1]\n",
        "0.22\t1.0\t [2, 5] -> [1]\n",
        "~~~~"
      ]
    },
    {
      "cell_type": "code",
      "source": [
        "def compare(rule1, rule2):\n",
        "    if len(rule1[0]) != len(rule2[0]):\n",
        "        return len(rule1[0]) - len(rule2[0])\n",
        "\n",
        "    if len(rule1[1]) != len(rule2[1]):\n",
        "        return len(rule1[1]) - len(rule2[1])\n",
        "\n",
        "    if rule1[0] != rule2[0]:\n",
        "        for i in range(len(rule1[0])):\n",
        "            elem1 = rule1[0][i]\n",
        "            elem2 = rule2[0][i]\n",
        "            if elem1 != elem2:\n",
        "                return elem1 - elem2\n",
        "    if rule1[1] != rule2[1]:\n",
        "        for i in range(len(rule1[1])):\n",
        "            elem1 = rule1[1][i]\n",
        "            elem2 = rule2[1][i]\n",
        "            if elem1 != elem2:\n",
        "                return elem1 - elem2\n",
        "    # should never happen...\n",
        "    return 0"
      ],
      "metadata": {
        "id": "uhg2_ZGwXpfF"
      },
      "execution_count": null,
      "outputs": []
    },
    {
      "cell_type": "code",
      "execution_count": null,
      "metadata": {
        "id": "ljd3Ktulav5M",
        "colab": {
          "base_uri": "https://localhost:8080/"
        },
        "outputId": "ad7503d0-3033-40a6-96ae-98bcfe2ad0b8"
      },
      "outputs": [
        {
          "output_type": "stream",
          "name": "stdout",
          "text": [
            "small dataset:\n",
            "Sup\tConf\tRule\n",
            "0.44\t0.67\t[1] -> [2]\n",
            "0.44\t0.67\t[1] -> [3]\n",
            "0.44\t0.57\t[2] -> [1]\n",
            "0.44\t0.57\t[2] -> [3]\n",
            "0.44\t0.67\t[3] -> [1]\n",
            "0.44\t0.67\t[3] -> [2]\n",
            "0.22\t1.0\t[4] -> [2]\n",
            "0.22\t1.0\t[5] -> [1]\n",
            "0.22\t1.0\t[5] -> [2]\n",
            "0.22\t1.0\t[5] -> [1, 2]\n",
            "0.22\t0.5\t[1, 2] -> [3]\n",
            "0.22\t0.5\t[1, 2] -> [5]\n",
            "0.22\t0.5\t[1, 3] -> [2]\n",
            "0.22\t1.0\t[1, 5] -> [2]\n",
            "0.22\t0.5\t[2, 3] -> [1]\n",
            "0.22\t1.0\t[2, 5] -> [1]\n",
            "\n",
            "large dataset:\n",
            "Sup\tConf\tRule\n",
            "0.14\t1.0\t[32] -> [39]\n",
            "0.15\t0.58\t[38] -> [39]\n",
            "0.33\t0.62\t[39] -> [48]\n",
            "0.14\t0.64\t[41] -> [39]\n",
            "0.18\t0.8\t[41] -> [48]\n",
            "0.33\t0.7\t[48] -> [39]\n",
            "0.14\t0.64\t[41] -> [39, 48]\n",
            "0.14\t1.0\t[39, 41] -> [48]\n",
            "0.14\t0.8\t[41, 48] -> [39]\n"
          ]
        }
      ],
      "source": [
        "from functools import cmp_to_key\n",
        "def generate_rules(support_data, minconf):\n",
        "    rules = []\n",
        "    # print(support_data.keys())\n",
        "    for itemset in support_data.keys():\n",
        "        # rule represented as [LHS,RHS,conf] where LHS and RHS type = []\n",
        "        # gen 1-item RHS rules\n",
        "        curr_rules = []\n",
        "        if(len(itemset) <= 1):\n",
        "            continue\n",
        "        for RHS in combinations(itemset, 1):\n",
        "            RHS = frozenset(RHS)\n",
        "            LHS = frozenset(itemset-RHS)\n",
        "            conf = support_data[itemset] / support_data[LHS]\n",
        "            if conf >= minconf:\n",
        "                rules.append([sorted(list(LHS)),sorted(list(RHS)),conf])\n",
        "                curr_rules.append([LHS,RHS,conf])\n",
        "        # now generate the rest of the rules\n",
        "\n",
        "        # double pointer loop to merge rules\n",
        "        for num in range(len(itemset)-2):\n",
        "            temp_rules = []\n",
        "            for i in range(len(curr_rules)):\n",
        "                for j in range(i+1, len(curr_rules)):\n",
        "                    RHS = curr_rules[i][1] | curr_rules[j][1]\n",
        "                    LHS = frozenset(itemset - RHS)\n",
        "                    # print(LHS)\n",
        "                    # print(LHS)\n",
        "                    conf = support_data[itemset] / support_data[LHS]\n",
        "                    if conf >= minconf:\n",
        "                        temp_rules.append([LHS,RHS,conf])\n",
        "                        rules.append([sorted(list(LHS)),sorted(list(RHS)),conf])\n",
        "            curr_rules = temp_rules\n",
        "\n",
        "\n",
        "\n",
        "\n",
        "        # for i in range(1, len(itemset)):\n",
        "        #   for left_side in combinations(itemset, i):\n",
        "        #     left_side = frozenset(left_side)\n",
        "        #     right_side = itemset - left_side\n",
        "        #     conf = support_data[itemset]/support_data[left_side]\n",
        "        #     if conf >= minconf:\n",
        "        #       rules.append([support_data[left_side]/len(itemset), round(conf, 2), left_side, right_side])\n",
        "    # print(\"\\n\\n\\n\\n\\n\\n\")\n",
        "    # for rule in rules:\n",
        "        # print(f\"{sorted(list(rule[0]))} -> {sorted(list(rule[1]))}, conf: {rule[2]}\")\n",
        "    # print(rules)\n",
        "    # rules.sort(key=lambda x: (len(x[0]), len(x[1]), x[1], x[2]))\n",
        "    # rules.sort(key = sorting_func)\n",
        "    rules = sorted(rules, key=cmp_to_key(compare))\n",
        "    return rules\n",
        "\n",
        "\n",
        "\n",
        "retlist, support_data1 = apriori_freq_itemsets(small_dataset, 2)\n",
        "rules = generate_rules(support_data1, 0.5)\n",
        "print(\"small dataset:\")\n",
        "print(\"Sup\\tConf\\tRule\")\n",
        "for r in rules:\n",
        "    sup = support_data1[frozenset(r[0]) | frozenset(r[1])] / len(small_dataset)\n",
        "    print(\"{}\\t{}\\t{} -> {}\".format(round(sup, 2), round(r[2],2), sorted(list(r[0])), sorted(list(r[1]))))\n",
        "\n",
        "print()\n",
        "retlist, support_data1 = apriori_freq_itemsets(large_dataset, 300)\n",
        "rules = generate_rules(support_data1, 0.5)\n",
        "print(\"large dataset:\")\n",
        "print(\"Sup\\tConf\\tRule\")\n",
        "for r in rules:\n",
        "    sup = support_data1[frozenset(r[0]) | frozenset(r[1])] / len(large_dataset)\n",
        "    print(\"{}\\t{}\\t{} -> {}\".format(round(sup, 2), round(r[2],2), sorted(list(r[0])), sorted(list(r[1]))))\n",
        "\n",
        "\n",
        "\n",
        ""
      ]
    },
    {
      "cell_type": "markdown",
      "metadata": {
        "id": "Uafe2wd-av5M"
      },
      "source": [
        "## Part 2 - Association Analysis using MLXtend\n",
        "\n",
        "## Installation\n",
        "`scikit-learn` does not provide any functionality for association rule mining so for this assignment you will be using the `MLxtend` library. The documentation for this library is available [here](http://rasbt.github.io/mlxtend/).\n",
        "\n",
        "You will need to install the `MLxtend` library. There are several ways of doing this; you can follow the instructions below, or see the setup guide  [here](http://rasbt.github.io/mlxtend/installation/).\n",
        "\n",
        "\n",
        "### Conda\n",
        "\n",
        "If you downladed Anaconda in order to get Jupyter Notebooks (which is the most common way to get Jupyter Notebooks), then you will want to install `MLxtend` using Conda.\n",
        "\n",
        "Open a command prompt / terminal window and type:\n",
        "\n",
        "`conda install mlxtend --channel conda-forge`\n",
        "\n",
        "### PyPi\n",
        "\n",
        "You can also install via pip.\n",
        "Note: If you are running Jupyter notebooks through an Anaconda install, then pip may not place the `MLxtend` libraries in the correct place for use in Jupyter (which is why you should use Conda instead of pip, if you downloaded Anaconda).\n",
        "\n",
        "Open a command prompt / terminal window and type:\n",
        "\n",
        "`pip3 install mlxtend`\n",
        "\n",
        "### Google Colab\n",
        "\n",
        "If you are using Google Colab, you can install MLXtend via a pip install command with an exclamation point in front of it, in one of your notebook cells. The exclamation points allows you to put shell commands inside of Colab.\n",
        "\n",
        "In a cell in your Colab notebook, type:\n",
        "\n",
        "`!pip install mlxtend`\n"
      ]
    },
    {
      "cell_type": "code",
      "execution_count": null,
      "metadata": {
        "colab": {
          "base_uri": "https://localhost:8080/"
        },
        "id": "vS93zfUU5sW2",
        "outputId": "9ba2951b-5d3b-4417-af78-ef2a5364c986"
      },
      "outputs": [
        {
          "output_type": "stream",
          "name": "stdout",
          "text": [
            "Looking in indexes: https://pypi.org/simple, https://us-python.pkg.dev/colab-wheels/public/simple/\n",
            "Requirement already satisfied: mlxtend in /usr/local/lib/python3.9/dist-packages (0.14.0)\n",
            "Requirement already satisfied: scipy>=0.17 in /usr/local/lib/python3.9/dist-packages (from mlxtend) (1.10.1)\n",
            "Requirement already satisfied: numpy>=1.10.4 in /usr/local/lib/python3.9/dist-packages (from mlxtend) (1.22.4)\n",
            "Requirement already satisfied: scikit-learn>=0.18 in /usr/local/lib/python3.9/dist-packages (from mlxtend) (1.2.2)\n",
            "Requirement already satisfied: setuptools in /usr/local/lib/python3.9/dist-packages (from mlxtend) (67.7.2)\n",
            "Requirement already satisfied: pandas>=0.17.1 in /usr/local/lib/python3.9/dist-packages (from mlxtend) (1.5.3)\n",
            "Requirement already satisfied: matplotlib>=1.5.1 in /usr/local/lib/python3.9/dist-packages (from mlxtend) (3.7.1)\n",
            "Requirement already satisfied: pyparsing>=2.3.1 in /usr/local/lib/python3.9/dist-packages (from matplotlib>=1.5.1->mlxtend) (3.0.9)\n",
            "Requirement already satisfied: contourpy>=1.0.1 in /usr/local/lib/python3.9/dist-packages (from matplotlib>=1.5.1->mlxtend) (1.0.7)\n",
            "Requirement already satisfied: importlib-resources>=3.2.0 in /usr/local/lib/python3.9/dist-packages (from matplotlib>=1.5.1->mlxtend) (5.12.0)\n",
            "Requirement already satisfied: cycler>=0.10 in /usr/local/lib/python3.9/dist-packages (from matplotlib>=1.5.1->mlxtend) (0.11.0)\n",
            "Requirement already satisfied: pillow>=6.2.0 in /usr/local/lib/python3.9/dist-packages (from matplotlib>=1.5.1->mlxtend) (8.4.0)\n",
            "Requirement already satisfied: packaging>=20.0 in /usr/local/lib/python3.9/dist-packages (from matplotlib>=1.5.1->mlxtend) (23.1)\n",
            "Requirement already satisfied: python-dateutil>=2.7 in /usr/local/lib/python3.9/dist-packages (from matplotlib>=1.5.1->mlxtend) (2.8.2)\n",
            "Requirement already satisfied: kiwisolver>=1.0.1 in /usr/local/lib/python3.9/dist-packages (from matplotlib>=1.5.1->mlxtend) (1.4.4)\n",
            "Requirement already satisfied: fonttools>=4.22.0 in /usr/local/lib/python3.9/dist-packages (from matplotlib>=1.5.1->mlxtend) (4.39.3)\n",
            "Requirement already satisfied: pytz>=2020.1 in /usr/local/lib/python3.9/dist-packages (from pandas>=0.17.1->mlxtend) (2022.7.1)\n",
            "Requirement already satisfied: joblib>=1.1.1 in /usr/local/lib/python3.9/dist-packages (from scikit-learn>=0.18->mlxtend) (1.2.0)\n",
            "Requirement already satisfied: threadpoolctl>=2.0.0 in /usr/local/lib/python3.9/dist-packages (from scikit-learn>=0.18->mlxtend) (3.1.0)\n",
            "Requirement already satisfied: zipp>=3.1.0 in /usr/local/lib/python3.9/dist-packages (from importlib-resources>=3.2.0->matplotlib>=1.5.1->mlxtend) (3.15.0)\n",
            "Requirement already satisfied: six>=1.5 in /usr/local/lib/python3.9/dist-packages (from python-dateutil>=2.7->matplotlib>=1.5.1->mlxtend) (1.16.0)\n",
            "Looking in indexes: https://pypi.org/simple, https://us-python.pkg.dev/colab-wheels/public/simple/\n",
            "Requirement already satisfied: mlxtend in /usr/local/lib/python3.9/dist-packages (0.14.0)\n",
            "Collecting mlxtend\n",
            "  Downloading mlxtend-0.22.0-py2.py3-none-any.whl (1.4 MB)\n",
            "\u001b[2K     \u001b[90m━━━━━━━━━━━━━━━━━━━━━━━━━━━━━━━━━━━━━━━━\u001b[0m \u001b[32m1.4/1.4 MB\u001b[0m \u001b[31m16.9 MB/s\u001b[0m eta \u001b[36m0:00:00\u001b[0m\n",
            "\u001b[?25hRequirement already satisfied: setuptools in /usr/local/lib/python3.9/dist-packages (from mlxtend) (67.7.2)\n",
            "Requirement already satisfied: scipy>=1.2.1 in /usr/local/lib/python3.9/dist-packages (from mlxtend) (1.10.1)\n",
            "Requirement already satisfied: joblib>=0.13.2 in /usr/local/lib/python3.9/dist-packages (from mlxtend) (1.2.0)\n",
            "Requirement already satisfied: matplotlib>=3.0.0 in /usr/local/lib/python3.9/dist-packages (from mlxtend) (3.7.1)\n",
            "Requirement already satisfied: scikit-learn>=1.0.2 in /usr/local/lib/python3.9/dist-packages (from mlxtend) (1.2.2)\n",
            "Requirement already satisfied: pandas>=0.24.2 in /usr/local/lib/python3.9/dist-packages (from mlxtend) (1.5.3)\n",
            "Requirement already satisfied: numpy>=1.16.2 in /usr/local/lib/python3.9/dist-packages (from mlxtend) (1.22.4)\n",
            "Requirement already satisfied: pillow>=6.2.0 in /usr/local/lib/python3.9/dist-packages (from matplotlib>=3.0.0->mlxtend) (8.4.0)\n",
            "Requirement already satisfied: kiwisolver>=1.0.1 in /usr/local/lib/python3.9/dist-packages (from matplotlib>=3.0.0->mlxtend) (1.4.4)\n",
            "Requirement already satisfied: packaging>=20.0 in /usr/local/lib/python3.9/dist-packages (from matplotlib>=3.0.0->mlxtend) (23.1)\n",
            "Requirement already satisfied: python-dateutil>=2.7 in /usr/local/lib/python3.9/dist-packages (from matplotlib>=3.0.0->mlxtend) (2.8.2)\n",
            "Requirement already satisfied: pyparsing>=2.3.1 in /usr/local/lib/python3.9/dist-packages (from matplotlib>=3.0.0->mlxtend) (3.0.9)\n",
            "Requirement already satisfied: contourpy>=1.0.1 in /usr/local/lib/python3.9/dist-packages (from matplotlib>=3.0.0->mlxtend) (1.0.7)\n",
            "Requirement already satisfied: cycler>=0.10 in /usr/local/lib/python3.9/dist-packages (from matplotlib>=3.0.0->mlxtend) (0.11.0)\n",
            "Requirement already satisfied: fonttools>=4.22.0 in /usr/local/lib/python3.9/dist-packages (from matplotlib>=3.0.0->mlxtend) (4.39.3)\n",
            "Requirement already satisfied: importlib-resources>=3.2.0 in /usr/local/lib/python3.9/dist-packages (from matplotlib>=3.0.0->mlxtend) (5.12.0)\n",
            "Requirement already satisfied: pytz>=2020.1 in /usr/local/lib/python3.9/dist-packages (from pandas>=0.24.2->mlxtend) (2022.7.1)\n",
            "Requirement already satisfied: threadpoolctl>=2.0.0 in /usr/local/lib/python3.9/dist-packages (from scikit-learn>=1.0.2->mlxtend) (3.1.0)\n",
            "Requirement already satisfied: zipp>=3.1.0 in /usr/local/lib/python3.9/dist-packages (from importlib-resources>=3.2.0->matplotlib>=3.0.0->mlxtend) (3.15.0)\n",
            "Requirement already satisfied: six>=1.5 in /usr/local/lib/python3.9/dist-packages (from python-dateutil>=2.7->matplotlib>=3.0.0->mlxtend) (1.16.0)\n",
            "Installing collected packages: mlxtend\n",
            "  Attempting uninstall: mlxtend\n",
            "    Found existing installation: mlxtend 0.14.0\n",
            "    Uninstalling mlxtend-0.14.0:\n",
            "      Successfully uninstalled mlxtend-0.14.0\n",
            "Successfully installed mlxtend-0.22.0\n"
          ]
        }
      ],
      "source": [
        "!pip install mlxtend\n",
        "%pip install mlxtend --upgrade\n"
      ]
    },
    {
      "cell_type": "markdown",
      "metadata": {
        "id": "jxbRZZeSav5N"
      },
      "source": [
        "## Dataset\n",
        "For the second part of this assignment, the data we'll use comes from a bakery called \"The Bread Basket\", located in the historic center of Edinburgh. The dataset contains more than 9000 transactions from the bakery. The file contains the following columns:\n",
        "\n",
        "- Date. Categorical variable that tells us the date of the transactions (YYYY-MM-DD format). The column includes dates from 2016-10-30 to 2017-04-09.\n",
        "\n",
        "- Time. Categorical variable that tells us the time of the transactions (HH:MM:SS format).\n",
        "\n",
        "- Transaction. Quantitative variable that allows us to differentiate the transactions. The rows that share the same value in this field belong to the same transaction.\n",
        "\n",
        "- Item. Categorical variable with the products purchased.\n",
        "\n",
        "In this part, you'll be running the Apriori algorithm from the MLxtend library to generate the itemsets that occur more than the `min_sup` threshold. Based on these frequent itemsets, you'll find association rules that have confidence above the `min_conf` threshold."
      ]
    },
    {
      "cell_type": "code",
      "execution_count": null,
      "metadata": {
        "id": "G5GZoWq2av5N"
      },
      "outputs": [],
      "source": [
        "# Standard imports (you can add additional headers if you wish)\n",
        "import numpy as np\n",
        "import pandas as pd\n",
        "import matplotlib.pyplot as plt\n",
        "from mlxtend.preprocessing import TransactionEncoder\n",
        "from mlxtend.frequent_patterns import apriori"
      ]
    },
    {
      "cell_type": "code",
      "execution_count": null,
      "metadata": {
        "id": "m9Gu5Spfav5N",
        "colab": {
          "base_uri": "https://localhost:8080/"
        },
        "outputId": "ba04df98-3b23-4c13-d7d6-159167d5dbc0"
      },
      "outputs": [
        {
          "output_type": "stream",
          "name": "stderr",
          "text": [
            "/usr/local/lib/python3.9/dist-packages/ipykernel/ipkernel.py:283: DeprecationWarning: `should_run_async` will not call `transform_cell` automatically in the future. Please pass the result to `transformed_cell` argument and any exception that happen during thetransform in `preprocessing_exc_tuple` in IPython 7.17 and above.\n",
            "  and should_run_async(code)\n"
          ]
        }
      ],
      "source": [
        "%matplotlib inline"
      ]
    },
    {
      "cell_type": "code",
      "execution_count": null,
      "metadata": {
        "id": "nFh0yaddav5N",
        "colab": {
          "base_uri": "https://localhost:8080/"
        },
        "outputId": "e4c508bf-f8d6-4c3d-93a1-e25e38d48791"
      },
      "outputs": [
        {
          "output_type": "stream",
          "name": "stderr",
          "text": [
            "/usr/local/lib/python3.9/dist-packages/ipykernel/ipkernel.py:283: DeprecationWarning: `should_run_async` will not call `transform_cell` automatically in the future. Please pass the result to `transformed_cell` argument and any exception that happen during thetransform in `preprocessing_exc_tuple` in IPython 7.17 and above.\n",
            "  and should_run_async(code)\n"
          ]
        }
      ],
      "source": [
        "# Reading the dataset from file\n",
        "def load_dataset(file_name):\n",
        "    with open(file_name, 'r') as f:\n",
        "        content = f.readlines()[1:]\n",
        "    transactions = []\n",
        "    prev_tid = -1\n",
        "    for t in content:\n",
        "        t = t.strip().split(',')[-2:]\n",
        "        tid = t[0]\n",
        "        item = t[1]\n",
        "        if prev_tid != tid:\n",
        "            prev_tid = tid\n",
        "            transactions.append([item])\n",
        "        else:\n",
        "            transactions[-1].append(item)\n",
        "    return transactions"
      ]
    },
    {
      "cell_type": "code",
      "execution_count": null,
      "metadata": {
        "colab": {
          "base_uri": "https://localhost:8080/"
        },
        "id": "sBNVms2Oav5N",
        "outputId": "3f87aef9-0c16-4761-880f-881446f9b1a1"
      },
      "outputs": [
        {
          "output_type": "stream",
          "name": "stdout",
          "text": [
            "Num transactions: 9531\n"
          ]
        },
        {
          "output_type": "stream",
          "name": "stderr",
          "text": [
            "/usr/local/lib/python3.9/dist-packages/ipykernel/ipkernel.py:283: DeprecationWarning: `should_run_async` will not call `transform_cell` automatically in the future. Please pass the result to `transformed_cell` argument and any exception that happen during thetransform in `preprocessing_exc_tuple` in IPython 7.17 and above.\n",
            "  and should_run_async(code)\n"
          ]
        },
        {
          "output_type": "execute_result",
          "data": {
            "text/plain": [
              "[['Bread'],\n",
              " ['Scandinavian', 'Scandinavian'],\n",
              " ['Hot chocolate', 'Jam', 'Cookies'],\n",
              " ['Muffin'],\n",
              " ['Coffee', 'Pastry', 'Bread'],\n",
              " ['Medialuna', 'Pastry', 'Muffin'],\n",
              " ['Medialuna', 'Pastry', 'Coffee', 'Tea'],\n",
              " ['Pastry', 'Bread'],\n",
              " ['Bread', 'Muffin'],\n",
              " ['Scandinavian', 'Medialuna']]"
            ]
          },
          "metadata": {},
          "execution_count": 22
        }
      ],
      "source": [
        "dataset = load_dataset('BreadBasket_DMS.csv')\n",
        "\n",
        "# ** NOTE: dataset is a 2D list (not a dataframe!) **\n",
        "\n",
        "print(\"Num transactions:\", len(dataset))\n",
        "#Print the first 10 transactions\n",
        "dataset[:10]"
      ]
    },
    {
      "cell_type": "markdown",
      "metadata": {
        "id": "pF630gzeav5N"
      },
      "source": [
        "Q8. Data Cleaning: Many transactions in the dataset include the item \"NONE.\" First, find and remove all the \"NONE\" items from the dataset. There are some transactions that only contain \"NONE,\" so removing \"NONE\" will leave some transactions as empty lists. Remove all the empty lists as well.\n",
        "\n",
        "Once you have removed the NONEs, find the top 10 best-selling items in the bakery. Create a bar chart to display the total number of transactions for each of the top 10 selling items. Sort the bar chart by frequency (the top most sold item first, down to the 10th most sold item)."
      ]
    },
    {
      "cell_type": "code",
      "execution_count": null,
      "metadata": {
        "colab": {
          "base_uri": "https://localhost:8080/",
          "height": 574
        },
        "id": "qzM5_u-Uav5N",
        "outputId": "96a23f67-38c9-458d-fa9f-bf4145b3ce9e"
      },
      "outputs": [
        {
          "output_type": "stream",
          "name": "stderr",
          "text": [
            "/usr/local/lib/python3.9/dist-packages/ipykernel/ipkernel.py:283: DeprecationWarning: `should_run_async` will not call `transform_cell` automatically in the future. Please pass the result to `transformed_cell` argument and any exception that happen during thetransform in `preprocessing_exc_tuple` in IPython 7.17 and above.\n",
            "  and should_run_async(code)\n"
          ]
        },
        {
          "output_type": "display_data",
          "data": {
            "text/plain": [
              "<Figure size 640x480 with 1 Axes>"
            ],
            "image/png": "[encoded data removed]"
          },
          "metadata": {}
        }
      ],
      "source": [
        "# your code goes here\n",
        "new_ds = []\n",
        "for transaction in dataset:\n",
        "    while \"NONE\" in transaction:\n",
        "        transaction.remove(\"NONE\")\n",
        "    if len(transaction) != 0:\n",
        "        new_ds.append(transaction)\n",
        "\n",
        "dataset = new_ds\n",
        "\n",
        "\n",
        "counts = {}\n",
        "for transaction in dataset:\n",
        "    for item in transaction:\n",
        "        if item in counts:\n",
        "            counts[item] += 1\n",
        "        else:\n",
        "            counts[item] = 1\n",
        "\n",
        "sorted_dict = dict(sorted(counts.items(), reverse = True, key = lambda item: item[1]))\n",
        "\n",
        "# print(sorted_dict)\n",
        "labels = list(sorted_dict.keys())[:10]\n",
        "values = list(sorted_dict.values())[:10]\n",
        "\n",
        "plt.xticks(rotation=45, ha='right')\n",
        "plt.tick_params(axis='x', labelsize=8)\n",
        "plt.bar(labels, values)\n",
        "plt.title('Top 10 Items')\n",
        "plt.xlabel('Items')\n",
        "plt.ylabel('Frequency')\n",
        "plt.show()\n",
        ""
      ]
    },
    {
      "cell_type": "markdown",
      "metadata": {
        "id": "mH2HPUzOav5O"
      },
      "source": [
        "Q9.\n",
        "\n",
        "a.) Using `mlxtend.preprocessing.TransactionEncoder`, transform `dataset` into an array format suitable for the `mlxtend` library. You will need to call `fit` then `transform`.\n",
        "\n",
        "`TransactionEncoder` learns unique items from the dataset and transforms each transaction into a one-hot encoded boolean numpy array. For example, the resulting encoded dataset will be represented by something like this, where each row is a transaction. If the first transaction contained ['Crepe', 'Jam'], this would correspond to the first row in the encoded table.\n",
        "\n",
        "<img src=\"table.png\">\n",
        "\n",
        "Print the `shape` of the resulting encoded numpy array.\n",
        "\n",
        "b.) `TransactionEncoder` also has a function `inverse_transform` that allows you to tranform one-hot encoded transactions back to the item labels. Try it out on the first 5 transactions and display the items in the first 5 transactions."
      ]
    },
    {
      "cell_type": "code",
      "execution_count": null,
      "metadata": {
        "id": "66ZDmSPAav5O",
        "colab": {
          "base_uri": "https://localhost:8080/"
        },
        "outputId": "468e3a58-fb02-4914-da4a-d728df0a3f61"
      },
      "outputs": [
        {
          "output_type": "stream",
          "name": "stdout",
          "text": [
            "(9465, 94)\n",
            "['Bread']\n",
            "['Scandinavian']\n",
            "['Cookies', 'Hot chocolate', 'Jam']\n",
            "['Muffin']\n",
            "['Bread', 'Coffee', 'Pastry']\n"
          ]
        },
        {
          "output_type": "stream",
          "name": "stderr",
          "text": [
            "/usr/local/lib/python3.9/dist-packages/ipykernel/ipkernel.py:283: DeprecationWarning: `should_run_async` will not call `transform_cell` automatically in the future. Please pass the result to `transformed_cell` argument and any exception that happen during thetransform in `preprocessing_exc_tuple` in IPython 7.17 and above.\n",
            "  and should_run_async(code)\n"
          ]
        }
      ],
      "source": [
        "from mlxtend.preprocessing import TransactionEncoder\n",
        "import numpy as np\n",
        "\n",
        "te = TransactionEncoder()\n",
        "te.fit(dataset)\n",
        "encoded_dataset = te.transform(dataset)\n",
        "print(encoded_dataset.shape)\n",
        "\n",
        "decoded_dataset = te.inverse_transform(encoded_dataset[:5])\n",
        "for transaction in decoded_dataset:\n",
        "    print(transaction)"
      ]
    },
    {
      "cell_type": "markdown",
      "metadata": {
        "id": "VfcbkWgxav5O"
      },
      "source": [
        "Q10. Convert the encoded numpy array from Q4 part a into a pandas dataframe. Use the `TransactionEncoder`'s `.columns_` attribute as the column headers. Print the head of the resulting dataframe."
      ]
    },
    {
      "cell_type": "code",
      "execution_count": null,
      "metadata": {
        "id": "10t2-mitav5O",
        "colab": {
          "base_uri": "https://localhost:8080/"
        },
        "outputId": "5f4a3873-5691-4c80-bd40-33c630c3a71d"
      },
      "outputs": [
        {
          "output_type": "stream",
          "name": "stdout",
          "text": [
            "   Adjustment  Afternoon with the baker  Alfajores  Argentina Night  Art Tray  \\\n",
            "0       False                     False      False            False     False   \n",
            "1       False                     False      False            False     False   \n",
            "2       False                     False      False            False     False   \n",
            "3       False                     False      False            False     False   \n",
            "4       False                     False      False            False     False   \n",
            "\n",
            "   Bacon  Baguette  Bakewell  Bare Popcorn  Basket  ...  The BART  The Nomad  \\\n",
            "0  False     False     False         False   False  ...     False      False   \n",
            "1  False     False     False         False   False  ...     False      False   \n",
            "2  False     False     False         False   False  ...     False      False   \n",
            "3  False     False     False         False   False  ...     False      False   \n",
            "4  False     False     False         False   False  ...     False      False   \n",
            "\n",
            "   Tiffin  Toast  Truffles  Tshirt  Valentine's card  Vegan Feast  \\\n",
            "0   False  False     False   False             False        False   \n",
            "1   False  False     False   False             False        False   \n",
            "2   False  False     False   False             False        False   \n",
            "3   False  False     False   False             False        False   \n",
            "4   False  False     False   False             False        False   \n",
            "\n",
            "   Vegan mincepie  Victorian Sponge  \n",
            "0           False             False  \n",
            "1           False             False  \n",
            "2           False             False  \n",
            "3           False             False  \n",
            "4           False             False  \n",
            "\n",
            "[5 rows x 94 columns]\n"
          ]
        },
        {
          "output_type": "stream",
          "name": "stderr",
          "text": [
            "/usr/local/lib/python3.9/dist-packages/ipykernel/ipkernel.py:283: DeprecationWarning: `should_run_async` will not call `transform_cell` automatically in the future. Please pass the result to `transformed_cell` argument and any exception that happen during thetransform in `preprocessing_exc_tuple` in IPython 7.17 and above.\n",
            "  and should_run_async(code)\n"
          ]
        }
      ],
      "source": [
        "df = pd.DataFrame(encoded_dataset, columns=te.columns_)\n",
        "\n",
        "# Print head of dataframe\n",
        "print(df.head())"
      ]
    },
    {
      "cell_type": "markdown",
      "metadata": {
        "id": "N6A27OWGav5O"
      },
      "source": [
        "Q11. Use the `mlxtend.frequent_patterns.apriori` to generate the frequent itemsets with minimum support of 1% (0.01). Display these itemsets along with their support values."
      ]
    },
    {
      "cell_type": "code",
      "execution_count": null,
      "metadata": {
        "id": "jSRcpgHdav5O",
        "colab": {
          "base_uri": "https://localhost:8080/"
        },
        "outputId": "6eb3c95b-aa94-41dc-b926-fee6d1fbf4de"
      },
      "outputs": [
        {
          "output_type": "stream",
          "name": "stdout",
          "text": [
            "     support                 itemsets\n",
            "0   0.036344              (Alfajores)\n",
            "1   0.016059               (Baguette)\n",
            "2   0.327205                  (Bread)\n",
            "3   0.040042                (Brownie)\n",
            "4   0.103856                   (Cake)\n",
            "..       ...                      ...\n",
            "56  0.023666          (Toast, Coffee)\n",
            "57  0.014369          (Sandwich, Tea)\n",
            "58  0.010037    (Cake, Bread, Coffee)\n",
            "59  0.011199  (Bread, Coffee, Pastry)\n",
            "60  0.010037      (Cake, Coffee, Tea)\n",
            "\n",
            "[61 rows x 2 columns]\n"
          ]
        },
        {
          "output_type": "stream",
          "name": "stderr",
          "text": [
            "/usr/local/lib/python3.9/dist-packages/ipykernel/ipkernel.py:283: DeprecationWarning: `should_run_async` will not call `transform_cell` automatically in the future. Please pass the result to `transformed_cell` argument and any exception that happen during thetransform in `preprocessing_exc_tuple` in IPython 7.17 and above.\n",
            "  and should_run_async(code)\n"
          ]
        }
      ],
      "source": [
        "from mlxtend.frequent_patterns import apriori\n",
        "\n",
        "# Generate frequent itemsets with minimum support of 1%\n",
        "frequent_itemsets = apriori(df, min_support=0.01, use_colnames=True)\n",
        "\n",
        "# Display frequent itemsets with support values\n",
        "print(frequent_itemsets)"
      ]
    },
    {
      "cell_type": "markdown",
      "metadata": {
        "id": "aQkHm8LIav5O"
      },
      "source": [
        "**Q12**. Use `mlxtend.frequent_patterns.fpmax` to find and display all of the maximal frequent itemsets along with their support values."
      ]
    },
    {
      "cell_type": "code",
      "execution_count": null,
      "metadata": {
        "id": "sLodIrshav5O",
        "colab": {
          "base_uri": "https://localhost:8080/"
        },
        "outputId": "d14ee99d-8980-475f-81f0-2d90505c44b1"
      },
      "outputs": [
        {
          "output_type": "stream",
          "name": "stdout",
          "text": [
            "     support                  itemsets\n",
            "0   0.010460                   (Salad)\n",
            "1   0.010565       (Hearty & Seasonal)\n",
            "2   0.012995            (Chicken Stew)\n",
            "3   0.013207          (Jammie Dodgers)\n",
            "4   0.014157           (Mineral water)\n",
            "5   0.015003                     (Jam)\n",
            "6   0.015003                   (Fudge)\n",
            "7   0.015425                  (Tiffin)\n",
            "8   0.016059                (Baguette)\n",
            "9   0.010882  (Spanish Brunch, Coffee)\n",
            "10  0.019440                    (Coke)\n",
            "11  0.020285                (Truffles)\n",
            "12  0.029054            (Scandinavian)\n",
            "13  0.023666           (Toast, Coffee)\n",
            "14  0.015848            (Soup, Coffee)\n",
            "15  0.018067           (Coffee, Scone)\n",
            "16  0.010354        (Alfajores, Bread)\n",
            "17  0.019651       (Alfajores, Coffee)\n",
            "18  0.018806          (Muffin, Coffee)\n",
            "19  0.020602           (Juice, Coffee)\n",
            "20  0.039197              (Farm House)\n",
            "21  0.010777          (Bread, Brownie)\n",
            "22  0.019651         (Brownie, Coffee)\n",
            "23  0.014474          (Bread, Cookies)\n",
            "24  0.028209         (Cookies, Coffee)\n",
            "25  0.011410     (Cake, Hot chocolate)\n",
            "26  0.013418    (Bread, Hot chocolate)\n",
            "27  0.029583   (Hot chocolate, Coffee)\n",
            "28  0.016904        (Medialuna, Bread)\n",
            "29  0.035182       (Medialuna, Coffee)\n",
            "30  0.014369           (Sandwich, Tea)\n",
            "31  0.017010         (Bread, Sandwich)\n",
            "32  0.038246        (Sandwich, Coffee)\n",
            "33  0.011199   (Bread, Coffee, Pastry)\n",
            "34  0.010037     (Cake, Bread, Coffee)\n",
            "35  0.010037       (Cake, Coffee, Tea)\n",
            "36  0.028104              (Bread, Tea)\n"
          ]
        },
        {
          "output_type": "stream",
          "name": "stderr",
          "text": [
            "/usr/local/lib/python3.9/dist-packages/ipykernel/ipkernel.py:283: DeprecationWarning: `should_run_async` will not call `transform_cell` automatically in the future. Please pass the result to `transformed_cell` argument and any exception that happen during thetransform in `preprocessing_exc_tuple` in IPython 7.17 and above.\n",
            "  and should_run_async(code)\n"
          ]
        }
      ],
      "source": [
        "# your code goes here\n",
        "from mlxtend.frequent_patterns import fpmax\n",
        "max_itemsets = fpmax(df, min_support=0.01, use_colnames=True)\n",
        "print(max_itemsets)"
      ]
    },
    {
      "cell_type": "markdown",
      "metadata": {
        "id": "lllmFXz7av5O"
      },
      "source": [
        "Q13. Use `mlxtend.frequent_patterns.association_rules` to calculate rules with a confidence level of 0.25 for the frequent itemsets you generated in Q11."
      ]
    },
    {
      "cell_type": "code",
      "execution_count": null,
      "metadata": {
        "id": "ems_Hfcuav5O",
        "colab": {
          "base_uri": "https://localhost:8080/"
        },
        "outputId": "c9d965cf-7474-47f8-85d3-a0b7bcdc5c9a"
      },
      "outputs": [
        {
          "output_type": "stream",
          "name": "stdout",
          "text": [
            "         antecedents consequents  antecedent support  consequent support  \\\n",
            "0        (Alfajores)     (Bread)            0.036344            0.327205   \n",
            "1        (Alfajores)    (Coffee)            0.036344            0.478394   \n",
            "2          (Brownie)     (Bread)            0.040042            0.327205   \n",
            "3            (Bread)    (Coffee)            0.327205            0.478394   \n",
            "4          (Cookies)     (Bread)            0.054411            0.327205   \n",
            "5        (Medialuna)     (Bread)            0.061807            0.327205   \n",
            "6           (Pastry)     (Bread)            0.086107            0.327205   \n",
            "7          (Brownie)    (Coffee)            0.040042            0.478394   \n",
            "8             (Cake)    (Coffee)            0.103856            0.478394   \n",
            "9          (Cookies)    (Coffee)            0.054411            0.478394   \n",
            "10   (Hot chocolate)    (Coffee)            0.058320            0.478394   \n",
            "11           (Juice)    (Coffee)            0.038563            0.478394   \n",
            "12       (Medialuna)    (Coffee)            0.061807            0.478394   \n",
            "13          (Muffin)    (Coffee)            0.038457            0.478394   \n",
            "14          (Pastry)    (Coffee)            0.086107            0.478394   \n",
            "15        (Sandwich)    (Coffee)            0.071844            0.478394   \n",
            "16           (Scone)    (Coffee)            0.034548            0.478394   \n",
            "17            (Soup)    (Coffee)            0.034443            0.478394   \n",
            "18  (Spanish Brunch)    (Coffee)            0.018172            0.478394   \n",
            "19             (Tea)    (Coffee)            0.142631            0.478394   \n",
            "20           (Toast)    (Coffee)            0.033597            0.478394   \n",
            "21     (Cake, Bread)    (Coffee)            0.023349            0.478394   \n",
            "22   (Bread, Pastry)    (Coffee)            0.029160            0.478394   \n",
            "23       (Cake, Tea)    (Coffee)            0.023772            0.478394   \n",
            "\n",
            "     support  confidence      lift  leverage  conviction  zhangs_metric  \n",
            "0   0.010354    0.284884  0.870657 -0.001538    0.940818      -0.133570  \n",
            "1   0.019651    0.540698  1.130235  0.002264    1.135648       0.119574  \n",
            "2   0.010777    0.269129  0.822508 -0.002326    0.920538      -0.183536  \n",
            "3   0.090016    0.275105  0.575059 -0.066517    0.719561      -0.523431  \n",
            "4   0.014474    0.266019  0.813004 -0.003329    0.916638      -0.195651  \n",
            "5   0.016904    0.273504  0.835879 -0.003319    0.926082      -0.173062  \n",
            "6   0.029160    0.338650  1.034977  0.000985    1.017305       0.036980  \n",
            "7   0.019651    0.490765  1.025860  0.000495    1.024293       0.026259  \n",
            "8   0.054728    0.526958  1.101515  0.005044    1.102664       0.102840  \n",
            "9   0.028209    0.518447  1.083723  0.002179    1.083174       0.081700  \n",
            "10  0.029583    0.507246  1.060311  0.001683    1.058553       0.060403  \n",
            "11  0.020602    0.534247  1.116750  0.002154    1.119919       0.108738  \n",
            "12  0.035182    0.569231  1.189878  0.005614    1.210871       0.170091  \n",
            "13  0.018806    0.489011  1.022193  0.000408    1.020777       0.022579  \n",
            "14  0.047544    0.552147  1.154168  0.006351    1.164682       0.146161  \n",
            "15  0.038246    0.532353  1.112792  0.003877    1.115384       0.109205  \n",
            "16  0.018067    0.522936  1.093107  0.001539    1.093366       0.088224  \n",
            "17  0.015848    0.460123  0.961807 -0.000629    0.966156      -0.039502  \n",
            "18  0.010882    0.598837  1.251766  0.002189    1.300235       0.204851  \n",
            "19  0.049868    0.349630  0.730840 -0.018366    0.802014      -0.300482  \n",
            "20  0.023666    0.704403  1.472431  0.007593    1.764582       0.332006  \n",
            "21  0.010037    0.429864  0.898557 -0.001133    0.914880      -0.103617  \n",
            "22  0.011199    0.384058  0.802807 -0.002751    0.846843      -0.201920  \n",
            "23  0.010037    0.422222  0.882582 -0.001335    0.902779      -0.119934  \n"
          ]
        },
        {
          "output_type": "stream",
          "name": "stderr",
          "text": [
            "/usr/local/lib/python3.9/dist-packages/ipykernel/ipkernel.py:283: DeprecationWarning: `should_run_async` will not call `transform_cell` automatically in the future. Please pass the result to `transformed_cell` argument and any exception that happen during thetransform in `preprocessing_exc_tuple` in IPython 7.17 and above.\n",
            "  and should_run_async(code)\n"
          ]
        }
      ],
      "source": [
        "# your code goes here\n",
        "from mlxtend.frequent_patterns import association_rules\n",
        "\n",
        "rules = association_rules(frequent_itemsets, metric=\"confidence\", min_threshold=0.25)\n",
        "print(rules)"
      ]
    },
    {
      "cell_type": "markdown",
      "metadata": {
        "id": "9djQ4Gxcav5O"
      },
      "source": [
        "Q14. An important step in generating a set of association rules is to determine the optimal thresholds for support and confidence. If we set these values too low we will get a lot of rules and most of them will not be useful.\n",
        "\n",
        "Generate the frequent itemsets with minimum support of 0.5% and plot the number of rules generated with respect to the confidence threshold by varying min_conf between 0 and 1 with increments of 0.1. Notice what happens when you increase the confidence level."
      ]
    },
    {
      "cell_type": "code",
      "execution_count": null,
      "metadata": {
        "id": "vgDunBqZav5O",
        "colab": {
          "base_uri": "https://localhost:8080/",
          "height": 527
        },
        "outputId": "d2ae0a46-78a8-4334-ba15-f03b0746d152"
      },
      "outputs": [
        {
          "output_type": "stream",
          "name": "stderr",
          "text": [
            "/usr/local/lib/python3.9/dist-packages/ipykernel/ipkernel.py:283: DeprecationWarning: `should_run_async` will not call `transform_cell` automatically in the future. Please pass the result to `transformed_cell` argument and any exception that happen during thetransform in `preprocessing_exc_tuple` in IPython 7.17 and above.\n",
            "  and should_run_async(code)\n"
          ]
        },
        {
          "output_type": "display_data",
          "data": {
            "text/plain": [
              "<Figure size 640x480 with 1 Axes>"
            ],
            "image/png": "[encoded data removed]"
          },
          "metadata": {}
        }
      ],
      "source": [
        "# your code goes here\n",
        "freq_itemsets = apriori(df, min_support=0.005, use_colnames=True)\n",
        "conf_levels = [i/10 for i in range(11)]\n",
        "num_rules = []\n",
        "for conf in conf_levels:\n",
        "    rules = association_rules(freq_itemsets, metric=\"confidence\", min_threshold=conf)\n",
        "    num_rules.append(len(rules))\n",
        "\n",
        "plt.plot(conf_levels, num_rules)\n",
        "plt.title('Number of Rules vs Confidence Level')\n",
        "plt.xlabel('Confidence Level')\n",
        "plt.ylabel('Number of Rules')\n",
        "plt.show()"
      ]
    },
    {
      "cell_type": "markdown",
      "metadata": {
        "id": "uO83Ti8wav5P"
      },
      "source": [
        "Q15. What value would you choose for the minimum confidence threshold based on the previous plot? Explain why as a comment.\n",
        "\n",
        "Display the rules generated for the your chosen value. Take a look at the generated rules. Are they interesting? As a comment, explain why or why not."
      ]
    },
    {
      "cell_type": "code",
      "execution_count": null,
      "metadata": {
        "id": "TRP6KS7Qav5P",
        "colab": {
          "base_uri": "https://localhost:8080/"
        },
        "outputId": "ce9222fc-5961-4433-e9fe-a9fb48429bf5"
      },
      "outputs": [
        {
          "output_type": "stream",
          "name": "stdout",
          "text": [
            "              antecedents consequents  antecedent support  consequent support  \\\n",
            "0             (Alfajores)    (Coffee)            0.036344            0.478394   \n",
            "1                  (Cake)    (Coffee)            0.103856            0.478394   \n",
            "2               (Cookies)    (Coffee)            0.054411            0.478394   \n",
            "3     (Hearty & Seasonal)    (Coffee)            0.010565            0.478394   \n",
            "4         (Hot chocolate)    (Coffee)            0.058320            0.478394   \n",
            "5        (Jammie Dodgers)    (Coffee)            0.013207            0.478394   \n",
            "6                 (Juice)    (Coffee)            0.038563            0.478394   \n",
            "7      (Keeping It Local)    (Coffee)            0.006656            0.478394   \n",
            "8             (Medialuna)    (Coffee)            0.061807            0.478394   \n",
            "9                (Pastry)    (Coffee)            0.086107            0.478394   \n",
            "10                (Salad)    (Coffee)            0.010460            0.478394   \n",
            "11             (Sandwich)    (Coffee)            0.071844            0.478394   \n",
            "12                (Scone)    (Coffee)            0.034548            0.478394   \n",
            "13       (Spanish Brunch)    (Coffee)            0.018172            0.478394   \n",
            "14               (Tiffin)    (Coffee)            0.015425            0.478394   \n",
            "15                (Toast)    (Coffee)            0.033597            0.478394   \n",
            "16  (Cake, Hot chocolate)    (Coffee)            0.011410            0.478394   \n",
            "\n",
            "     support  confidence      lift  leverage  conviction  zhangs_metric  \n",
            "0   0.019651    0.540698  1.130235  0.002264    1.135648       0.119574  \n",
            "1   0.054728    0.526958  1.101515  0.005044    1.102664       0.102840  \n",
            "2   0.028209    0.518447  1.083723  0.002179    1.083174       0.081700  \n",
            "3   0.005705    0.540000  1.128777  0.000651    1.133926       0.115303  \n",
            "4   0.029583    0.507246  1.060311  0.001683    1.058553       0.060403  \n",
            "5   0.006656    0.504000  1.053525  0.000338    1.051625       0.051485  \n",
            "6   0.020602    0.534247  1.116750  0.002154    1.119919       0.108738  \n",
            "7   0.005388    0.809524  1.692169  0.002204    2.738431       0.411783  \n",
            "8   0.035182    0.569231  1.189878  0.005614    1.210871       0.170091  \n",
            "9   0.047544    0.552147  1.154168  0.006351    1.164682       0.146161  \n",
            "10  0.006550    0.626263  1.309094  0.001547    1.395648       0.238608  \n",
            "11  0.038246    0.532353  1.112792  0.003877    1.115384       0.109205  \n",
            "12  0.018067    0.522936  1.093107  0.001539    1.093366       0.088224  \n",
            "13  0.010882    0.598837  1.251766  0.002189    1.300235       0.204851  \n",
            "14  0.008452    0.547945  1.145385  0.001073    1.153856       0.128919  \n",
            "15  0.023666    0.704403  1.472431  0.007593    1.764582       0.332006  \n",
            "16  0.006867    0.601852  1.258067  0.001409    1.310080       0.207497  \n"
          ]
        },
        {
          "output_type": "stream",
          "name": "stderr",
          "text": [
            "/usr/local/lib/python3.9/dist-packages/ipykernel/ipkernel.py:283: DeprecationWarning: `should_run_async` will not call `transform_cell` automatically in the future. Please pass the result to `transformed_cell` argument and any exception that happen during thetransform in `preprocessing_exc_tuple` in IPython 7.17 and above.\n",
            "  and should_run_async(code)\n"
          ]
        }
      ],
      "source": [
        "# I would choose a confidence level of 0.5 because it is the elbow of the curve\n",
        "# and it is the point where the number of rules starts to level out\n",
        "# your code goes here\n",
        "rules = association_rules(freq_itemsets, metric=\"confidence\", min_threshold=0.5)\n",
        "print(rules)\n",
        "\n",
        "# the rules are interesting because it seems like every single one has a\n",
        "# conequence of coffee, which makes sense as coffee is a very commonly bought\n",
        "# item, especially bought with other treats like cake or cookies"
      ]
    }
  ],
  "metadata": {
    "colab": {
      "provenance": []
    },
    "kernelspec": {
      "display_name": "Python 3 (ipykernel)",
      "language": "python",
      "name": "python3"
    },
    "language_info": {
      "codemirror_mode": {
        "name": "ipython",
        "version": 3
      },
      "file_extension": ".py",
      "mimetype": "text/x-python",
      "name": "python",
      "nbconvert_exporter": "python",
      "pygments_lexer": "ipython3",
      "version": "3.10.9"
    }
  },
  "nbformat": 4,
  "nbformat_minor": 0
}