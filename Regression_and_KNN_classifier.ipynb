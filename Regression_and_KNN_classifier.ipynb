{
  "cells": [
    {
      "cell_type": "markdown",
      "id": "0fd33643",
      "metadata": {
        "id": "0fd33643"
      },
      "source": [
        "### This assignment may be worked individually or in pairs.\n",
        "### Enter your name/names here:"
      ]
    },
    {
      "cell_type": "code",
      "execution_count": null,
      "id": "2649232b",
      "metadata": {
        "id": "2649232b"
      },
      "outputs": [],
      "source": [
        "# Name(s) here\n",
        "# Julia Joseph"
      ]
    },
    {
      "cell_type": "code",
      "execution_count": null,
      "id": "ab1fe226",
      "metadata": {
        "id": "ab1fe226"
      },
      "outputs": [],
      "source": [
        "# headers\n",
        "import pandas as pd\n",
        "import matplotlib.pyplot as plt"
      ]
    },
    {
      "cell_type": "code",
      "source": [
        "from google.colab import files\n",
        "# added to make it work for google colab\n",
        "\n",
        "uploaded = files.upload()"
      ],
      "metadata": {
        "colab": {
          "base_uri": "https://localhost:8080/",
          "height": 177
        },
        "id": "oBXEtLTpTPjZ",
        "outputId": "e4070e45-bb08-45b1-ef82-da378bd5d1f2"
      },
      "id": "oBXEtLTpTPjZ",
      "execution_count": null,
      "outputs": [
        {
          "output_type": "display_data",
          "data": {
            "text/plain": [
              "<IPython.core.display.HTML object>"
            ],
            "text/html": [
              "\n",
              "     <input type=\"file\" id=\"files-336c7f8d-b462-494e-a72d-fc142fcdf3a9\" name=\"files[]\" multiple disabled\n",
              "        style=\"border:none\" />\n",
              "     <output id=\"result-336c7f8d-b462-494e-a72d-fc142fcdf3a9\">\n",
              "      Upload widget is only available when the cell has been executed in the\n",
              "      current browser session. Please rerun this cell to enable.\n",
              "      </output>\n",
              "      <script>// Copyright 2017 Google LLC\n",
              "//\n",
              "// Licensed under the Apache License, Version 2.0 (the \"License\");\n",
              "// you may not use this file except in compliance with the License.\n",
              "// You may obtain a copy of the License at\n",
              "//\n",
              "//      http://www.apache.org/licenses/LICENSE-2.0\n",
              "//\n",
              "// Unless required by applicable law or agreed to in writing, software\n",
              "// distributed under the License is distributed on an \"AS IS\" BASIS,\n",
              "// WITHOUT WARRANTIES OR CONDITIONS OF ANY KIND, either express or implied.\n",
              "// See the License for the specific language governing permissions and\n",
              "// limitations under the License.\n",
              "\n",
              "/**\n",
              " * @fileoverview Helpers for google.colab Python module.\n",
              " */\n",
              "(function(scope) {\n",
              "function span(text, styleAttributes = {}) {\n",
              "  const element = document.createElement('span');\n",
              "  element.textContent = text;\n",
              "  for (const key of Object.keys(styleAttributes)) {\n",
              "    element.style[key] = styleAttributes[key];\n",
              "  }\n",
              "  return element;\n",
              "}\n",
              "\n",
              "// Max number of bytes which will be uploaded at a time.\n",
              "const MAX_PAYLOAD_SIZE = 100 * 1024;\n",
              "\n",
              "function _uploadFiles(inputId, outputId) {\n",
              "  const steps = uploadFilesStep(inputId, outputId);\n",
              "  const outputElement = document.getElementById(outputId);\n",
              "  // Cache steps on the outputElement to make it available for the next call\n",
              "  // to uploadFilesContinue from Python.\n",
              "  outputElement.steps = steps;\n",
              "\n",
              "  return _uploadFilesContinue(outputId);\n",
              "}\n",
              "\n",
              "// This is roughly an async generator (not supported in the browser yet),\n",
              "// where there are multiple asynchronous steps and the Python side is going\n",
              "// to poll for completion of each step.\n",
              "// This uses a Promise to block the python side on completion of each step,\n",
              "// then passes the result of the previous step as the input to the next step.\n",
              "function _uploadFilesContinue(outputId) {\n",
              "  const outputElement = document.getElementById(outputId);\n",
              "  const steps = outputElement.steps;\n",
              "\n",
              "  const next = steps.next(outputElement.lastPromiseValue);\n",
              "  return Promise.resolve(next.value.promise).then((value) => {\n",
              "    // Cache the last promise value to make it available to the next\n",
              "    // step of the generator.\n",
              "    outputElement.lastPromiseValue = value;\n",
              "    return next.value.response;\n",
              "  });\n",
              "}\n",
              "\n",
              "/**\n",
              " * Generator function which is called between each async step of the upload\n",
              " * process.\n",
              " * @param {string} inputId Element ID of the input file picker element.\n",
              " * @param {string} outputId Element ID of the output display.\n",
              " * @return {!Iterable<!Object>} Iterable of next steps.\n",
              " */\n",
              "function* uploadFilesStep(inputId, outputId) {\n",
              "  const inputElement = document.getElementById(inputId);\n",
              "  inputElement.disabled = false;\n",
              "\n",
              "  const outputElement = document.getElementById(outputId);\n",
              "  outputElement.innerHTML = '';\n",
              "\n",
              "  const pickedPromise = new Promise((resolve) => {\n",
              "    inputElement.addEventListener('change', (e) => {\n",
              "      resolve(e.target.files);\n",
              "    });\n",
              "  });\n",
              "\n",
              "  const cancel = document.createElement('button');\n",
              "  inputElement.parentElement.appendChild(cancel);\n",
              "  cancel.textContent = 'Cancel upload';\n",
              "  const cancelPromise = new Promise((resolve) => {\n",
              "    cancel.onclick = () => {\n",
              "      resolve(null);\n",
              "    };\n",
              "  });\n",
              "\n",
              "  // Wait for the user to pick the files.\n",
              "  const files = yield {\n",
              "    promise: Promise.race([pickedPromise, cancelPromise]),\n",
              "    response: {\n",
              "      action: 'starting',\n",
              "    }\n",
              "  };\n",
              "\n",
              "  cancel.remove();\n",
              "\n",
              "  // Disable the input element since further picks are not allowed.\n",
              "  inputElement.disabled = true;\n",
              "\n",
              "  if (!files) {\n",
              "    return {\n",
              "      response: {\n",
              "        action: 'complete',\n",
              "      }\n",
              "    };\n",
              "  }\n",
              "\n",
              "  for (const file of files) {\n",
              "    const li = document.createElement('li');\n",
              "    li.append(span(file.name, {fontWeight: 'bold'}));\n",
              "    li.append(span(\n",
              "        `(${file.type || 'n/a'}) - ${file.size} bytes, ` +\n",
              "        `last modified: ${\n",
              "            file.lastModifiedDate ? file.lastModifiedDate.toLocaleDateString() :\n",
              "                                    'n/a'} - `));\n",
              "    const percent = span('0% done');\n",
              "    li.appendChild(percent);\n",
              "\n",
              "    outputElement.appendChild(li);\n",
              "\n",
              "    const fileDataPromise = new Promise((resolve) => {\n",
              "      const reader = new FileReader();\n",
              "      reader.onload = (e) => {\n",
              "        resolve(e.target.result);\n",
              "      };\n",
              "      reader.readAsArrayBuffer(file);\n",
              "    });\n",
              "    // Wait for the data to be ready.\n",
              "    let fileData = yield {\n",
              "      promise: fileDataPromise,\n",
              "      response: {\n",
              "        action: 'continue',\n",
              "      }\n",
              "    };\n",
              "\n",
              "    // Use a chunked sending to avoid message size limits. See b/62115660.\n",
              "    let position = 0;\n",
              "    do {\n",
              "      const length = Math.min(fileData.byteLength - position, MAX_PAYLOAD_SIZE);\n",
              "      const chunk = new Uint8Array(fileData, position, length);\n",
              "      position += length;\n",
              "\n",
              "      const base64 = btoa(String.fromCharCode.apply(null, chunk));\n",
              "      yield {\n",
              "        response: {\n",
              "          action: 'append',\n",
              "          file: file.name,\n",
              "          data: base64,\n",
              "        },\n",
              "      };\n",
              "\n",
              "      let percentDone = fileData.byteLength === 0 ?\n",
              "          100 :\n",
              "          Math.round((position / fileData.byteLength) * 100);\n",
              "      percent.textContent = `${percentDone}% done`;\n",
              "\n",
              "    } while (position < fileData.byteLength);\n",
              "  }\n",
              "\n",
              "  // All done.\n",
              "  yield {\n",
              "    response: {\n",
              "      action: 'complete',\n",
              "    }\n",
              "  };\n",
              "}\n",
              "\n",
              "scope.google = scope.google || {};\n",
              "scope.google.colab = scope.google.colab || {};\n",
              "scope.google.colab._files = {\n",
              "  _uploadFiles,\n",
              "  _uploadFilesContinue,\n",
              "};\n",
              "})(self);\n",
              "</script> "
            ]
          },
          "metadata": {}
        },
        {
          "output_type": "stream",
          "name": "stdout",
          "text": [
            "Saving medical-charges.txt to medical-charges.txt\n",
            "Saving messidor_features.txt to messidor_features.txt\n",
            "Saving sample_test.txt to sample_test.txt\n",
            "Saving sample_train.txt to sample_train.txt\n"
          ]
        }
      ]
    },
    {
      "cell_type": "code",
      "execution_count": null,
      "id": "cc9c4481",
      "metadata": {
        "id": "cc9c4481"
      },
      "outputs": [],
      "source": [
        "# function to calculate adjusted r2\n",
        "def get_adj_r2(r2, n, p):\n",
        "    return (1-(1-r2)*((n-1)/(n-p-1)))"
      ]
    },
    {
      "cell_type": "markdown",
      "id": "7a7c7806",
      "metadata": {
        "id": "7a7c7806"
      },
      "source": [
        "# Regression and KNN classifier"
      ]
    },
    {
      "cell_type": "markdown",
      "id": "5bccf477",
      "metadata": {
        "id": "5bccf477"
      },
      "source": [
        "## Part 1: Regression with scikit-learn\n",
        "\n",
        "In this part of the assignment, you will fit a regression model to an insurance dataset using the scikit-learn package.\n",
        "\n",
        "The insurance company would like to be able to estimate the annual medical expenditures they will need to pay for any customer, based on the customer's age, sex, BMI, # of children, whether they are a smoker, and their region of residence.\n",
        "\n",
        "Estimates from this model can be used to then determine how much to charge each customer for insurance (the more we think you'll cost us, the more we will charge you)."
      ]
    },
    {
      "cell_type": "markdown",
      "id": "8bb47879",
      "metadata": {
        "id": "8bb47879"
      },
      "source": [
        "**Data Prep**\n",
        "\n",
        "Q1. Read the dataset from 'medical-charges.txt' into a Pandas Dataframe. Display the head of the dataset. There should be 1138 rows and 7 columns. The target column (y) is the `charges` column."
      ]
    },
    {
      "cell_type": "code",
      "execution_count": null,
      "id": "589c05de",
      "metadata": {
        "scrolled": true,
        "colab": {
          "base_uri": "https://localhost:8080/",
          "height": 423
        },
        "id": "589c05de",
        "outputId": "3f240ff9-d5e7-47b3-9fc9-9bd20968009b"
      },
      "outputs": [
        {
          "output_type": "execute_result",
          "data": {
            "text/plain": [
              "      age     sex     bmi  children smoker     region      charges\n",
              "0      19  female  27.900         0    yes  southwest  16884.92400\n",
              "1      18    male  33.770         1     no  southeast   1725.55230\n",
              "2      28    male  33.000         3     no  southeast   4449.46200\n",
              "3      33    male  22.705         0     no  northwest  21984.47061\n",
              "4      32    male  28.880         0     no  northwest   3866.85520\n",
              "...   ...     ...     ...       ...    ...        ...          ...\n",
              "1333   50    male  30.970         3     no  northwest  10600.54830\n",
              "1334   18  female  31.920         0     no  northeast   2205.98080\n",
              "1335   18  female  36.850         0     no  southeast   1629.83350\n",
              "1336   21  female  25.800         0     no  southwest   2007.94500\n",
              "1337   61  female  29.070         0    yes  northwest  29141.36030\n",
              "\n",
              "[1338 rows x 7 columns]"
            ],
            "text/html": [
              "\n",
              "  <div id=\"df-f57ee8d8-5436-47f0-a993-90af0cafb8a9\">\n",
              "    <div class=\"colab-df-container\">\n",
              "      <div>\n",
              "<style scoped>\n",
              "    .dataframe tbody tr th:only-of-type {\n",
              "        vertical-align: middle;\n",
              "    }\n",
              "\n",
              "    .dataframe tbody tr th {\n",
              "        vertical-align: top;\n",
              "    }\n",
              "\n",
              "    .dataframe thead th {\n",
              "        text-align: right;\n",
              "    }\n",
              "</style>\n",
              "<table border=\"1\" class=\"dataframe\">\n",
              "  <thead>\n",
              "    <tr style=\"text-align: right;\">\n",
              "      <th></th>\n",
              "      <th>age</th>\n",
              "      <th>sex</th>\n",
              "      <th>bmi</th>\n",
              "      <th>children</th>\n",
              "      <th>smoker</th>\n",
              "      <th>region</th>\n",
              "      <th>charges</th>\n",
              "    </tr>\n",
              "  </thead>\n",
              "  <tbody>\n",
              "    <tr>\n",
              "      <th>0</th>\n",
              "      <td>19</td>\n",
              "      <td>female</td>\n",
              "      <td>27.900</td>\n",
              "      <td>0</td>\n",
              "      <td>yes</td>\n",
              "      <td>southwest</td>\n",
              "      <td>16884.92400</td>\n",
              "    </tr>\n",
              "    <tr>\n",
              "      <th>1</th>\n",
              "      <td>18</td>\n",
              "      <td>male</td>\n",
              "      <td>33.770</td>\n",
              "      <td>1</td>\n",
              "      <td>no</td>\n",
              "      <td>southeast</td>\n",
              "      <td>1725.55230</td>\n",
              "    </tr>\n",
              "    <tr>\n",
              "      <th>2</th>\n",
              "      <td>28</td>\n",
              "      <td>male</td>\n",
              "      <td>33.000</td>\n",
              "      <td>3</td>\n",
              "      <td>no</td>\n",
              "      <td>southeast</td>\n",
              "      <td>4449.46200</td>\n",
              "    </tr>\n",
              "    <tr>\n",
              "      <th>3</th>\n",
              "      <td>33</td>\n",
              "      <td>male</td>\n",
              "      <td>22.705</td>\n",
              "      <td>0</td>\n",
              "      <td>no</td>\n",
              "      <td>northwest</td>\n",
              "      <td>21984.47061</td>\n",
              "    </tr>\n",
              "    <tr>\n",
              "      <th>4</th>\n",
              "      <td>32</td>\n",
              "      <td>male</td>\n",
              "      <td>28.880</td>\n",
              "      <td>0</td>\n",
              "      <td>no</td>\n",
              "      <td>northwest</td>\n",
              "      <td>3866.85520</td>\n",
              "    </tr>\n",
              "    <tr>\n",
              "      <th>...</th>\n",
              "      <td>...</td>\n",
              "      <td>...</td>\n",
              "      <td>...</td>\n",
              "      <td>...</td>\n",
              "      <td>...</td>\n",
              "      <td>...</td>\n",
              "      <td>...</td>\n",
              "    </tr>\n",
              "    <tr>\n",
              "      <th>1333</th>\n",
              "      <td>50</td>\n",
              "      <td>male</td>\n",
              "      <td>30.970</td>\n",
              "      <td>3</td>\n",
              "      <td>no</td>\n",
              "      <td>northwest</td>\n",
              "      <td>10600.54830</td>\n",
              "    </tr>\n",
              "    <tr>\n",
              "      <th>1334</th>\n",
              "      <td>18</td>\n",
              "      <td>female</td>\n",
              "      <td>31.920</td>\n",
              "      <td>0</td>\n",
              "      <td>no</td>\n",
              "      <td>northeast</td>\n",
              "      <td>2205.98080</td>\n",
              "    </tr>\n",
              "    <tr>\n",
              "      <th>1335</th>\n",
              "      <td>18</td>\n",
              "      <td>female</td>\n",
              "      <td>36.850</td>\n",
              "      <td>0</td>\n",
              "      <td>no</td>\n",
              "      <td>southeast</td>\n",
              "      <td>1629.83350</td>\n",
              "    </tr>\n",
              "    <tr>\n",
              "      <th>1336</th>\n",
              "      <td>21</td>\n",
              "      <td>female</td>\n",
              "      <td>25.800</td>\n",
              "      <td>0</td>\n",
              "      <td>no</td>\n",
              "      <td>southwest</td>\n",
              "      <td>2007.94500</td>\n",
              "    </tr>\n",
              "    <tr>\n",
              "      <th>1337</th>\n",
              "      <td>61</td>\n",
              "      <td>female</td>\n",
              "      <td>29.070</td>\n",
              "      <td>0</td>\n",
              "      <td>yes</td>\n",
              "      <td>northwest</td>\n",
              "      <td>29141.36030</td>\n",
              "    </tr>\n",
              "  </tbody>\n",
              "</table>\n",
              "<p>1338 rows × 7 columns</p>\n",
              "</div>\n",
              "      <button class=\"colab-df-convert\" onclick=\"convertToInteractive('df-f57ee8d8-5436-47f0-a993-90af0cafb8a9')\"\n",
              "              title=\"Convert this dataframe to an interactive table.\"\n",
              "              style=\"display:none;\">\n",
              "        \n",
              "  <svg xmlns=\"http://www.w3.org/2000/svg\" height=\"24px\"viewBox=\"0 0 24 24\"\n",
              "       width=\"24px\">\n",
              "    <path d=\"M0 0h24v24H0V0z\" fill=\"none\"/>\n",
              "    <path d=\"M18.56 5.44l.94 2.06.94-2.06 2.06-.94-2.06-.94-.94-2.06-.94 2.06-2.06.94zm-11 1L8.5 8.5l.94-2.06 2.06-.94-2.06-.94L8.5 2.5l-.94 2.06-2.06.94zm10 10l.94 2.06.94-2.06 2.06-.94-2.06-.94-.94-2.06-.94 2.06-2.06.94z\"/><path d=\"M17.41 7.96l-1.37-1.37c-.4-.4-.92-.59-1.43-.59-.52 0-1.04.2-1.43.59L10.3 9.45l-7.72 7.72c-.78.78-.78 2.05 0 2.83L4 21.41c.39.39.9.59 1.41.59.51 0 1.02-.2 1.41-.59l7.78-7.78 2.81-2.81c.8-.78.8-2.07 0-2.86zM5.41 20L4 18.59l7.72-7.72 1.47 1.35L5.41 20z\"/>\n",
              "  </svg>\n",
              "      </button>\n",
              "      \n",
              "  <style>\n",
              "    .colab-df-container {\n",
              "      display:flex;\n",
              "      flex-wrap:wrap;\n",
              "      gap: 12px;\n",
              "    }\n",
              "\n",
              "    .colab-df-convert {\n",
              "      background-color: #E8F0FE;\n",
              "      border: none;\n",
              "      border-radius: 50%;\n",
              "      cursor: pointer;\n",
              "      display: none;\n",
              "      fill: #1967D2;\n",
              "      height: 32px;\n",
              "      padding: 0 0 0 0;\n",
              "      width: 32px;\n",
              "    }\n",
              "\n",
              "    .colab-df-convert:hover {\n",
              "      background-color: #E2EBFA;\n",
              "      box-shadow: 0px 1px 2px rgba(60, 64, 67, 0.3), 0px 1px 3px 1px rgba(60, 64, 67, 0.15);\n",
              "      fill: #174EA6;\n",
              "    }\n",
              "\n",
              "    [theme=dark] .colab-df-convert {\n",
              "      background-color: #3B4455;\n",
              "      fill: #D2E3FC;\n",
              "    }\n",
              "\n",
              "    [theme=dark] .colab-df-convert:hover {\n",
              "      background-color: #434B5C;\n",
              "      box-shadow: 0px 1px 3px 1px rgba(0, 0, 0, 0.15);\n",
              "      filter: drop-shadow(0px 1px 2px rgba(0, 0, 0, 0.3));\n",
              "      fill: #FFFFFF;\n",
              "    }\n",
              "  </style>\n",
              "\n",
              "      <script>\n",
              "        const buttonEl =\n",
              "          document.querySelector('#df-f57ee8d8-5436-47f0-a993-90af0cafb8a9 button.colab-df-convert');\n",
              "        buttonEl.style.display =\n",
              "          google.colab.kernel.accessAllowed ? 'block' : 'none';\n",
              "\n",
              "        async function convertToInteractive(key) {\n",
              "          const element = document.querySelector('#df-f57ee8d8-5436-47f0-a993-90af0cafb8a9');\n",
              "          const dataTable =\n",
              "            await google.colab.kernel.invokeFunction('convertToInteractive',\n",
              "                                                     [key], {});\n",
              "          if (!dataTable) return;\n",
              "\n",
              "          const docLinkHtml = 'Like what you see? Visit the ' +\n",
              "            '<a target=\"_blank\" href=https://colab.research.google.com/notebooks/data_table.ipynb>data table notebook</a>'\n",
              "            + ' to learn more about interactive tables.';\n",
              "          element.innerHTML = '';\n",
              "          dataTable['output_type'] = 'display_data';\n",
              "          await google.colab.output.renderOutput(dataTable, element);\n",
              "          const docLink = document.createElement('div');\n",
              "          docLink.innerHTML = docLinkHtml;\n",
              "          element.appendChild(docLink);\n",
              "        }\n",
              "      </script>\n",
              "    </div>\n",
              "  </div>\n",
              "  "
            ]
          },
          "metadata": {},
          "execution_count": 8
        }
      ],
      "source": [
        "# your code goes here\n",
        "df = pd.read_csv(\"medical-charges.txt\", sep=\",\")\n",
        "df"
      ]
    },
    {
      "cell_type": "markdown",
      "id": "3043bb91",
      "metadata": {
        "id": "3043bb91"
      },
      "source": [
        "Q2. Notice that there are several categorical columns. You'll need to transform these to be able to do regression. Since `sex` and `smoker` are binary in this dataset, let's do them differently than `region` which has 4 options.\n",
        "\n",
        "* Use the Pandas [get_dummies()](https://pandas.pydata.org/docs/reference/api/pandas.get_dummies.html) function to one-hot-encode `sex` and `smoker`.\n",
        "* Since these features are binary, we do not need to create two columns for each of them (i.e. we do not need both smoker_yes and smoker_no - just having a smoker_yes column will be sufficient), so use the `drop_first` parameter of get_dummies to create only a `smoker_yes` and a `sex_male` column.\n",
        "* Display the head of the dataframe."
      ]
    },
    {
      "cell_type": "code",
      "execution_count": null,
      "id": "0484464d",
      "metadata": {
        "scrolled": false,
        "colab": {
          "base_uri": "https://localhost:8080/",
          "height": 206
        },
        "id": "0484464d",
        "outputId": "4b8cee67-0336-4f04-9d64-34d04933ba55"
      },
      "outputs": [
        {
          "output_type": "execute_result",
          "data": {
            "text/plain": [
              "   age     bmi  children     region      charges  sex_male  smoker_yes\n",
              "0   19  27.900         0  southwest  16884.92400         0           1\n",
              "1   18  33.770         1  southeast   1725.55230         1           0\n",
              "2   28  33.000         3  southeast   4449.46200         1           0\n",
              "3   33  22.705         0  northwest  21984.47061         1           0\n",
              "4   32  28.880         0  northwest   3866.85520         1           0"
            ],
            "text/html": [
              "\n",
              "  <div id=\"df-b6b9943a-1078-4d70-be97-f0ff8b9c283e\">\n",
              "    <div class=\"colab-df-container\">\n",
              "      <div>\n",
              "<style scoped>\n",
              "    .dataframe tbody tr th:only-of-type {\n",
              "        vertical-align: middle;\n",
              "    }\n",
              "\n",
              "    .dataframe tbody tr th {\n",
              "        vertical-align: top;\n",
              "    }\n",
              "\n",
              "    .dataframe thead th {\n",
              "        text-align: right;\n",
              "    }\n",
              "</style>\n",
              "<table border=\"1\" class=\"dataframe\">\n",
              "  <thead>\n",
              "    <tr style=\"text-align: right;\">\n",
              "      <th></th>\n",
              "      <th>age</th>\n",
              "      <th>bmi</th>\n",
              "      <th>children</th>\n",
              "      <th>region</th>\n",
              "      <th>charges</th>\n",
              "      <th>sex_male</th>\n",
              "      <th>smoker_yes</th>\n",
              "    </tr>\n",
              "  </thead>\n",
              "  <tbody>\n",
              "    <tr>\n",
              "      <th>0</th>\n",
              "      <td>19</td>\n",
              "      <td>27.900</td>\n",
              "      <td>0</td>\n",
              "      <td>southwest</td>\n",
              "      <td>16884.92400</td>\n",
              "      <td>0</td>\n",
              "      <td>1</td>\n",
              "    </tr>\n",
              "    <tr>\n",
              "      <th>1</th>\n",
              "      <td>18</td>\n",
              "      <td>33.770</td>\n",
              "      <td>1</td>\n",
              "      <td>southeast</td>\n",
              "      <td>1725.55230</td>\n",
              "      <td>1</td>\n",
              "      <td>0</td>\n",
              "    </tr>\n",
              "    <tr>\n",
              "      <th>2</th>\n",
              "      <td>28</td>\n",
              "      <td>33.000</td>\n",
              "      <td>3</td>\n",
              "      <td>southeast</td>\n",
              "      <td>4449.46200</td>\n",
              "      <td>1</td>\n",
              "      <td>0</td>\n",
              "    </tr>\n",
              "    <tr>\n",
              "      <th>3</th>\n",
              "      <td>33</td>\n",
              "      <td>22.705</td>\n",
              "      <td>0</td>\n",
              "      <td>northwest</td>\n",
              "      <td>21984.47061</td>\n",
              "      <td>1</td>\n",
              "      <td>0</td>\n",
              "    </tr>\n",
              "    <tr>\n",
              "      <th>4</th>\n",
              "      <td>32</td>\n",
              "      <td>28.880</td>\n",
              "      <td>0</td>\n",
              "      <td>northwest</td>\n",
              "      <td>3866.85520</td>\n",
              "      <td>1</td>\n",
              "      <td>0</td>\n",
              "    </tr>\n",
              "  </tbody>\n",
              "</table>\n",
              "</div>\n",
              "      <button class=\"colab-df-convert\" onclick=\"convertToInteractive('df-b6b9943a-1078-4d70-be97-f0ff8b9c283e')\"\n",
              "              title=\"Convert this dataframe to an interactive table.\"\n",
              "              style=\"display:none;\">\n",
              "        \n",
              "  <svg xmlns=\"http://www.w3.org/2000/svg\" height=\"24px\"viewBox=\"0 0 24 24\"\n",
              "       width=\"24px\">\n",
              "    <path d=\"M0 0h24v24H0V0z\" fill=\"none\"/>\n",
              "    <path d=\"M18.56 5.44l.94 2.06.94-2.06 2.06-.94-2.06-.94-.94-2.06-.94 2.06-2.06.94zm-11 1L8.5 8.5l.94-2.06 2.06-.94-2.06-.94L8.5 2.5l-.94 2.06-2.06.94zm10 10l.94 2.06.94-2.06 2.06-.94-2.06-.94-.94-2.06-.94 2.06-2.06.94z\"/><path d=\"M17.41 7.96l-1.37-1.37c-.4-.4-.92-.59-1.43-.59-.52 0-1.04.2-1.43.59L10.3 9.45l-7.72 7.72c-.78.78-.78 2.05 0 2.83L4 21.41c.39.39.9.59 1.41.59.51 0 1.02-.2 1.41-.59l7.78-7.78 2.81-2.81c.8-.78.8-2.07 0-2.86zM5.41 20L4 18.59l7.72-7.72 1.47 1.35L5.41 20z\"/>\n",
              "  </svg>\n",
              "      </button>\n",
              "      \n",
              "  <style>\n",
              "    .colab-df-container {\n",
              "      display:flex;\n",
              "      flex-wrap:wrap;\n",
              "      gap: 12px;\n",
              "    }\n",
              "\n",
              "    .colab-df-convert {\n",
              "      background-color: #E8F0FE;\n",
              "      border: none;\n",
              "      border-radius: 50%;\n",
              "      cursor: pointer;\n",
              "      display: none;\n",
              "      fill: #1967D2;\n",
              "      height: 32px;\n",
              "      padding: 0 0 0 0;\n",
              "      width: 32px;\n",
              "    }\n",
              "\n",
              "    .colab-df-convert:hover {\n",
              "      background-color: #E2EBFA;\n",
              "      box-shadow: 0px 1px 2px rgba(60, 64, 67, 0.3), 0px 1px 3px 1px rgba(60, 64, 67, 0.15);\n",
              "      fill: #174EA6;\n",
              "    }\n",
              "\n",
              "    [theme=dark] .colab-df-convert {\n",
              "      background-color: #3B4455;\n",
              "      fill: #D2E3FC;\n",
              "    }\n",
              "\n",
              "    [theme=dark] .colab-df-convert:hover {\n",
              "      background-color: #434B5C;\n",
              "      box-shadow: 0px 1px 3px 1px rgba(0, 0, 0, 0.15);\n",
              "      filter: drop-shadow(0px 1px 2px rgba(0, 0, 0, 0.3));\n",
              "      fill: #FFFFFF;\n",
              "    }\n",
              "  </style>\n",
              "\n",
              "      <script>\n",
              "        const buttonEl =\n",
              "          document.querySelector('#df-b6b9943a-1078-4d70-be97-f0ff8b9c283e button.colab-df-convert');\n",
              "        buttonEl.style.display =\n",
              "          google.colab.kernel.accessAllowed ? 'block' : 'none';\n",
              "\n",
              "        async function convertToInteractive(key) {\n",
              "          const element = document.querySelector('#df-b6b9943a-1078-4d70-be97-f0ff8b9c283e');\n",
              "          const dataTable =\n",
              "            await google.colab.kernel.invokeFunction('convertToInteractive',\n",
              "                                                     [key], {});\n",
              "          if (!dataTable) return;\n",
              "\n",
              "          const docLinkHtml = 'Like what you see? Visit the ' +\n",
              "            '<a target=\"_blank\" href=https://colab.research.google.com/notebooks/data_table.ipynb>data table notebook</a>'\n",
              "            + ' to learn more about interactive tables.';\n",
              "          element.innerHTML = '';\n",
              "          dataTable['output_type'] = 'display_data';\n",
              "          await google.colab.output.renderOutput(dataTable, element);\n",
              "          const docLink = document.createElement('div');\n",
              "          docLink.innerHTML = docLinkHtml;\n",
              "          element.appendChild(docLink);\n",
              "        }\n",
              "      </script>\n",
              "    </div>\n",
              "  </div>\n",
              "  "
            ]
          },
          "metadata": {},
          "execution_count": 9
        }
      ],
      "source": [
        "# your code goes here\n",
        "sex = pd.get_dummies(df['sex'], drop_first=True)\n",
        "smoker = pd.get_dummies(df['smoker'], drop_first=True)\n",
        "sex.columns = ['sex_male']\n",
        "smoker.columns = ['smoker_yes']\n",
        "df = df.drop(['sex','smoker'], axis=1)\n",
        "df = pd.concat([df,sex, smoker], axis=1)\n",
        "df.head()"
      ]
    },
    {
      "cell_type": "markdown",
      "id": "11737757",
      "metadata": {
        "id": "11737757"
      },
      "source": [
        "Q3. Now one-hot encode the `region` feature by again using `get_dummies()`, but this time, even though we could drop one column, let's go ahead and explicitly keep all 4 values as columns (i.e. drop_first should be set to False). Display the head of the resulting dataframe."
      ]
    },
    {
      "cell_type": "code",
      "execution_count": null,
      "id": "e0b43b2c",
      "metadata": {
        "scrolled": true,
        "colab": {
          "base_uri": "https://localhost:8080/",
          "height": 206
        },
        "id": "e0b43b2c",
        "outputId": "e67fd6e7-5ea5-417a-9fd8-b4389e750e53"
      },
      "outputs": [
        {
          "output_type": "execute_result",
          "data": {
            "text/plain": [
              "   age     bmi  children      charges  sex_male  smoker_yes  northeast  \\\n",
              "0   19  27.900         0  16884.92400         0           1          0   \n",
              "1   18  33.770         1   1725.55230         1           0          0   \n",
              "2   28  33.000         3   4449.46200         1           0          0   \n",
              "3   33  22.705         0  21984.47061         1           0          0   \n",
              "4   32  28.880         0   3866.85520         1           0          0   \n",
              "\n",
              "   northwest  southeast  southwest  \n",
              "0          0          0          1  \n",
              "1          0          1          0  \n",
              "2          0          1          0  \n",
              "3          1          0          0  \n",
              "4          1          0          0  "
            ],
            "text/html": [
              "\n",
              "  <div id=\"df-3f5c5319-e0f6-461f-b7e4-4168987d9252\">\n",
              "    <div class=\"colab-df-container\">\n",
              "      <div>\n",
              "<style scoped>\n",
              "    .dataframe tbody tr th:only-of-type {\n",
              "        vertical-align: middle;\n",
              "    }\n",
              "\n",
              "    .dataframe tbody tr th {\n",
              "        vertical-align: top;\n",
              "    }\n",
              "\n",
              "    .dataframe thead th {\n",
              "        text-align: right;\n",
              "    }\n",
              "</style>\n",
              "<table border=\"1\" class=\"dataframe\">\n",
              "  <thead>\n",
              "    <tr style=\"text-align: right;\">\n",
              "      <th></th>\n",
              "      <th>age</th>\n",
              "      <th>bmi</th>\n",
              "      <th>children</th>\n",
              "      <th>charges</th>\n",
              "      <th>sex_male</th>\n",
              "      <th>smoker_yes</th>\n",
              "      <th>northeast</th>\n",
              "      <th>northwest</th>\n",
              "      <th>southeast</th>\n",
              "      <th>southwest</th>\n",
              "    </tr>\n",
              "  </thead>\n",
              "  <tbody>\n",
              "    <tr>\n",
              "      <th>0</th>\n",
              "      <td>19</td>\n",
              "      <td>27.900</td>\n",
              "      <td>0</td>\n",
              "      <td>16884.92400</td>\n",
              "      <td>0</td>\n",
              "      <td>1</td>\n",
              "      <td>0</td>\n",
              "      <td>0</td>\n",
              "      <td>0</td>\n",
              "      <td>1</td>\n",
              "    </tr>\n",
              "    <tr>\n",
              "      <th>1</th>\n",
              "      <td>18</td>\n",
              "      <td>33.770</td>\n",
              "      <td>1</td>\n",
              "      <td>1725.55230</td>\n",
              "      <td>1</td>\n",
              "      <td>0</td>\n",
              "      <td>0</td>\n",
              "      <td>0</td>\n",
              "      <td>1</td>\n",
              "      <td>0</td>\n",
              "    </tr>\n",
              "    <tr>\n",
              "      <th>2</th>\n",
              "      <td>28</td>\n",
              "      <td>33.000</td>\n",
              "      <td>3</td>\n",
              "      <td>4449.46200</td>\n",
              "      <td>1</td>\n",
              "      <td>0</td>\n",
              "      <td>0</td>\n",
              "      <td>0</td>\n",
              "      <td>1</td>\n",
              "      <td>0</td>\n",
              "    </tr>\n",
              "    <tr>\n",
              "      <th>3</th>\n",
              "      <td>33</td>\n",
              "      <td>22.705</td>\n",
              "      <td>0</td>\n",
              "      <td>21984.47061</td>\n",
              "      <td>1</td>\n",
              "      <td>0</td>\n",
              "      <td>0</td>\n",
              "      <td>1</td>\n",
              "      <td>0</td>\n",
              "      <td>0</td>\n",
              "    </tr>\n",
              "    <tr>\n",
              "      <th>4</th>\n",
              "      <td>32</td>\n",
              "      <td>28.880</td>\n",
              "      <td>0</td>\n",
              "      <td>3866.85520</td>\n",
              "      <td>1</td>\n",
              "      <td>0</td>\n",
              "      <td>0</td>\n",
              "      <td>1</td>\n",
              "      <td>0</td>\n",
              "      <td>0</td>\n",
              "    </tr>\n",
              "  </tbody>\n",
              "</table>\n",
              "</div>\n",
              "      <button class=\"colab-df-convert\" onclick=\"convertToInteractive('df-3f5c5319-e0f6-461f-b7e4-4168987d9252')\"\n",
              "              title=\"Convert this dataframe to an interactive table.\"\n",
              "              style=\"display:none;\">\n",
              "        \n",
              "  <svg xmlns=\"http://www.w3.org/2000/svg\" height=\"24px\"viewBox=\"0 0 24 24\"\n",
              "       width=\"24px\">\n",
              "    <path d=\"M0 0h24v24H0V0z\" fill=\"none\"/>\n",
              "    <path d=\"M18.56 5.44l.94 2.06.94-2.06 2.06-.94-2.06-.94-.94-2.06-.94 2.06-2.06.94zm-11 1L8.5 8.5l.94-2.06 2.06-.94-2.06-.94L8.5 2.5l-.94 2.06-2.06.94zm10 10l.94 2.06.94-2.06 2.06-.94-2.06-.94-.94-2.06-.94 2.06-2.06.94z\"/><path d=\"M17.41 7.96l-1.37-1.37c-.4-.4-.92-.59-1.43-.59-.52 0-1.04.2-1.43.59L10.3 9.45l-7.72 7.72c-.78.78-.78 2.05 0 2.83L4 21.41c.39.39.9.59 1.41.59.51 0 1.02-.2 1.41-.59l7.78-7.78 2.81-2.81c.8-.78.8-2.07 0-2.86zM5.41 20L4 18.59l7.72-7.72 1.47 1.35L5.41 20z\"/>\n",
              "  </svg>\n",
              "      </button>\n",
              "      \n",
              "  <style>\n",
              "    .colab-df-container {\n",
              "      display:flex;\n",
              "      flex-wrap:wrap;\n",
              "      gap: 12px;\n",
              "    }\n",
              "\n",
              "    .colab-df-convert {\n",
              "      background-color: #E8F0FE;\n",
              "      border: none;\n",
              "      border-radius: 50%;\n",
              "      cursor: pointer;\n",
              "      display: none;\n",
              "      fill: #1967D2;\n",
              "      height: 32px;\n",
              "      padding: 0 0 0 0;\n",
              "      width: 32px;\n",
              "    }\n",
              "\n",
              "    .colab-df-convert:hover {\n",
              "      background-color: #E2EBFA;\n",
              "      box-shadow: 0px 1px 2px rgba(60, 64, 67, 0.3), 0px 1px 3px 1px rgba(60, 64, 67, 0.15);\n",
              "      fill: #174EA6;\n",
              "    }\n",
              "\n",
              "    [theme=dark] .colab-df-convert {\n",
              "      background-color: #3B4455;\n",
              "      fill: #D2E3FC;\n",
              "    }\n",
              "\n",
              "    [theme=dark] .colab-df-convert:hover {\n",
              "      background-color: #434B5C;\n",
              "      box-shadow: 0px 1px 3px 1px rgba(0, 0, 0, 0.15);\n",
              "      filter: drop-shadow(0px 1px 2px rgba(0, 0, 0, 0.3));\n",
              "      fill: #FFFFFF;\n",
              "    }\n",
              "  </style>\n",
              "\n",
              "      <script>\n",
              "        const buttonEl =\n",
              "          document.querySelector('#df-3f5c5319-e0f6-461f-b7e4-4168987d9252 button.colab-df-convert');\n",
              "        buttonEl.style.display =\n",
              "          google.colab.kernel.accessAllowed ? 'block' : 'none';\n",
              "\n",
              "        async function convertToInteractive(key) {\n",
              "          const element = document.querySelector('#df-3f5c5319-e0f6-461f-b7e4-4168987d9252');\n",
              "          const dataTable =\n",
              "            await google.colab.kernel.invokeFunction('convertToInteractive',\n",
              "                                                     [key], {});\n",
              "          if (!dataTable) return;\n",
              "\n",
              "          const docLinkHtml = 'Like what you see? Visit the ' +\n",
              "            '<a target=\"_blank\" href=https://colab.research.google.com/notebooks/data_table.ipynb>data table notebook</a>'\n",
              "            + ' to learn more about interactive tables.';\n",
              "          element.innerHTML = '';\n",
              "          dataTable['output_type'] = 'display_data';\n",
              "          await google.colab.output.renderOutput(dataTable, element);\n",
              "          const docLink = document.createElement('div');\n",
              "          docLink.innerHTML = docLinkHtml;\n",
              "          element.appendChild(docLink);\n",
              "        }\n",
              "      </script>\n",
              "    </div>\n",
              "  </div>\n",
              "  "
            ]
          },
          "metadata": {},
          "execution_count": 10
        }
      ],
      "source": [
        "# your code goes here\n",
        "region = pd.get_dummies(df['region'], drop_first=False)\n",
        "df = df.drop(['region'], axis = 1)\n",
        "df = pd.concat([df, region], axis=1)\n",
        "df.head()"
      ]
    },
    {
      "cell_type": "markdown",
      "id": "38a13dc1",
      "metadata": {
        "id": "38a13dc1"
      },
      "source": [
        "Q4. An interesting thing to check with regression problems is whether any of the individual features correlate very strongly with the label. Use the `corr()` method on the dataframe to take a look at this.\n",
        "\n",
        "Answer as a comment: Do you see any features with a strong correlation to the label?"
      ]
    },
    {
      "cell_type": "code",
      "execution_count": null,
      "id": "6ad660fd",
      "metadata": {
        "scrolled": true,
        "id": "6ad660fd"
      },
      "outputs": [],
      "source": [
        "# your code goes here\n",
        "#region.corr()\n",
        "\n",
        "# Whether or not they are a smoker has a high correlation with charges, and\n",
        "# there is also a noticeably higher correlation with age and bmi than any other\n",
        "# features."
      ]
    },
    {
      "cell_type": "markdown",
      "id": "4b86aa6a",
      "metadata": {
        "id": "4b86aa6a"
      },
      "source": [
        "Q5. Create a plot to show the difference in charges between the smokers and the non-smokers."
      ]
    },
    {
      "cell_type": "code",
      "execution_count": null,
      "id": "2f3a1ce1",
      "metadata": {
        "id": "2f3a1ce1",
        "colab": {
          "base_uri": "https://localhost:8080/",
          "height": 294
        },
        "outputId": "6d6b5df1-2267-4be3-d987-952b3dd5a36e"
      },
      "outputs": [
        {
          "output_type": "execute_result",
          "data": {
            "text/plain": [
              "<matplotlib.axes._subplots.AxesSubplot at 0x7f7d8528cac0>"
            ]
          },
          "metadata": {},
          "execution_count": 12
        },
        {
          "output_type": "display_data",
          "data": {
            "text/plain": [
              "<Figure size 432x288 with 1 Axes>"
            ],
            "image/png": "[encoded data removed]"
          },
          "metadata": {
            "needs_background": "light"
          }
        }
      ],
      "source": [
        "colors = {0:'red', 1:'blue'}\n",
        "#newdf = df.loc[0:99]\n",
        "grouped_data = df.groupby('smoker_yes').describe()\n",
        "#grouped_data\n",
        "charges_grouped_data = grouped_data['charges']\n",
        "#charges_grouped_data\n",
        "charges_grouped_data = charges_grouped_data.loc[:,['mean']]\n",
        "charges_grouped_data.plot(kind = 'bar', y = 'mean', ylabel = 'Charges')\n",
        "# plt.scatter(df['smoker_yes'], df['charges'],\n",
        "#             c = df['smoker_yes'].apply(lambda x: colors[x]),\n",
        "#             marker = 'x')\n",
        "# plt.title('Charge difference between Smokers and Non-Smokers', fontsize=14)\n",
        "# plt.xlabel('Smoker', fontsize=14)\n",
        "# plt.ylabel('Charges ($)', fontsize=14)\n",
        "# plt.show()\n",
        "\n",
        "#binning"
      ]
    },
    {
      "cell_type": "markdown",
      "id": "5ece359c",
      "metadata": {
        "id": "5ece359c"
      },
      "source": [
        "Q6. Let's explore the relationship between `age` and `charges`. Create a scatter plot of all data points to show age vs charges.\n",
        "\n",
        "Answer as a comment: What do you notice about the nature of this relationship?"
      ]
    },
    {
      "cell_type": "code",
      "execution_count": null,
      "id": "78a4ddce",
      "metadata": {
        "id": "78a4ddce",
        "colab": {
          "base_uri": "https://localhost:8080/",
          "height": 300
        },
        "outputId": "99bed552-ea49-44e8-8d4d-3ab282956aae"
      },
      "outputs": [
        {
          "output_type": "display_data",
          "data": {
            "text/plain": [
              "<Figure size 432x288 with 1 Axes>"
            ],
            "image/png": "[encoded data removed]"
          },
          "metadata": {
            "needs_background": "light"
          }
        }
      ],
      "source": [
        "plt.scatter(df['age'], df['charges'],\n",
        "            marker = 'x')\n",
        "plt.title('Charges across Ages', fontsize=14)\n",
        "plt.xlabel('Age', fontsize=14)\n",
        "plt.ylabel('Charges ($)', fontsize=14)\n",
        "plt.show()\n",
        "\n",
        "#Across all ages there is no major difference in charges.\n",
        "#There is a slight positive correlation between age and Charges above $10,000,\n",
        "#so as age increases there are slightly less individuals paying less than $10,000."
      ]
    },
    {
      "cell_type": "markdown",
      "id": "ce9b1624",
      "metadata": {
        "id": "ce9b1624"
      },
      "source": [
        "#### Simple Linear Regression\n",
        "**Fit a simple linear regression model to predict `charges` from `age`.**\n",
        "\n",
        "Q7.\n",
        "* Grab the `age` column from the dataframe and call it something like `x`.\n",
        "* Grab the `charges` column from the dataframe and call it something like `y`.\n",
        "* When doing simple linear regression (one feature), you need to convert the features from a Series to a list of lists. You can do this by doing `x = x.values.reshape(-1,1)`, where the (-1,1) means (all rows, one column).\n",
        "* Do the same to the labels (`y = y.values.reshape(-1,1)`).\n",
        "* Verify that you have a list of lists for both x and y."
      ]
    },
    {
      "cell_type": "code",
      "execution_count": null,
      "id": "a012a960",
      "metadata": {
        "scrolled": true,
        "id": "a012a960",
        "colab": {
          "base_uri": "https://localhost:8080/"
        },
        "outputId": "f04da96c-3a13-4323-8273-648c4d28d5ca"
      },
      "outputs": [
        {
          "output_type": "execute_result",
          "data": {
            "text/plain": [
              "array([[16884.924 ],\n",
              "       [ 1725.5523],\n",
              "       [ 4449.462 ],\n",
              "       ...,\n",
              "       [ 1629.8335],\n",
              "       [ 2007.945 ],\n",
              "       [29141.3603]])"
            ]
          },
          "metadata": {},
          "execution_count": 15
        }
      ],
      "source": [
        "x = df['age']\n",
        "y = df['charges']\n",
        "x = x.values.reshape(-1,1)\n",
        "y = y.values.reshape(-1,1)\n",
        "x\n",
        "y\n",
        "\n"
      ]
    },
    {
      "cell_type": "markdown",
      "id": "08424490",
      "metadata": {
        "id": "08424490"
      },
      "source": [
        "**Using the holdout method**\n",
        "\n",
        "Q8. Use [sklearn.model_selection.train_test_split](https://scikit-learn.org/stable/modules/generated/sklearn.model_selection.train_test_split.html) to split your dataset into training and test sets. Do an 80%-20% split. Display how many records are in the training set and how many are in the test set. Set the random_state argument to your favorite number."
      ]
    },
    {
      "cell_type": "code",
      "execution_count": null,
      "id": "e9c24d71",
      "metadata": {
        "scrolled": true,
        "id": "e9c24d71",
        "colab": {
          "base_uri": "https://localhost:8080/"
        },
        "outputId": "18b02e55-7aec-4b65-f1a0-71be8e03a90c"
      },
      "outputs": [
        {
          "output_type": "stream",
          "name": "stdout",
          "text": [
            "1070\n",
            "268\n",
            "1070\n",
            "268\n"
          ]
        }
      ],
      "source": [
        "from sklearn.model_selection import train_test_split\n",
        "\n",
        "test_train = train_test_split(x, y,test_size=.2, train_size=.8, random_state = 33)\n",
        "for i in test_train:\n",
        "  print(len(i))\n"
      ]
    },
    {
      "cell_type": "markdown",
      "id": "cffda89c",
      "metadata": {
        "id": "cffda89c"
      },
      "source": [
        "Q9.\n",
        "* Create a [sklearn.linear_model.LinearRegression](https://scikit-learn.org/stable/modules/generated/sklearn.linear_model.LinearRegression.html) object.\n",
        "* Call `fit` on it and pass in the training set.\n",
        "* Print the slope and the intercept of the equation with the `.coef_` and `.intercept_` attributes."
      ]
    },
    {
      "cell_type": "code",
      "execution_count": null,
      "id": "caa8b841",
      "metadata": {
        "id": "caa8b841",
        "colab": {
          "base_uri": "https://localhost:8080/"
        },
        "outputId": "badc988d-1c70-471c-cbb3-4369005d7d0d"
      },
      "outputs": [
        {
          "output_type": "stream",
          "name": "stdout",
          "text": [
            "[3331.16109876]\n",
            "[[257.90127256]]\n"
          ]
        }
      ],
      "source": [
        "from sklearn.linear_model import LinearRegression\n",
        "\n",
        "lin_reg = LinearRegression().fit(test_train[0],test_train[2])\n",
        "print(lin_reg.intercept_)\n",
        "print(lin_reg.coef_)\n"
      ]
    },
    {
      "cell_type": "markdown",
      "id": "c0695225",
      "metadata": {
        "id": "c0695225"
      },
      "source": [
        "Q10. Now that you've fit the model on the training set, you can evaluate it on the test set. Call `predict` on the linear regression object and pass in the test set. Save the return value - these are all of the predicted values under the model for the test set.\n",
        "\n",
        "Compute some metrics to see how well this model fits the test data. Use `sklearn.metrics` to print out the MAE, MSE, RMSE, and R2 for the test set under this model. Remember that you have the actual y values for your test set, up in Q8.  "
      ]
    },
    {
      "cell_type": "code",
      "execution_count": null,
      "id": "fe8b56fd",
      "metadata": {
        "id": "fe8b56fd",
        "colab": {
          "base_uri": "https://localhost:8080/"
        },
        "outputId": "a5a47e08-599a-4c10-9b9d-0297c5b47e7e"
      },
      "outputs": [
        {
          "output_type": "execute_result",
          "data": {
            "text/plain": [
              "0.10590837427560229"
            ]
          },
          "metadata": {},
          "execution_count": 18
        }
      ],
      "source": [
        "import sklearn.metrics as metrics\n",
        "predictions = lin_reg.predict(test_train[1])\n",
        "metrics.mean_absolute_error(test_train[3], predictions)\n",
        "metrics.mean_squared_error(test_train[3], predictions)\n",
        "metrics.mean_squared_error(test_train[3], predictions, squared = False)\n",
        "metrics.r2_score(test_train[3], predictions)\n",
        "\n",
        "\n",
        "\n",
        "# your code goes here"
      ]
    },
    {
      "cell_type": "markdown",
      "id": "cb8c799f",
      "metadata": {
        "id": "cb8c799f"
      },
      "source": [
        "Q11. Let's see what the best fit line looks like with the test data. Scatter-plot the test data (x_test, y_test). Then line-plot the model predictions for the test data (x_test, y_test_preds)."
      ]
    },
    {
      "cell_type": "code",
      "execution_count": null,
      "id": "2b64976f",
      "metadata": {
        "id": "2b64976f",
        "colab": {
          "base_uri": "https://localhost:8080/",
          "height": 300
        },
        "outputId": "d94f9f02-f0a9-4f6f-9fc8-789e4c0797c6"
      },
      "outputs": [
        {
          "output_type": "display_data",
          "data": {
            "text/plain": [
              "<Figure size 432x288 with 1 Axes>"
            ],
            "image/png": "[encoded data removed]"
          },
          "metadata": {
            "needs_background": "light"
          }
        }
      ],
      "source": [
        "plt.scatter(test_train[1],test_train[3],\n",
        "            marker = 'x')\n",
        "plt.title('X_Test v Y_Test', fontsize=14)\n",
        "plt.xlabel('X-Test', fontsize=14)\n",
        "plt.ylabel('Y_Test ($)', fontsize=14)\n",
        "plt.plot(test_train[1],predictions )\n",
        "plt.show()"
      ]
    },
    {
      "cell_type": "markdown",
      "id": "308eb6bf",
      "metadata": {
        "id": "308eb6bf"
      },
      "source": [
        "Q12. Now, go back up to your Q8, change the random_state to a different number, and re-run Q9, Q10, Q11.\n",
        "\n",
        "Answer as a comment: What happened and why?"
      ]
    },
    {
      "cell_type": "code",
      "execution_count": null,
      "id": "82a24492",
      "metadata": {
        "id": "82a24492"
      },
      "outputs": [],
      "source": [
        "# Changing the random_state number only shifted the y-intercept slightly higher and increased the correlation coefficient.\n",
        "# Since the random_state only affects the shuuffling, we can induce that these variables were different due to variability of the\n",
        "# data points in the test and training set."
      ]
    },
    {
      "cell_type": "markdown",
      "id": "99d04b36",
      "metadata": {
        "id": "99d04b36"
      },
      "source": [
        "**Using cross-validation**\n",
        "\n",
        "Q13. Use `sklearn.model_selection.cross_val_score` to perform 5-fold cross validation on a simple linear regression model.\n",
        "\n",
        "You will pass the FULL dataset (x and y from before the train/test split in Q8) into `cross_val_score` which will automatically divide it into the number of folds you tell it to, fit a linear regression model to the training set for each fold, and test it on the test set for each fold. It will return a numpy array with the R2 on the test set for each fold. Average these R2 scores to print out the generalization estimate of the model.\n",
        "\n",
        "On average, after 5 trials with 5 different test sets, this is how well we think a linear regression of using `age` to predict `charges` will work."
      ]
    },
    {
      "cell_type": "code",
      "execution_count": null,
      "id": "c5b417e6",
      "metadata": {
        "id": "c5b417e6",
        "colab": {
          "base_uri": "https://localhost:8080/"
        },
        "outputId": "e7053d60-45d7-48d9-cc70-525a0eacef78"
      },
      "outputs": [
        {
          "output_type": "stream",
          "name": "stdout",
          "text": [
            "0.7191692504028051\n"
          ]
        }
      ],
      "source": [
        "from sklearn.model_selection import cross_val_score\n",
        "\n",
        "#clf = (x,y).SVC(kernel='linear', C=1, random_state=42)\n",
        "scores = cross_val_score(LinearRegression(), x, y, scoring='r2',cv = 5) #added r2 scoring\n",
        "total = 0\n",
        "for i in scores:\n",
        "  total += i\n",
        "mean = total/5\n",
        "print(mean)\n",
        "\n",
        "\n",
        "\n",
        "# your code goes here"
      ]
    },
    {
      "cell_type": "markdown",
      "id": "eed2a22c",
      "metadata": {
        "id": "eed2a22c"
      },
      "source": [
        "#### Multiple Linear Regression\n",
        "**Fit a multiple linear regression model to predict `charges` from `age` and `smoker`.**"
      ]
    },
    {
      "cell_type": "markdown",
      "id": "2b3b2aa1",
      "metadata": {
        "id": "2b3b2aa1"
      },
      "source": [
        "Q14. Now let's see if we can get a better model by including another feature.\n",
        "* From the one-hot-encoded dataframe (the result of Q3), grab both the `age` and `smoker_yes` columns. Call it something like x.\n",
        "* (No need to call a reshape this time, since it is multi-dimensional data now.)\n",
        "* You already have the y's.\n",
        "* Create a new `sklearn.linear_model.LinearRegression` object. (Or you can re-use the one you already have.)\n",
        "* Pass it all into a `sklearn.model_selection.cross_val_score` with a 5-fold CV.\n",
        "* Print out the average R2.\n",
        "* Once we get into **multiple** linear regression, we should not use R2, we should instead use adjusted-R2. Use the provided (at the top of the file) `get_adj_R2()` function to print out the adjusted R2. (Note, this value will be very close to the R2 because our `n` is large and our `p` is small.)\n",
        "\n",
        "Answer as a comment: What happens when you include `smoker_yes`?"
      ]
    },
    {
      "cell_type": "code",
      "execution_count": null,
      "id": "6c1db535",
      "metadata": {
        "id": "6c1db535",
        "colab": {
          "base_uri": "https://localhost:8080/"
        },
        "outputId": "077a1c51-84a5-41ce-f41d-4fffa1c62ff9"
      },
      "outputs": [
        {
          "output_type": "execute_result",
          "data": {
            "text/plain": [
              "0.7187485301786896"
            ]
          },
          "metadata": {},
          "execution_count": 23
        }
      ],
      "source": [
        "x = df[['age', 'smoker_yes']]\n",
        "#print(x)\n",
        "new_scores = cross_val_score(LinearRegression(), x, y,scoring='r2', cv = 5)\n",
        "total = 0\n",
        "for n in new_scores:\n",
        "  total += n\n",
        "avg = (total/5)\n",
        "rows = len(df.index)\n",
        "get_adj_r2(avg, rows, 2)\n",
        "\n",
        "#After adding the smoker variable, the r2 increased significantly.\n"
      ]
    },
    {
      "cell_type": "markdown",
      "id": "e7bdb411",
      "metadata": {
        "id": "e7bdb411"
      },
      "source": [
        "Q15. Let's go one more step and see if including ALL of our features is even better at predicting the `charges` than using just `age` and `smoker`.\n",
        "\n",
        "* From the one-hot-encoded dataframe (the result of Q3), grab all the features, but NOT the target. Call it something like x.\n",
        "* (No need to call a reshape this time, since it is multi-dimensional data now.)\n",
        "* You already have the y's.\n",
        "* Create a new sklearn.linear_model.LinearRegression object. (Or you can re-use the one you already have.)\n",
        "* Pass it all into a sklearn.model_selection.cross_val_score with a 5-fold CV.\n",
        "* Print out the average R2 and the adjusted R2."
      ]
    },
    {
      "cell_type": "code",
      "execution_count": null,
      "id": "4dbef0e5",
      "metadata": {
        "scrolled": true,
        "id": "4dbef0e5",
        "colab": {
          "base_uri": "https://localhost:8080/"
        },
        "outputId": "e9c63ee3-b678-45d0-abd7-410eceb0461b"
      },
      "outputs": [
        {
          "output_type": "stream",
          "name": "stdout",
          "text": [
            "0.746861624347374\n",
            "0.7451460781268366\n"
          ]
        }
      ],
      "source": [
        "all_features = df. loc[:, df. columns !='charges']\n",
        "all_scores = cross_val_score(LinearRegression(), all_features, y, scoring='r2', cv = 5)\n",
        "total = 0\n",
        "for n in all_scores:\n",
        "  total += n\n",
        "avg = (total/5)\n",
        "rows = len(df.index)\n",
        "print(avg)\n",
        "print(get_adj_r2(avg, rows, 9))  #changed columns to 9\n",
        "\n"
      ]
    },
    {
      "cell_type": "markdown",
      "id": "f3c60daf",
      "metadata": {
        "id": "f3c60daf"
      },
      "source": [
        "Q16. Build the final model on the entire dataset.\n",
        "* You should already have your x from the previous question (Q15).\n",
        "* You already have the y's.\n",
        "* Create a new `sklearn.linear_model.LinearRegression` object, or you can re-use the one you already have.\n",
        "* Call `fit` and pass in all the data (x, y).\n",
        "* Print out the coefficients and the intercept of the fitted model. The coefficients correspond to the the order in which the features are in the dataframe (x).\n",
        "\n",
        "This defines your multiple linear regression equation!"
      ]
    },
    {
      "cell_type": "code",
      "execution_count": null,
      "id": "03cfb422",
      "metadata": {
        "scrolled": true,
        "id": "03cfb422",
        "colab": {
          "base_uri": "https://localhost:8080/"
        },
        "outputId": "cce516e1-4269-4093-cb87-e0bdaa75ee60"
      },
      "outputs": [
        {
          "output_type": "stream",
          "name": "stdout",
          "text": [
            "[[  256.85635254   339.19345361   475.50054515  -131.3143594\n",
            "  23848.53454191   587.00923503   234.0453356   -448.01281436\n",
            "   -373.04175627]]\n",
            "[-12525.5478112]\n"
          ]
        }
      ],
      "source": [
        "new_lin_reg = LinearRegression().fit(all_features,y)\n",
        "print(new_lin_reg.coef_)\n",
        "print(new_lin_reg.intercept_)\n",
        "\n"
      ]
    },
    {
      "cell_type": "markdown",
      "id": "c08d42fc",
      "metadata": {
        "id": "c08d42fc"
      },
      "source": [
        "## Part 2: K-Nearest Neighbors from scratch\n",
        "\n",
        "In this part of the assignment you'll implement the K-Nearest Neighbors (KNN) classification algorithm to classify patients as either having or not having diabetic retinopathy. For this task we'll be using the same Diabetic Retinopathy data set which was used in the previous assignment on decision trees."
      ]
    },
    {
      "cell_type": "markdown",
      "id": "f04ffa20",
      "metadata": {
        "id": "f04ffa20"
      },
      "source": [
        "You may use the following function to print a confusion matrix:"
      ]
    },
    {
      "cell_type": "code",
      "execution_count": null,
      "id": "acc4cd14",
      "metadata": {
        "id": "acc4cd14"
      },
      "outputs": [],
      "source": [
        "def print_confusion_matrix(TP, FN, FP, TN):\n",
        "\n",
        "    table_data = [[TP,FN],[FP,TN]]\n",
        "    df = pd.DataFrame(table_data, columns =['Predicted 1','Predicted 0'])\n",
        "    df = df.rename(index={0: 'Actual 1', 1: 'Actual 0'})\n",
        "    display(df)"
      ]
    },
    {
      "cell_type": "code",
      "execution_count": null,
      "id": "4eb2b554",
      "metadata": {
        "id": "4eb2b554"
      },
      "outputs": [],
      "source": [
        "# you may use these constants if you want\n",
        "LABEL_COLUMN = 19\n",
        "BINARY_COLUMNS = {0,1,18, 19}"
      ]
    },
    {
      "cell_type": "markdown",
      "id": "7edf52cf",
      "metadata": {
        "id": "7edf52cf"
      },
      "source": [
        "Q1. Normalize the data so that each feature value lies between `[0-1]`.\n",
        "\n",
        "In class, we talked about why scaling the data is critical to KNN. We also talked about how data scaling should be done *inside the cross validataion loop*. This means that the scaling parameters should be based on the **training set only**, in order to prevent data leakage. Then the test data will need to be scaled, using the parameters found on the **training** data.\n",
        "\n",
        "Fill in the function to take in a training dataset and a test dataset and normalize them correctly. Return the normalized datasets.\n",
        "\n",
        "Caution: Return NEW datasets that have been normalized - do not normalize the datasets in-place, so that this can be run numerous times without altering the original data or normalizing already normalized data.\n",
        "\n",
        "Hint: When using dataframes, you can do this without a loop!"
      ]
    },
    {
      "cell_type": "code",
      "execution_count": null,
      "id": "f2521ea4",
      "metadata": {
        "id": "f2521ea4"
      },
      "outputs": [],
      "source": [
        "import numpy as np\n",
        "def normalize_data(train, test):\n",
        "\n",
        "    train_norm=(train-train.min())/(train.max()-train.min())\n",
        "    test_norm=(test-train.min())/(train.max()-train.min())\n",
        "\n",
        "    return train_norm, test_norm\n"
      ]
    },
    {
      "cell_type": "markdown",
      "id": "acbcfd93",
      "metadata": {
        "id": "acbcfd93"
      },
      "source": [
        "Q2. The distance calculation method is central to the KNN algorithm. In this assignment you'll be using the Euclidean distance.\n",
        "\n",
        "Implement a function that takes in one data point (as a list), and the training data (as a dataframe), and calculates the Euclidian distance from the single data point to each of the data points in the training data.\n",
        "\n",
        "You may return these however you want (or may add them to the dataframe?).\n",
        "\n",
        "Hint:\n",
        "For KNN, the distance calculations are the most time-consuming part of the algorithm. Even though computing Euclidian distance seems like a simple, and therefore quick, calculation, running it thousands of times, inside of a nested 5-fold cross-validation for example, can cause this algorithm to take a very long time to run, depending on your implementation.\n",
        "\n",
        "Remember, you almost never need to loop a Dataframe! Pandas DataFrames have been specifically optimized for fast operations on large datasets, by [vectorizing](https://www.quantifisolutions.com/vectorization-part-2-why-and-what) calculations across all rows at once.\n",
        "\n",
        "If you use a DataFrame, you should not write a loop to calculate each of the Euclidian distances one at a time. Look at [this post](https://stackoverflow.com/questions/46908388/find-euclidean-distance-from-a-point-to-rows-in-pandas-dataframe?rq=1) for more info.\n",
        "\n",
        "Caution: Be careful not to use the label in your distance calculation."
      ]
    },
    {
      "cell_type": "code",
      "execution_count": null,
      "id": "8568727f",
      "metadata": {
        "id": "8568727f"
      },
      "outputs": [],
      "source": [
        "import numpy as np\n",
        "\n",
        "def get_distances(point, df):\n",
        "    point2 = point[:LABEL_COLUMN]\n",
        "    df['distance'] = (df.iloc[:,:19] - np.array(point2)).pow(2).sum(1).pow(.5)\n",
        "\n",
        "    # your code goes here\n",
        "    # print(\"point\\n\", point2)\n",
        "    # print(\"df\\n\", df)\n",
        "    # print(df.iloc[0]);\n",
        "    return df\n",
        "    # print(len(point))\n",
        "    df_copy = df.copy()\n",
        "    slc = list(range(df.shape[1]))\n",
        "    slc.remove(LABEL_COLUMN)\n",
        "    # distances = []\n",
        "\n",
        "    # for i in range(0, df.shape[0], 1):\n",
        "    #   total = 0\n",
        "    #   for j in range(0, df.shape[1] - 1, 1):\n",
        "    #      #(point[j], df.loc[i][j])\n",
        "    #      curr_distance = point[j] - df.iloc[i][j]\n",
        "    #      curr_distance_squared = curr_distance**2\n",
        "    #      total += curr_distance_squared\n",
        "    #   total = total**.5\n",
        "    #   distances.append(total)\n",
        "    # df_copy['distance'] = distances\n",
        "\n",
        "\n",
        "\n",
        "    df_copy = df.iloc[:, slc]\n",
        "    df_copy = df_copy.loc[:, df_copy. columns != 'distance']\n",
        "    # print(df_copy)\n",
        "    # print(point)\n",
        "    # df_copy = df_copy.loc[:, df_copy.columns != '19']\n",
        "    # print(df_copy)\n",
        "    # print(len(df_copy.columns))\n",
        "    df_copy['distance'] = (df_copy - np.array(point)).pow(2).sum(1).pow(0.5)  #changed to power of 2\n",
        "    # df_copy['distance'] = np.linalg.norm(df_copy.sub(np.array(point)), axis=1)\n",
        "    return df_copy"
      ]
    },
    {
      "cell_type": "markdown",
      "id": "3e91c9c3",
      "metadata": {
        "id": "3e91c9c3"
      },
      "source": [
        "Q3. Build your KNN classifier.\n",
        "\n",
        "This function takes in a training set (as a dataframe), a test set (as a dataframe), and a k to use, and classifies all data points in the test set, using the data in the training set and the given k.\n",
        "\n",
        "It should return the predicted labels for the test set as a list.\n",
        "\n",
        "Caution: Remember to normalize your data before doing distance calculations."
      ]
    },
    {
      "cell_type": "code",
      "execution_count": null,
      "id": "6330af96",
      "metadata": {
        "id": "6330af96"
      },
      "outputs": [],
      "source": [
        "def run_knn(train_set, test_set, k):\n",
        "    train_norm, test_norm = normalize_data(train_set, test_set)\n",
        "    predictions = []\n",
        "    for i in range(test_norm.shape[0]):\n",
        "      distances = get_distances(test_norm.iloc[i], train_norm)\n",
        "      # print(\"Before sorting :\\n\", distances['distance'])\n",
        "      distances = distances.sort_values(by=['distance'])\n",
        "      # print(\"After sorting :\\n\", distances['distance'])\n",
        "      num_zeroes = 0\n",
        "      num_ones = 0\n",
        "      #print(distances)\n",
        "      for j in range(k):\n",
        "        curr = distances.iloc[j]\n",
        "        # print(curr)\n",
        "        # print(curr.iloc[LABEL_COLUMN]) #changed row to column\n",
        "        if(curr.iloc[LABEL_COLUMN] == 0):\n",
        "          num_zeroes += 1\n",
        "        else:\n",
        "          num_ones += 1\n",
        "      if num_zeroes > num_ones:\n",
        "        predictions.append(0)\n",
        "      else:\n",
        "        predictions.append(1)\n",
        "    # your code goes here\n",
        "    return predictions"
      ]
    },
    {
      "cell_type": "code",
      "source": [],
      "metadata": {
        "id": "99ya2hCbG0kP"
      },
      "id": "99ya2hCbG0kP",
      "execution_count": null,
      "outputs": []
    },
    {
      "cell_type": "code",
      "source": [
        "def calc_accuracy(predictions, data):\n",
        "  accurate = 0\n",
        "  TP = 0\n",
        "  TN = 0\n",
        "  FP = 0\n",
        "  FN = 0\n",
        "  for i in range (data.shape[0]):\n",
        "    #print(dp)\n",
        "    prediction = predictions[i]\n",
        "    row = data.iloc[i]\n",
        "    # print(prediction,row.iloc[LABEL_COLUMN])\n",
        "    if prediction == row.iloc[LABEL_COLUMN]:\n",
        "      accurate += 1\n",
        "      if prediction == 1:\n",
        "        TP+=1\n",
        "      else:\n",
        "        TN+=1\n",
        "    else:\n",
        "      if prediction == 1:\n",
        "        FP+=1\n",
        "      else:\n",
        "        FN+=1\n",
        "\n",
        "  calc_accuracy = float(accurate/(len(predictions)))\n",
        "  return calc_accuracy, TP, TN, FP, FN"
      ],
      "metadata": {
        "id": "E9q3yPhUF9z_"
      },
      "id": "E9q3yPhUF9z_",
      "execution_count": null,
      "outputs": []
    },
    {
      "cell_type": "markdown",
      "id": "b80cc7f6",
      "metadata": {
        "id": "b80cc7f6"
      },
      "source": [
        "Q4. Find the best value of k for this data.\n",
        "\n",
        "Try k ranging from 1 to 10 (odds only). For each k value, use a 5-fold cross validation to evaluate the accuracy with that k. In each fold of CV, divide your data into a training set and a validation set. Print out the best value of k and the accuracy achieved with that value. Return the best value of k. If there is a tie for best k, use the lowest of the k values.\n",
        "\n",
        "Hint: This is the *inner* loop of a nested cross validation."
      ]
    },
    {
      "cell_type": "code",
      "execution_count": null,
      "id": "70de520e",
      "metadata": {
        "id": "70de520e"
      },
      "outputs": [],
      "source": [
        "def find_best_k(data):\n",
        "  k_fold_start = 0\n",
        "  numfolds = 5\n",
        "  partition_length = int(data.shape[0]/numfolds)\n",
        "  folds_array = []\n",
        "  folds_array.append(data.iloc[0:partition_length])\n",
        "  bestk = 0\n",
        "  bestaccuracy = 0\n",
        "\n",
        "  for k in range(1, 11, 2):\n",
        "    # print(\"    -----------------------\")\n",
        "    # print(\"    Evaluating for k:\", k)\n",
        "    for j in range (1, numfolds, 1):\n",
        "      folds_array.append(data.iloc[j*partition_length: (j+1)*partition_length])\n",
        "    sum = 0\n",
        "    for n in range (numfolds):\n",
        "      train_set = []\n",
        "      test_set = []\n",
        "      for test in range (numfolds):\n",
        "        if test == n:\n",
        "          test_set = folds_array[test]\n",
        "        else:\n",
        "          train_set.append(folds_array[test])\n",
        "      train_set = pd.concat(train_set)\n",
        "      # prediction = []\n",
        "      # if(k == 1):\n",
        "      #   prediction = run_knn(train_set, test_set, k, True)\n",
        "      # else:\n",
        "      # train_norm, test_norm = normalize_data(train_set, test_set)\n",
        "      prediction = run_knn(train_set, test_set, k) # change 1, uncomment above\n",
        "      accuracy = calc_accuracy(prediction,test_set)[0]\n",
        "      sum += accuracy\n",
        "      # print ('    The accuracy on the test set is ', str(accuracy * 100.0))\n",
        "      # print ('Training set size:', len(train_set))\n",
        "      # print ('Test set size    :', len(test_set))\n",
        "    avg_sum = sum/numfolds\n",
        "    # print(\"    The average accuracy for this k was:\", avg_sum)\n",
        "    if avg_sum > bestaccuracy:\n",
        "        # print(\"    Overtaking current best accuracy and k\")\n",
        "        # print(\"    Old best acc and k:\", bestaccuracy, bestk)\n",
        "        # print(\"    New best acc and k:\", avg_sum, k)\n",
        "        bestk = k\n",
        "        bestaccuracy = avg_sum\n",
        "  # print(\"    -----------------------\")\n",
        "  # print ('    The best avg sum on the test set is ', str(bestaccuracy * 100.0))\n",
        "  # print ('    The best k on the test set is ', bestk)\n",
        "\n",
        "  return bestk"
      ]
    },
    {
      "cell_type": "markdown",
      "id": "5da24b15",
      "metadata": {
        "id": "5da24b15"
      },
      "source": [
        "Q5. Now measure the accuracy of your classifier using 5-fold cross validation.\n",
        "\n",
        "In each fold of this CV, divide your data into a training set and a test set. The training set should get sent through your code for Q4, resulting in a value of k to use. Using that k, calculate an accuracy on the test set. You will average the accuracy over all 5 folds to obtain the final accuracy measurement.\n",
        "\n",
        "Print the accuracy, the confusion matrix, and the precision and recall for class label 1 (patients that have been diagnosed with the disease)."
      ]
    },
    {
      "cell_type": "code",
      "execution_count": null,
      "id": "8a77f17b",
      "metadata": {
        "id": "8a77f17b",
        "colab": {
          "base_uri": "https://localhost:8080/",
          "height": 529
        },
        "outputId": "a63a50f4-9c10-4247-c83e-298f69e13f03"
      },
      "outputs": [
        {
          "output_type": "stream",
          "name": "stdout",
          "text": [
            "+++++++++++++++++++++++++++++++++++++++++++++++++++\n",
            "Beginning fold 1 of 5:\n",
            "Found bestk and accuracy of: 7 61.73913043478261\n",
            "+++++++++++++++++++++++++++++++++++++++++++++++++++\n",
            "Beginning fold 2 of 5:\n",
            "Found bestk and accuracy of: 5 62.17391304347826\n",
            "+++++++++++++++++++++++++++++++++++++++++++++++++++\n",
            "Beginning fold 3 of 5:\n",
            "Found bestk and accuracy of: 9 64.34782608695652\n",
            "+++++++++++++++++++++++++++++++++++++++++++++++++++\n",
            "Beginning fold 4 of 5:\n",
            "Found bestk and accuracy of: 9 59.56521739130435\n",
            "+++++++++++++++++++++++++++++++++++++++++++++++++++\n",
            "Beginning fold 5 of 5:\n",
            "Found bestk and accuracy of: 5 62.60869565217392\n",
            "+++++++++++++++++++++++++++++++++++++++++++++++++++\n",
            "\n",
            "Total time (seconds): 79.22004842758179\n",
            "\n",
            "Average accuracy: 62.086956521739125\n"
          ]
        },
        {
          "output_type": "display_data",
          "data": {
            "text/plain": [
              "          Predicted 1  Predicted 0\n",
              "Actual 1          363          248\n",
              "Actual 0          188          351"
            ],
            "text/html": [
              "\n",
              "  <div id=\"df-25256fbb-0cce-4f4d-b26d-942e10734c0a\">\n",
              "    <div class=\"colab-df-container\">\n",
              "      <div>\n",
              "<style scoped>\n",
              "    .dataframe tbody tr th:only-of-type {\n",
              "        vertical-align: middle;\n",
              "    }\n",
              "\n",
              "    .dataframe tbody tr th {\n",
              "        vertical-align: top;\n",
              "    }\n",
              "\n",
              "    .dataframe thead th {\n",
              "        text-align: right;\n",
              "    }\n",
              "</style>\n",
              "<table border=\"1\" class=\"dataframe\">\n",
              "  <thead>\n",
              "    <tr style=\"text-align: right;\">\n",
              "      <th></th>\n",
              "      <th>Predicted 1</th>\n",
              "      <th>Predicted 0</th>\n",
              "    </tr>\n",
              "  </thead>\n",
              "  <tbody>\n",
              "    <tr>\n",
              "      <th>Actual 1</th>\n",
              "      <td>363</td>\n",
              "      <td>248</td>\n",
              "    </tr>\n",
              "    <tr>\n",
              "      <th>Actual 0</th>\n",
              "      <td>188</td>\n",
              "      <td>351</td>\n",
              "    </tr>\n",
              "  </tbody>\n",
              "</table>\n",
              "</div>\n",
              "      <button class=\"colab-df-convert\" onclick=\"convertToInteractive('df-25256fbb-0cce-4f4d-b26d-942e10734c0a')\"\n",
              "              title=\"Convert this dataframe to an interactive table.\"\n",
              "              style=\"display:none;\">\n",
              "        \n",
              "  <svg xmlns=\"http://www.w3.org/2000/svg\" height=\"24px\"viewBox=\"0 0 24 24\"\n",
              "       width=\"24px\">\n",
              "    <path d=\"M0 0h24v24H0V0z\" fill=\"none\"/>\n",
              "    <path d=\"M18.56 5.44l.94 2.06.94-2.06 2.06-.94-2.06-.94-.94-2.06-.94 2.06-2.06.94zm-11 1L8.5 8.5l.94-2.06 2.06-.94-2.06-.94L8.5 2.5l-.94 2.06-2.06.94zm10 10l.94 2.06.94-2.06 2.06-.94-2.06-.94-.94-2.06-.94 2.06-2.06.94z\"/><path d=\"M17.41 7.96l-1.37-1.37c-.4-.4-.92-.59-1.43-.59-.52 0-1.04.2-1.43.59L10.3 9.45l-7.72 7.72c-.78.78-.78 2.05 0 2.83L4 21.41c.39.39.9.59 1.41.59.51 0 1.02-.2 1.41-.59l7.78-7.78 2.81-2.81c.8-.78.8-2.07 0-2.86zM5.41 20L4 18.59l7.72-7.72 1.47 1.35L5.41 20z\"/>\n",
              "  </svg>\n",
              "      </button>\n",
              "      \n",
              "  <style>\n",
              "    .colab-df-container {\n",
              "      display:flex;\n",
              "      flex-wrap:wrap;\n",
              "      gap: 12px;\n",
              "    }\n",
              "\n",
              "    .colab-df-convert {\n",
              "      background-color: #E8F0FE;\n",
              "      border: none;\n",
              "      border-radius: 50%;\n",
              "      cursor: pointer;\n",
              "      display: none;\n",
              "      fill: #1967D2;\n",
              "      height: 32px;\n",
              "      padding: 0 0 0 0;\n",
              "      width: 32px;\n",
              "    }\n",
              "\n",
              "    .colab-df-convert:hover {\n",
              "      background-color: #E2EBFA;\n",
              "      box-shadow: 0px 1px 2px rgba(60, 64, 67, 0.3), 0px 1px 3px 1px rgba(60, 64, 67, 0.15);\n",
              "      fill: #174EA6;\n",
              "    }\n",
              "\n",
              "    [theme=dark] .colab-df-convert {\n",
              "      background-color: #3B4455;\n",
              "      fill: #D2E3FC;\n",
              "    }\n",
              "\n",
              "    [theme=dark] .colab-df-convert:hover {\n",
              "      background-color: #434B5C;\n",
              "      box-shadow: 0px 1px 3px 1px rgba(0, 0, 0, 0.15);\n",
              "      filter: drop-shadow(0px 1px 2px rgba(0, 0, 0, 0.3));\n",
              "      fill: #FFFFFF;\n",
              "    }\n",
              "  </style>\n",
              "\n",
              "      <script>\n",
              "        const buttonEl =\n",
              "          document.querySelector('#df-25256fbb-0cce-4f4d-b26d-942e10734c0a button.colab-df-convert');\n",
              "        buttonEl.style.display =\n",
              "          google.colab.kernel.accessAllowed ? 'block' : 'none';\n",
              "\n",
              "        async function convertToInteractive(key) {\n",
              "          const element = document.querySelector('#df-25256fbb-0cce-4f4d-b26d-942e10734c0a');\n",
              "          const dataTable =\n",
              "            await google.colab.kernel.invokeFunction('convertToInteractive',\n",
              "                                                     [key], {});\n",
              "          if (!dataTable) return;\n",
              "\n",
              "          const docLinkHtml = 'Like what you see? Visit the ' +\n",
              "            '<a target=\"_blank\" href=https://colab.research.google.com/notebooks/data_table.ipynb>data table notebook</a>'\n",
              "            + ' to learn more about interactive tables.';\n",
              "          element.innerHTML = '';\n",
              "          dataTable['output_type'] = 'display_data';\n",
              "          await google.colab.output.renderOutput(dataTable, element);\n",
              "          const docLink = document.createElement('div');\n",
              "          docLink.innerHTML = docLinkHtml;\n",
              "          element.appendChild(docLink);\n",
              "        }\n",
              "      </script>\n",
              "    </div>\n",
              "  </div>\n",
              "  "
            ]
          },
          "metadata": {}
        },
        {
          "output_type": "stream",
          "name": "stdout",
          "text": [
            "precision: \n",
            " 0.6588021778584392\n",
            "recall: \n",
            " 0.5941080196399345\n"
          ]
        }
      ],
      "source": [
        "import time\n",
        "\n",
        "def run_CV():\n",
        "    # read in data\n",
        "    data = pd.read_csv('messidor_features.txt', header = None)\n",
        "    accuracy, TP, TN, FP, FN = 0, 0, 0, 0, 0\n",
        "    TP_temp, TN_temp, FP_temp, FN_temp = 0, 0, 0, 0\n",
        "    start_time = time.time()\n",
        "\n",
        "    # your code goes here\n",
        "    k_fold_start = 0\n",
        "    numfolds = 5\n",
        "    partition_length = int(data.shape[0]/numfolds)\n",
        "    folds_array = []\n",
        "    folds_array.append(data.iloc[0:partition_length])\n",
        "    sum = 0\n",
        "    for j in range (1, numfolds, 1):\n",
        "        folds_array.append(data.iloc[j*partition_length: (j+1)*partition_length])\n",
        "    # print(folds_array[0])\n",
        "    for n in range (numfolds):\n",
        "        train_set = []\n",
        "        test_set = []\n",
        "        for test in range (numfolds):\n",
        "            if test == n:\n",
        "                test_set = folds_array[test]\n",
        "            else:\n",
        "                train_set.append(folds_array[test])\n",
        "            # print(\"appending:\")\n",
        "            # print(folds_array[test])\n",
        "          # print(test_set)\n",
        "          # print(train_set)\n",
        "        print(\"+++++++++++++++++++++++++++++++++++++++++++++++++++\")\n",
        "        print(\"Beginning fold\",(n+1),\"of 5:\")\n",
        "        train_set = pd.concat(train_set)\n",
        "        k = find_best_k(train_set)\n",
        "        # train_norm, test_norm = normalize_data(train_set, test_set)\n",
        "        predictions = run_knn(train_set, test_set, k) # change 2, uncomment above and change to train norm test norm\n",
        "        accuracy, TP, TN, FP, FN = calc_accuracy(predictions, test_set)\n",
        "        TP_temp +=TP\n",
        "        TN_temp += TN\n",
        "        FP_temp += FP\n",
        "        FN_temp += FN\n",
        "\n",
        "        print(\"Found bestk and accuracy of:\", k, (accuracy*100))\n",
        "        sum += accuracy\n",
        "    print(\"+++++++++++++++++++++++++++++++++++++++++++++++++++\")\n",
        "    end_time = time.time()\n",
        "    print('\\nTotal time (seconds):', end_time - start_time)\n",
        "    avg_sum = float(sum/numfolds) * 100\n",
        "    print('\\nAverage accuracy:', avg_sum)\n",
        "    print_confusion_matrix(TP_temp, FN_temp, FP_temp, TN_temp)\n",
        "    precision = TP_temp/(TP_temp +FP_temp)\n",
        "    recall = TP_temp/(TP_temp+FN_temp)\n",
        "    print(\"precision: \\n\", precision)\n",
        "    print(\"recall: \\n\", recall)\n",
        "run_CV()"
      ]
    },
    {
      "cell_type": "code",
      "source": [
        "print(\"\\nQ4. find_best_k():\")\n",
        "\n",
        "# Re-read data (to un-do normalization)\n",
        "train_set = pd.read_csv(\"sample_train.txt\", header=None)\n",
        "test_set = pd.read_csv(\"sample_test.txt\", header=None)\n",
        "\n",
        "# find the best k on the training set\n",
        "# need to add printouts in find_best_k() to see results\n",
        "k = find_best_k(train_set)"
      ],
      "metadata": {
        "colab": {
          "base_uri": "https://localhost:8080/",
          "height": 415
        },
        "id": "xPioDYAK-Uis",
        "outputId": "5e61854b-e92f-430e-be6f-46ade8e54a3a"
      },
      "id": "xPioDYAK-Uis",
      "execution_count": null,
      "outputs": [
        {
          "output_type": "stream",
          "name": "stdout",
          "text": [
            "\n",
            "Q4. find_best_k():\n"
          ]
        },
        {
          "output_type": "error",
          "ename": "FileNotFoundError",
          "evalue": "ignored",
          "traceback": [
            "\u001b[0;31m---------------------------------------------------------------------------\u001b[0m",
            "\u001b[0;31mFileNotFoundError\u001b[0m                         Traceback (most recent call last)",
            "\u001b[0;32m<ipython-input-36-d327f69d26e4>\u001b[0m in \u001b[0;36m<module>\u001b[0;34m\u001b[0m\n\u001b[1;32m      2\u001b[0m \u001b[0;34m\u001b[0m\u001b[0m\n\u001b[1;32m      3\u001b[0m \u001b[0;31m# Re-read data (to un-do normalization)\u001b[0m\u001b[0;34m\u001b[0m\u001b[0;34m\u001b[0m\u001b[0;34m\u001b[0m\u001b[0m\n\u001b[0;32m----> 4\u001b[0;31m \u001b[0mtrain_set\u001b[0m \u001b[0;34m=\u001b[0m \u001b[0mpd\u001b[0m\u001b[0;34m.\u001b[0m\u001b[0mread_csv\u001b[0m\u001b[0;34m(\u001b[0m\u001b[0;34m\"sample_train.txt\"\u001b[0m\u001b[0;34m,\u001b[0m \u001b[0mheader\u001b[0m\u001b[0;34m=\u001b[0m\u001b[0;32mNone\u001b[0m\u001b[0;34m)\u001b[0m\u001b[0;34m\u001b[0m\u001b[0;34m\u001b[0m\u001b[0m\n\u001b[0m\u001b[1;32m      5\u001b[0m \u001b[0mtest_set\u001b[0m \u001b[0;34m=\u001b[0m \u001b[0mpd\u001b[0m\u001b[0;34m.\u001b[0m\u001b[0mread_csv\u001b[0m\u001b[0;34m(\u001b[0m\u001b[0;34m\"sample_test.txt\"\u001b[0m\u001b[0;34m,\u001b[0m \u001b[0mheader\u001b[0m\u001b[0;34m=\u001b[0m\u001b[0;32mNone\u001b[0m\u001b[0;34m)\u001b[0m\u001b[0;34m\u001b[0m\u001b[0;34m\u001b[0m\u001b[0m\n\u001b[1;32m      6\u001b[0m \u001b[0;34m\u001b[0m\u001b[0m\n",
            "\u001b[0;32m/usr/local/lib/python3.8/dist-packages/pandas/util/_decorators.py\u001b[0m in \u001b[0;36mwrapper\u001b[0;34m(*args, **kwargs)\u001b[0m\n\u001b[1;32m    309\u001b[0m                     \u001b[0mstacklevel\u001b[0m\u001b[0;34m=\u001b[0m\u001b[0mstacklevel\u001b[0m\u001b[0;34m,\u001b[0m\u001b[0;34m\u001b[0m\u001b[0;34m\u001b[0m\u001b[0m\n\u001b[1;32m    310\u001b[0m                 )\n\u001b[0;32m--> 311\u001b[0;31m             \u001b[0;32mreturn\u001b[0m \u001b[0mfunc\u001b[0m\u001b[0;34m(\u001b[0m\u001b[0;34m*\u001b[0m\u001b[0margs\u001b[0m\u001b[0;34m,\u001b[0m \u001b[0;34m**\u001b[0m\u001b[0mkwargs\u001b[0m\u001b[0;34m)\u001b[0m\u001b[0;34m\u001b[0m\u001b[0;34m\u001b[0m\u001b[0m\n\u001b[0m\u001b[1;32m    312\u001b[0m \u001b[0;34m\u001b[0m\u001b[0m\n\u001b[1;32m    313\u001b[0m         \u001b[0;32mreturn\u001b[0m \u001b[0mwrapper\u001b[0m\u001b[0;34m\u001b[0m\u001b[0;34m\u001b[0m\u001b[0m\n",
            "\u001b[0;32m/usr/local/lib/python3.8/dist-packages/pandas/io/parsers/readers.py\u001b[0m in \u001b[0;36mread_csv\u001b[0;34m(filepath_or_buffer, sep, delimiter, header, names, index_col, usecols, squeeze, prefix, mangle_dupe_cols, dtype, engine, converters, true_values, false_values, skipinitialspace, skiprows, skipfooter, nrows, na_values, keep_default_na, na_filter, verbose, skip_blank_lines, parse_dates, infer_datetime_format, keep_date_col, date_parser, dayfirst, cache_dates, iterator, chunksize, compression, thousands, decimal, lineterminator, quotechar, quoting, doublequote, escapechar, comment, encoding, encoding_errors, dialect, error_bad_lines, warn_bad_lines, on_bad_lines, delim_whitespace, low_memory, memory_map, float_precision, storage_options)\u001b[0m\n\u001b[1;32m    584\u001b[0m     \u001b[0mkwds\u001b[0m\u001b[0;34m.\u001b[0m\u001b[0mupdate\u001b[0m\u001b[0;34m(\u001b[0m\u001b[0mkwds_defaults\u001b[0m\u001b[0;34m)\u001b[0m\u001b[0;34m\u001b[0m\u001b[0;34m\u001b[0m\u001b[0m\n\u001b[1;32m    585\u001b[0m \u001b[0;34m\u001b[0m\u001b[0m\n\u001b[0;32m--> 586\u001b[0;31m     \u001b[0;32mreturn\u001b[0m \u001b[0m_read\u001b[0m\u001b[0;34m(\u001b[0m\u001b[0mfilepath_or_buffer\u001b[0m\u001b[0;34m,\u001b[0m \u001b[0mkwds\u001b[0m\u001b[0;34m)\u001b[0m\u001b[0;34m\u001b[0m\u001b[0;34m\u001b[0m\u001b[0m\n\u001b[0m\u001b[1;32m    587\u001b[0m \u001b[0;34m\u001b[0m\u001b[0m\n\u001b[1;32m    588\u001b[0m \u001b[0;34m\u001b[0m\u001b[0m\n",
            "\u001b[0;32m/usr/local/lib/python3.8/dist-packages/pandas/io/parsers/readers.py\u001b[0m in \u001b[0;36m_read\u001b[0;34m(filepath_or_buffer, kwds)\u001b[0m\n\u001b[1;32m    480\u001b[0m \u001b[0;34m\u001b[0m\u001b[0m\n\u001b[1;32m    481\u001b[0m     \u001b[0;31m# Create the parser.\u001b[0m\u001b[0;34m\u001b[0m\u001b[0;34m\u001b[0m\u001b[0;34m\u001b[0m\u001b[0m\n\u001b[0;32m--> 482\u001b[0;31m     \u001b[0mparser\u001b[0m \u001b[0;34m=\u001b[0m \u001b[0mTextFileReader\u001b[0m\u001b[0;34m(\u001b[0m\u001b[0mfilepath_or_buffer\u001b[0m\u001b[0;34m,\u001b[0m \u001b[0;34m**\u001b[0m\u001b[0mkwds\u001b[0m\u001b[0;34m)\u001b[0m\u001b[0;34m\u001b[0m\u001b[0;34m\u001b[0m\u001b[0m\n\u001b[0m\u001b[1;32m    483\u001b[0m \u001b[0;34m\u001b[0m\u001b[0m\n\u001b[1;32m    484\u001b[0m     \u001b[0;32mif\u001b[0m \u001b[0mchunksize\u001b[0m \u001b[0;32mor\u001b[0m \u001b[0miterator\u001b[0m\u001b[0;34m:\u001b[0m\u001b[0;34m\u001b[0m\u001b[0;34m\u001b[0m\u001b[0m\n",
            "\u001b[0;32m/usr/local/lib/python3.8/dist-packages/pandas/io/parsers/readers.py\u001b[0m in \u001b[0;36m__init__\u001b[0;34m(self, f, engine, **kwds)\u001b[0m\n\u001b[1;32m    809\u001b[0m             \u001b[0mself\u001b[0m\u001b[0;34m.\u001b[0m\u001b[0moptions\u001b[0m\u001b[0;34m[\u001b[0m\u001b[0;34m\"has_index_names\"\u001b[0m\u001b[0;34m]\u001b[0m \u001b[0;34m=\u001b[0m \u001b[0mkwds\u001b[0m\u001b[0;34m[\u001b[0m\u001b[0;34m\"has_index_names\"\u001b[0m\u001b[0;34m]\u001b[0m\u001b[0;34m\u001b[0m\u001b[0;34m\u001b[0m\u001b[0m\n\u001b[1;32m    810\u001b[0m \u001b[0;34m\u001b[0m\u001b[0m\n\u001b[0;32m--> 811\u001b[0;31m         \u001b[0mself\u001b[0m\u001b[0;34m.\u001b[0m\u001b[0m_engine\u001b[0m \u001b[0;34m=\u001b[0m \u001b[0mself\u001b[0m\u001b[0;34m.\u001b[0m\u001b[0m_make_engine\u001b[0m\u001b[0;34m(\u001b[0m\u001b[0mself\u001b[0m\u001b[0;34m.\u001b[0m\u001b[0mengine\u001b[0m\u001b[0;34m)\u001b[0m\u001b[0;34m\u001b[0m\u001b[0;34m\u001b[0m\u001b[0m\n\u001b[0m\u001b[1;32m    812\u001b[0m \u001b[0;34m\u001b[0m\u001b[0m\n\u001b[1;32m    813\u001b[0m     \u001b[0;32mdef\u001b[0m \u001b[0mclose\u001b[0m\u001b[0;34m(\u001b[0m\u001b[0mself\u001b[0m\u001b[0;34m)\u001b[0m\u001b[0;34m:\u001b[0m\u001b[0;34m\u001b[0m\u001b[0;34m\u001b[0m\u001b[0m\n",
            "\u001b[0;32m/usr/local/lib/python3.8/dist-packages/pandas/io/parsers/readers.py\u001b[0m in \u001b[0;36m_make_engine\u001b[0;34m(self, engine)\u001b[0m\n\u001b[1;32m   1038\u001b[0m             )\n\u001b[1;32m   1039\u001b[0m         \u001b[0;31m# error: Too many arguments for \"ParserBase\"\u001b[0m\u001b[0;34m\u001b[0m\u001b[0;34m\u001b[0m\u001b[0;34m\u001b[0m\u001b[0m\n\u001b[0;32m-> 1040\u001b[0;31m         \u001b[0;32mreturn\u001b[0m \u001b[0mmapping\u001b[0m\u001b[0;34m[\u001b[0m\u001b[0mengine\u001b[0m\u001b[0;34m]\u001b[0m\u001b[0;34m(\u001b[0m\u001b[0mself\u001b[0m\u001b[0;34m.\u001b[0m\u001b[0mf\u001b[0m\u001b[0;34m,\u001b[0m \u001b[0;34m**\u001b[0m\u001b[0mself\u001b[0m\u001b[0;34m.\u001b[0m\u001b[0moptions\u001b[0m\u001b[0;34m)\u001b[0m  \u001b[0;31m# type: ignore[call-arg]\u001b[0m\u001b[0;34m\u001b[0m\u001b[0;34m\u001b[0m\u001b[0m\n\u001b[0m\u001b[1;32m   1041\u001b[0m \u001b[0;34m\u001b[0m\u001b[0m\n\u001b[1;32m   1042\u001b[0m     \u001b[0;32mdef\u001b[0m \u001b[0m_failover_to_python\u001b[0m\u001b[0;34m(\u001b[0m\u001b[0mself\u001b[0m\u001b[0;34m)\u001b[0m\u001b[0;34m:\u001b[0m\u001b[0;34m\u001b[0m\u001b[0;34m\u001b[0m\u001b[0m\n",
            "\u001b[0;32m/usr/local/lib/python3.8/dist-packages/pandas/io/parsers/c_parser_wrapper.py\u001b[0m in \u001b[0;36m__init__\u001b[0;34m(self, src, **kwds)\u001b[0m\n\u001b[1;32m     49\u001b[0m \u001b[0;34m\u001b[0m\u001b[0m\n\u001b[1;32m     50\u001b[0m         \u001b[0;31m# open handles\u001b[0m\u001b[0;34m\u001b[0m\u001b[0;34m\u001b[0m\u001b[0;34m\u001b[0m\u001b[0m\n\u001b[0;32m---> 51\u001b[0;31m         \u001b[0mself\u001b[0m\u001b[0;34m.\u001b[0m\u001b[0m_open_handles\u001b[0m\u001b[0;34m(\u001b[0m\u001b[0msrc\u001b[0m\u001b[0;34m,\u001b[0m \u001b[0mkwds\u001b[0m\u001b[0;34m)\u001b[0m\u001b[0;34m\u001b[0m\u001b[0;34m\u001b[0m\u001b[0m\n\u001b[0m\u001b[1;32m     52\u001b[0m         \u001b[0;32massert\u001b[0m \u001b[0mself\u001b[0m\u001b[0;34m.\u001b[0m\u001b[0mhandles\u001b[0m \u001b[0;32mis\u001b[0m \u001b[0;32mnot\u001b[0m \u001b[0;32mNone\u001b[0m\u001b[0;34m\u001b[0m\u001b[0;34m\u001b[0m\u001b[0m\n\u001b[1;32m     53\u001b[0m \u001b[0;34m\u001b[0m\u001b[0m\n",
            "\u001b[0;32m/usr/local/lib/python3.8/dist-packages/pandas/io/parsers/base_parser.py\u001b[0m in \u001b[0;36m_open_handles\u001b[0;34m(self, src, kwds)\u001b[0m\n\u001b[1;32m    220\u001b[0m         \u001b[0mLet\u001b[0m \u001b[0mthe\u001b[0m \u001b[0mreaders\u001b[0m \u001b[0mopen\u001b[0m \u001b[0mIOHandles\u001b[0m \u001b[0mafter\u001b[0m \u001b[0mthey\u001b[0m \u001b[0mare\u001b[0m \u001b[0mdone\u001b[0m \u001b[0;32mwith\u001b[0m \u001b[0mtheir\u001b[0m \u001b[0mpotential\u001b[0m \u001b[0mraises\u001b[0m\u001b[0;34m.\u001b[0m\u001b[0;34m\u001b[0m\u001b[0;34m\u001b[0m\u001b[0m\n\u001b[1;32m    221\u001b[0m         \"\"\"\n\u001b[0;32m--> 222\u001b[0;31m         self.handles = get_handle(\n\u001b[0m\u001b[1;32m    223\u001b[0m             \u001b[0msrc\u001b[0m\u001b[0;34m,\u001b[0m\u001b[0;34m\u001b[0m\u001b[0;34m\u001b[0m\u001b[0m\n\u001b[1;32m    224\u001b[0m             \u001b[0;34m\"r\"\u001b[0m\u001b[0;34m,\u001b[0m\u001b[0;34m\u001b[0m\u001b[0;34m\u001b[0m\u001b[0m\n",
            "\u001b[0;32m/usr/local/lib/python3.8/dist-packages/pandas/io/common.py\u001b[0m in \u001b[0;36mget_handle\u001b[0;34m(path_or_buf, mode, encoding, compression, memory_map, is_text, errors, storage_options)\u001b[0m\n\u001b[1;32m    700\u001b[0m         \u001b[0;32mif\u001b[0m \u001b[0mioargs\u001b[0m\u001b[0;34m.\u001b[0m\u001b[0mencoding\u001b[0m \u001b[0;32mand\u001b[0m \u001b[0;34m\"b\"\u001b[0m \u001b[0;32mnot\u001b[0m \u001b[0;32min\u001b[0m \u001b[0mioargs\u001b[0m\u001b[0;34m.\u001b[0m\u001b[0mmode\u001b[0m\u001b[0;34m:\u001b[0m\u001b[0;34m\u001b[0m\u001b[0;34m\u001b[0m\u001b[0m\n\u001b[1;32m    701\u001b[0m             \u001b[0;31m# Encoding\u001b[0m\u001b[0;34m\u001b[0m\u001b[0;34m\u001b[0m\u001b[0;34m\u001b[0m\u001b[0m\n\u001b[0;32m--> 702\u001b[0;31m             handle = open(\n\u001b[0m\u001b[1;32m    703\u001b[0m                 \u001b[0mhandle\u001b[0m\u001b[0;34m,\u001b[0m\u001b[0;34m\u001b[0m\u001b[0;34m\u001b[0m\u001b[0m\n\u001b[1;32m    704\u001b[0m                 \u001b[0mioargs\u001b[0m\u001b[0;34m.\u001b[0m\u001b[0mmode\u001b[0m\u001b[0;34m,\u001b[0m\u001b[0;34m\u001b[0m\u001b[0;34m\u001b[0m\u001b[0m\n",
            "\u001b[0;31mFileNotFoundError\u001b[0m: [Errno 2] No such file or directory: 'sample_train.txt'"
          ]
        }
      ]
    },
    {
      "cell_type": "code",
      "source": [
        "print(\"\\nQ3. run_knn():\")\n",
        "# Re-read data (to un-do normalization)\n",
        "\n",
        "train_set = pd.read_csv(\"sample_train.txt\", header=None)\n",
        "test_set = pd.read_csv(\"sample_test.txt\", header=None)\n",
        "\n",
        "# need to add printouts to run_knn() to see results\n",
        "train_set, test_set = normalize_data(train_set, test_set)\n",
        "# print(\"train set \\n\", train_set)\n",
        "# print(\"test set \\n\", test_set)\n",
        "preds = run_knn(train_set, test_set, k=3)\n"
      ],
      "metadata": {
        "id": "lw_v2Pmzl0Yi"
      },
      "id": "lw_v2Pmzl0Yi",
      "execution_count": null,
      "outputs": []
    }
  ],
  "metadata": {
    "kernelspec": {
      "display_name": "Python 3 (ipykernel)",
      "language": "python",
      "name": "python3"
    },
    "language_info": {
      "codemirror_mode": {
        "name": "ipython",
        "version": 3
      },
      "file_extension": ".py",
      "mimetype": "text/x-python",
      "name": "python",
      "nbconvert_exporter": "python",
      "pygments_lexer": "ipython3",
      "version": "3.9.12"
    },
    "colab": {
      "provenance": []
    }
  },
  "nbformat": 4,
  "nbformat_minor": 5
}